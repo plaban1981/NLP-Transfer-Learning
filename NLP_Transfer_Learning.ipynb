{
  "nbformat": 4,
  "nbformat_minor": 0,
  "metadata": {
    "colab": {
      "name": "NLP_Transfer_Learning.ipynb",
      "provenance": [],
      "authorship_tag": "ABX9TyOtlTcFw3SdnQTsIOKZFQ7S",
      "include_colab_link": true
    },
    "kernelspec": {
      "name": "python3",
      "display_name": "Python 3"
    },
    "accelerator": "GPU"
  },
  "cells": [
    {
      "cell_type": "markdown",
      "metadata": {
        "id": "view-in-github",
        "colab_type": "text"
      },
      "source": [
        "<a href=\"https://colab.research.google.com/github/plaban1981/NLP-Transfer-Learning/blob/master/NLP_Transfer_Learning.ipynb\" target=\"_parent\"><img src=\"https://colab.research.google.com/assets/colab-badge.svg\" alt=\"Open In Colab\"/></a>"
      ]
    },
    {
      "cell_type": "markdown",
      "metadata": {
        "id": "lpfTMYkIKrkD",
        "colab_type": "text"
      },
      "source": [
        "# Intution : how transfer learning can be applied to NLP task"
      ]
    },
    {
      "cell_type": "code",
      "metadata": {
        "id": "ROhqx7jLKIcP",
        "colab_type": "code",
        "colab": {}
      },
      "source": [
        "import os\n",
        "import time\n",
        "import numpy as np\n",
        "import tensorflow as tf\n",
        "import tensorflow_datasets as tfds\n",
        "import tensorflow_hub as hub"
      ],
      "execution_count": 0,
      "outputs": []
    },
    {
      "cell_type": "markdown",
      "metadata": {
        "id": "GLw6h-ufM5dp",
        "colab_type": "text"
      },
      "source": [
        "In conventional NLP task we perform the followings task\n",
        "\n",
        "1. Text Preprocessing\n",
        "\n",
        "2. Tokenization\n",
        "\n",
        "3. Normalize data using steeming/lemmatization\n",
        "\n",
        "4. Create an embedding vector\n",
        "\n",
        "5.  Develop the final model\n",
        "\n",
        "Rather than doing all these steps is there an easy way out where in we just feed the incoming texts and a pretrianed Model takes care of the subsequent processes?\n"
      ]
    },
    {
      "cell_type": "code",
      "metadata": {
        "id": "xFG0f9srN5E2",
        "colab_type": "code",
        "colab": {}
      },
      "source": [
        "dataset , info = tfds.load('amazon_us_reviews/Personal_Care_Appliances_v1_00',with_info=True,split=('train[:70%]','train[70%:85%]','train[85%:]'))"
      ],
      "execution_count": 0,
      "outputs": []
    },
    {
      "cell_type": "code",
      "metadata": {
        "id": "bHGm8X6gO4yy",
        "colab_type": "code",
        "colab": {
          "base_uri": "https://localhost:8080/",
          "height": 972
        },
        "outputId": "5617bedd-6536-4192-fc8c-6c28f8886bd8"
      },
      "source": [
        "print(info)"
      ],
      "execution_count": 6,
      "outputs": [
        {
          "output_type": "stream",
          "text": [
            "tfds.core.DatasetInfo(\n",
            "    name='amazon_us_reviews',\n",
            "    version=0.1.0,\n",
            "    description='Amazon Customer Reviews (a.k.a. Product Reviews) is one of Amazons iconic products. In a period of over two decades since the first review in 1995, millions of Amazon customers have contributed over a hundred million reviews to express opinions and describe their experiences regarding products on the Amazon.com website. This makes Amazon Customer Reviews a rich source of information for academic researchers in the fields of Natural Language Processing (NLP), Information Retrieval (IR), and Machine Learning (ML), amongst others. Accordingly, we are releasing this data to further research in multiple disciplines related to understanding customer product experiences. Specifically, this dataset was constructed to represent a sample of customer evaluations and opinions, variation in the perception of a product across geographical regions, and promotional intent or bias in reviews.\n",
            "\n",
            "Over 130+ million customer reviews are available to researchers as part of this release. The data is available in TSV files in the amazon-reviews-pds S3 bucket in AWS US East Region. Each line in the data files corresponds to an individual review (tab delimited, with no quote and escape characters).\n",
            "\n",
            "Each Dataset contains the following columns : \n",
            "  marketplace       - 2 letter country code of the marketplace where the review was written.\n",
            "  customer_id       - Random identifier that can be used to aggregate reviews written by a single author.\n",
            "  review_id         - The unique ID of the review.\n",
            "  product_id        - The unique Product ID the review pertains to. In the multilingual dataset the reviews\n",
            "                      for the same product in different countries can be grouped by the same product_id.\n",
            "  product_parent    - Random identifier that can be used to aggregate reviews for the same product.\n",
            "  product_title     - Title of the product.\n",
            "  product_category  - Broad product category that can be used to group reviews \n",
            "                      (also used to group the dataset into coherent parts).\n",
            "  star_rating       - The 1-5 star rating of the review.\n",
            "  helpful_votes     - Number of helpful votes.\n",
            "  total_votes       - Number of total votes the review received.\n",
            "  vine              - Review was written as part of the Vine program.\n",
            "  verified_purchase - The review is on a verified purchase.\n",
            "  review_headline   - The title of the review.\n",
            "  review_body       - The review text.\n",
            "  review_date       - The date the review was written.\n",
            "',\n",
            "    homepage='https://s3.amazonaws.com/amazon-reviews-pds/readme.html',\n",
            "    features=FeaturesDict({\n",
            "        'data': FeaturesDict({\n",
            "            'customer_id': tf.string,\n",
            "            'helpful_votes': tf.int32,\n",
            "            'marketplace': tf.string,\n",
            "            'product_category': tf.string,\n",
            "            'product_id': tf.string,\n",
            "            'product_parent': tf.string,\n",
            "            'product_title': tf.string,\n",
            "            'review_body': tf.string,\n",
            "            'review_date': tf.string,\n",
            "            'review_headline': tf.string,\n",
            "            'review_id': tf.string,\n",
            "            'star_rating': tf.int32,\n",
            "            'total_votes': tf.int32,\n",
            "            'verified_purchase': ClassLabel(shape=(), dtype=tf.int64, num_classes=2),\n",
            "            'vine': ClassLabel(shape=(), dtype=tf.int64, num_classes=2),\n",
            "        }),\n",
            "    }),\n",
            "    total_num_examples=85981,\n",
            "    splits={\n",
            "        'train': 85981,\n",
            "    },\n",
            "    supervised_keys=None,\n",
            "    citation=\"\"\"\"\"\",\n",
            "    redistribution_info=,\n",
            ")\n",
            "\n"
          ],
          "name": "stdout"
        }
      ]
    },
    {
      "cell_type": "markdown",
      "metadata": {
        "id": "VVRnfnIDrEq7",
        "colab_type": "text"
      },
      "source": [
        "# Consuming data"
      ]
    },
    {
      "cell_type": "markdown",
      "metadata": {
        "id": "NeGk_m2DQ2Bv",
        "colab_type": "text"
      },
      "source": [
        "*Retrieve Train ing,validation and test sets*"
      ]
    },
    {
      "cell_type": "code",
      "metadata": {
        "id": "ZDNZyjnNQrR9",
        "colab_type": "code",
        "colab": {}
      },
      "source": [
        "train = dataset[0]\n",
        "test = dataset[1]\n",
        "validation = dataset[2]"
      ],
      "execution_count": 0,
      "outputs": []
    },
    {
      "cell_type": "code",
      "metadata": {
        "id": "w1X32URKREtT",
        "colab_type": "code",
        "colab": {
          "base_uri": "https://localhost:8080/",
          "height": 122
        },
        "outputId": "44839a9f-6d24-476e-9fe4-62d0fcb1d342"
      },
      "source": [
        "for reviews in train.take(5):\n",
        "  print(reviews['data'])"
      ],
      "execution_count": 78,
      "outputs": [
        {
          "output_type": "stream",
          "text": [
            "{'customer_id': <tf.Tensor: shape=(), dtype=string, numpy=b'13986323'>, 'helpful_votes': <tf.Tensor: shape=(), dtype=int32, numpy=0>, 'marketplace': <tf.Tensor: shape=(), dtype=string, numpy=b'US'>, 'product_category': <tf.Tensor: shape=(), dtype=string, numpy=b'Personal_Care_Appliances'>, 'product_id': <tf.Tensor: shape=(), dtype=string, numpy=b'B00847JQZ6'>, 'product_parent': <tf.Tensor: shape=(), dtype=string, numpy=b'997683625'>, 'product_title': <tf.Tensor: shape=(), dtype=string, numpy=b'SE - Reading Glass - Spring Loaded Hinges, 4.0x - RTS62400'>, 'review_body': <tf.Tensor: shape=(), dtype=string, numpy=b\"These glasses are an excellent value.  The fit is good and they are very comfortable.  Because of my legal blindness, there aren't a lot of options to try to see better, but I believe these help with my other visual aids, and because they are reasonably priced I can have more than one pair available.\">, 'review_date': <tf.Tensor: shape=(), dtype=string, numpy=b'2015-01-04'>, 'review_headline': <tf.Tensor: shape=(), dtype=string, numpy=b'These glasses are an excellent value. The fit is good and they are ...'>, 'review_id': <tf.Tensor: shape=(), dtype=string, numpy=b'R3VEUFVA9QJY55'>, 'star_rating': <tf.Tensor: shape=(), dtype=int32, numpy=4>, 'total_votes': <tf.Tensor: shape=(), dtype=int32, numpy=0>, 'verified_purchase': <tf.Tensor: shape=(), dtype=int64, numpy=0>, 'vine': <tf.Tensor: shape=(), dtype=int64, numpy=1>}\n",
            "{'customer_id': <tf.Tensor: shape=(), dtype=string, numpy=b'50574716'>, 'helpful_votes': <tf.Tensor: shape=(), dtype=int32, numpy=3>, 'marketplace': <tf.Tensor: shape=(), dtype=string, numpy=b'US'>, 'product_category': <tf.Tensor: shape=(), dtype=string, numpy=b'Personal_Care_Appliances'>, 'product_id': <tf.Tensor: shape=(), dtype=string, numpy=b'B00N5HD340'>, 'product_parent': <tf.Tensor: shape=(), dtype=string, numpy=b'955577225'>, 'product_title': <tf.Tensor: shape=(), dtype=string, numpy=b'Straight Razor'>, 'review_body': <tf.Tensor: shape=(), dtype=string, numpy=b\"Always wanted to try straight razor shaving (as a DE safety razor user), and this was a cheap way for me to determine I was not into it.<br /><br />Because the blades are disposable and always sharp, I could put a new one in and reasonably rely upon that fact that cuts were probably due to my technique and not the blade.<br /><br />It's very hard to do straight razor shaving on yourself because the ANGLE is difficult to control without switching hands. Being very right-handed, I really couldn't do that. I bet I could shave someone else's face with it though.<br /><br />An immediate upside? Using a DE safety razor (slant edged even) seems SUPER safe now! I'm increased my speed with the DE due to that confidence, and I'd been using it for years now.\">, 'review_date': <tf.Tensor: shape=(), dtype=string, numpy=b'2015-08-05'>, 'review_headline': <tf.Tensor: shape=(), dtype=string, numpy=b'A fantastic way to cheaply try straight razor shaving.'>, 'review_id': <tf.Tensor: shape=(), dtype=string, numpy=b'R2DTQV5SMJ0CK7'>, 'star_rating': <tf.Tensor: shape=(), dtype=int32, numpy=5>, 'total_votes': <tf.Tensor: shape=(), dtype=int32, numpy=3>, 'verified_purchase': <tf.Tensor: shape=(), dtype=int64, numpy=0>, 'vine': <tf.Tensor: shape=(), dtype=int64, numpy=1>}\n",
            "{'customer_id': <tf.Tensor: shape=(), dtype=string, numpy=b'50593972'>, 'helpful_votes': <tf.Tensor: shape=(), dtype=int32, numpy=0>, 'marketplace': <tf.Tensor: shape=(), dtype=string, numpy=b'US'>, 'product_category': <tf.Tensor: shape=(), dtype=string, numpy=b'Personal_Care_Appliances'>, 'product_id': <tf.Tensor: shape=(), dtype=string, numpy=b'B0077L1X24'>, 'product_parent': <tf.Tensor: shape=(), dtype=string, numpy=b'120764066'>, 'product_title': <tf.Tensor: shape=(), dtype=string, numpy=b'Philips Sonicare Flexcare & Healthy White Plastic Travel Handle Case New Bulk Package'>, 'review_body': <tf.Tensor: shape=(), dtype=string, numpy=b'I usually either throw my toothbrush in a plastic bag with spare head so this product is very convenient for keeping all the parts apart, dry and undamaged, and i now keep it in my travel bag all the time ready to go.'>, 'review_date': <tf.Tensor: shape=(), dtype=string, numpy=b'2012-11-17'>, 'review_headline': <tf.Tensor: shape=(), dtype=string, numpy=b'Great for travel'>, 'review_id': <tf.Tensor: shape=(), dtype=string, numpy=b'R3OJ06NK99WLNJ'>, 'star_rating': <tf.Tensor: shape=(), dtype=int32, numpy=4>, 'total_votes': <tf.Tensor: shape=(), dtype=int32, numpy=0>, 'verified_purchase': <tf.Tensor: shape=(), dtype=int64, numpy=0>, 'vine': <tf.Tensor: shape=(), dtype=int64, numpy=1>}\n",
            "{'customer_id': <tf.Tensor: shape=(), dtype=string, numpy=b'18935813'>, 'helpful_votes': <tf.Tensor: shape=(), dtype=int32, numpy=0>, 'marketplace': <tf.Tensor: shape=(), dtype=string, numpy=b'US'>, 'product_category': <tf.Tensor: shape=(), dtype=string, numpy=b'Personal_Care_Appliances'>, 'product_id': <tf.Tensor: shape=(), dtype=string, numpy=b'B001CHCQ9I'>, 'product_parent': <tf.Tensor: shape=(), dtype=string, numpy=b'830133534'>, 'product_title': <tf.Tensor: shape=(), dtype=string, numpy=b'Massage Table Sheet Set - Poly/cotton'>, 'review_body': <tf.Tensor: shape=(), dtype=string, numpy=b'Top quality.'>, 'review_date': <tf.Tensor: shape=(), dtype=string, numpy=b'2014-12-22'>, 'review_headline': <tf.Tensor: shape=(), dtype=string, numpy=b'Five Stars'>, 'review_id': <tf.Tensor: shape=(), dtype=string, numpy=b'R3B4JKHR1KTI7J'>, 'star_rating': <tf.Tensor: shape=(), dtype=int32, numpy=5>, 'total_votes': <tf.Tensor: shape=(), dtype=int32, numpy=0>, 'verified_purchase': <tf.Tensor: shape=(), dtype=int64, numpy=0>, 'vine': <tf.Tensor: shape=(), dtype=int64, numpy=1>}\n",
            "{'customer_id': <tf.Tensor: shape=(), dtype=string, numpy=b'48412788'>, 'helpful_votes': <tf.Tensor: shape=(), dtype=int32, numpy=1>, 'marketplace': <tf.Tensor: shape=(), dtype=string, numpy=b'US'>, 'product_category': <tf.Tensor: shape=(), dtype=string, numpy=b'Personal_Care_Appliances'>, 'product_id': <tf.Tensor: shape=(), dtype=string, numpy=b'B0016BJS2S'>, 'product_parent': <tf.Tensor: shape=(), dtype=string, numpy=b'925685259'>, 'product_title': <tf.Tensor: shape=(), dtype=string, numpy=b'TRIMEDICA, AlkaMax pH Plus Liquid - 1 oz'>, 'review_body': <tf.Tensor: shape=(), dtype=string, numpy=b'Today I received  1 Fl. Oz, Natures Balance AlkaMAX alkaline booster liquid unflavored (formally TriMedica) a glass brown bottle with eye dropper.<br />Supplement Facts; Serving Size: 10 Drops (Approx. 0.5 mL). Servings per Container: Approx. 60<br />Amount Per Serving % Daily Value<br />Magnesium (as Magnesium Chloride) 40 mg 10%<br />Chloride (as Magnesium Chloride) 64 mg 2%<br />Other Ingredients: Deionized water and trace mineral complex.<br />Directions: Add 10 drops to 8 oz. of water or other beverage daily as needed or as directed by your health care practitioner. Store in a cool, dry place.<br /><br />I have not used product as of yet with changed ingredients of original/as shown in AlkaMax alkaline support white squeeze bottle.<br />but had to rate to post...heck this new may be better for all I know.'>, 'review_date': <tf.Tensor: shape=(), dtype=string, numpy=b'2014-06-11'>, 'review_headline': <tf.Tensor: shape=(), dtype=string, numpy=b'*Product sent not as shown'>, 'review_id': <tf.Tensor: shape=(), dtype=string, numpy=b'R3H50GB2FS0QPC'>, 'star_rating': <tf.Tensor: shape=(), dtype=int32, numpy=3>, 'total_votes': <tf.Tensor: shape=(), dtype=int32, numpy=1>, 'verified_purchase': <tf.Tensor: shape=(), dtype=int64, numpy=0>, 'vine': <tf.Tensor: shape=(), dtype=int64, numpy=1>}\n"
          ],
          "name": "stdout"
        }
      ]
    },
    {
      "cell_type": "code",
      "metadata": {
        "id": "zXs1NSmLRGXA",
        "colab_type": "code",
        "colab": {}
      },
      "source": [
        "@tf.function\n",
        "def target(x):\n",
        "  if x > 3:\n",
        "    return 1\n",
        "  else:\n",
        "    return 0\n",
        "# @tf.function compile this function into a callable tensorflow graph"
      ],
      "execution_count": 0,
      "outputs": []
    },
    {
      "cell_type": "markdown",
      "metadata": {
        "id": "irwS8jZWVZJd",
        "colab_type": "text"
      },
      "source": [
        "# Formating the reviews data and corresponding labels\n",
        "\n",
        "* reviews-text - review_body\n",
        "* rating - star_rating"
      ]
    },
    {
      "cell_type": "code",
      "metadata": {
        "id": "5VKewZLrUm2x",
        "colab_type": "code",
        "colab": {
          "base_uri": "https://localhost:8080/",
          "height": 292
        },
        "outputId": "e71e3938-523b-4076-9c4d-8b0c0f1a72df"
      },
      "source": [
        "for reviews in train.take(5):\n",
        "  review_text = reviews['data']\n",
        "  print(review_text.get('review_body').numpy())\n",
        "  star_rating = review_text.get('star_rating')\n",
        "  print(star_rating)\n",
        "  print(target(star_rating).numpy())"
      ],
      "execution_count": 80,
      "outputs": [
        {
          "output_type": "stream",
          "text": [
            "b\"These glasses are an excellent value.  The fit is good and they are very comfortable.  Because of my legal blindness, there aren't a lot of options to try to see better, but I believe these help with my other visual aids, and because they are reasonably priced I can have more than one pair available.\"\n",
            "tf.Tensor(4, shape=(), dtype=int32)\n",
            "1\n",
            "b\"Always wanted to try straight razor shaving (as a DE safety razor user), and this was a cheap way for me to determine I was not into it.<br /><br />Because the blades are disposable and always sharp, I could put a new one in and reasonably rely upon that fact that cuts were probably due to my technique and not the blade.<br /><br />It's very hard to do straight razor shaving on yourself because the ANGLE is difficult to control without switching hands. Being very right-handed, I really couldn't do that. I bet I could shave someone else's face with it though.<br /><br />An immediate upside? Using a DE safety razor (slant edged even) seems SUPER safe now! I'm increased my speed with the DE due to that confidence, and I'd been using it for years now.\"\n",
            "tf.Tensor(5, shape=(), dtype=int32)\n",
            "1\n",
            "b'I usually either throw my toothbrush in a plastic bag with spare head so this product is very convenient for keeping all the parts apart, dry and undamaged, and i now keep it in my travel bag all the time ready to go.'\n",
            "tf.Tensor(4, shape=(), dtype=int32)\n",
            "1\n",
            "b'Top quality.'\n",
            "tf.Tensor(5, shape=(), dtype=int32)\n",
            "1\n",
            "b'Today I received  1 Fl. Oz, Natures Balance AlkaMAX alkaline booster liquid unflavored (formally TriMedica) a glass brown bottle with eye dropper.<br />Supplement Facts; Serving Size: 10 Drops (Approx. 0.5 mL). Servings per Container: Approx. 60<br />Amount Per Serving % Daily Value<br />Magnesium (as Magnesium Chloride) 40 mg 10%<br />Chloride (as Magnesium Chloride) 64 mg 2%<br />Other Ingredients: Deionized water and trace mineral complex.<br />Directions: Add 10 drops to 8 oz. of water or other beverage daily as needed or as directed by your health care practitioner. Store in a cool, dry place.<br /><br />I have not used product as of yet with changed ingredients of original/as shown in AlkaMax alkaline support white squeeze bottle.<br />but had to rate to post...heck this new may be better for all I know.'\n",
            "tf.Tensor(3, shape=(), dtype=int32)\n",
            "0\n"
          ],
          "name": "stdout"
        }
      ]
    },
    {
      "cell_type": "markdown",
      "metadata": {
        "id": "cQFXfSowXK4R",
        "colab_type": "text"
      },
      "source": [
        "# Function to take tensor object and retrieve text and label"
      ]
    },
    {
      "cell_type": "code",
      "metadata": {
        "id": "8B-J3F_FVU8c",
        "colab_type": "code",
        "colab": {}
      },
      "source": [
        "def fetch(tensor):\n",
        "  text = tensor['data'].get('review_body')\n",
        "  label = target(tensor['data'].get('star_rating'))\n",
        "  return text,label"
      ],
      "execution_count": 0,
      "outputs": []
    },
    {
      "cell_type": "markdown",
      "metadata": {
        "id": "Xpk6aNvrYbbI",
        "colab_type": "text"
      },
      "source": [
        "# apply the function on the sample dataset"
      ]
    },
    {
      "cell_type": "code",
      "metadata": {
        "id": "4rZLpCO-XsG_",
        "colab_type": "code",
        "colab": {}
      },
      "source": [
        "train_data_f = dataset[0].map(fetch)\n",
        "test_data_f = dataset[1].map(fetch)\n",
        "val_data_f = dataset[2].map(fetch)"
      ],
      "execution_count": 0,
      "outputs": []
    },
    {
      "cell_type": "code",
      "metadata": {
        "id": "oiytC4vDhBzf",
        "colab_type": "code",
        "colab": {
          "base_uri": "https://localhost:8080/",
          "height": 34
        },
        "outputId": "2d80ff9c-ee62-404c-8ec8-4fbfc0b2aa23"
      },
      "source": [
        "train_data_f "
      ],
      "execution_count": 83,
      "outputs": [
        {
          "output_type": "execute_result",
          "data": {
            "text/plain": [
              "<DatasetV1Adapter shapes: ((), ()), types: (tf.string, tf.int32)>"
            ]
          },
          "metadata": {
            "tags": []
          },
          "execution_count": 83
        }
      ]
    },
    {
      "cell_type": "code",
      "metadata": {
        "id": "C3oEp9ExX50x",
        "colab_type": "code",
        "colab": {}
      },
      "source": [
        "train_data, train_labels = next(iter(train_data.batch(50)))"
      ],
      "execution_count": 0,
      "outputs": []
    },
    {
      "cell_type": "markdown",
      "metadata": {
        "id": "MlB_yfhiZBFD",
        "colab_type": "text"
      },
      "source": [
        "# fetch a pretrained moel from tensorflow hub - Token based text embedding trained on English Google News 200B corpus."
      ]
    },
    {
      "cell_type": "markdown",
      "metadata": {
        "id": "pSP36AWichGs",
        "colab_type": "text"
      },
      "source": [
        "Takes as input a 1D tensor\n",
        "\n",
        "take input split it based on spaces\n",
        "\n",
        "return individual embedding for individual word and combine it into a sentence emdedding and return the value"
      ]
    },
    {
      "cell_type": "code",
      "metadata": {
        "id": "9z3JzJ7BYmNT",
        "colab_type": "code",
        "colab": {
          "base_uri": "https://localhost:8080/",
          "height": 765
        },
        "outputId": "556f48b7-e99a-4d24-ade2-844bee44efca"
      },
      "source": [
        "embedding = \"https://tfhub.dev/google/nnlm-en-dim128/2\"\n",
        "hub_layer = hub.KerasLayer(embedding,input_shape=[],dtype=tf.string,trainable=True) # return Sentence embedding\n",
        "hub_layer(train_data[:1])"
      ],
      "execution_count": 84,
      "outputs": [
        {
          "output_type": "execute_result",
          "data": {
            "text/plain": [
              "<tf.Tensor: shape=(1, 128), dtype=float32, numpy=\n",
              "array([[ 9.08966899e-01, -3.92715633e-02,  2.30431050e-01,\n",
              "         3.50282967e-01,  1.77038979e-04, -7.16442168e-02,\n",
              "        -2.96347905e-02, -1.65321141e-01, -1.76558182e-01,\n",
              "         1.45377725e-01, -1.37284935e-01, -1.85801834e-01,\n",
              "        -1.52072802e-01, -2.10003346e-01,  1.26340222e-02,\n",
              "        -4.82303537e-02, -2.94979401e-02,  1.18068270e-02,\n",
              "        -2.28926703e-01,  3.83403301e-01,  2.15362415e-01,\n",
              "        -1.86364371e-02, -1.61504507e-01,  2.66199224e-02,\n",
              "         3.58809414e-03, -1.77836776e-01,  1.60982013e-01,\n",
              "        -3.79788391e-02,  2.93056052e-02, -1.47457393e-02,\n",
              "        -5.37362974e-03,  1.12550780e-01,  2.18634501e-01,\n",
              "        -2.98036665e-01,  3.06068927e-01,  1.51045108e-02,\n",
              "        -8.92712921e-02, -9.56266969e-02, -6.81300387e-02,\n",
              "         2.99906552e-01,  9.61523782e-03, -1.55273601e-01,\n",
              "        -8.90835896e-02, -2.39175022e-01,  9.74332169e-02,\n",
              "         1.93529993e-01, -1.15207426e-01, -1.61249265e-01,\n",
              "        -2.03532904e-01,  7.78795704e-02,  1.15525372e-01,\n",
              "         1.95952579e-01,  6.56706244e-02,  4.24273908e-02,\n",
              "        -1.49028271e-01, -1.82285458e-01,  8.56245905e-02,\n",
              "        -1.80168495e-01,  1.61927342e-01,  1.01915903e-01,\n",
              "        -9.48133916e-02,  2.82769471e-01,  5.52067570e-02,\n",
              "        -2.23231107e-01, -8.35214928e-02,  1.49668425e-01,\n",
              "        -1.07613742e-01, -6.24710955e-02,  1.46024957e-01,\n",
              "         6.38639629e-02, -1.44158602e-01,  4.31592427e-02,\n",
              "         3.97978425e-02, -1.10535949e-01,  1.98736265e-01,\n",
              "         1.09221272e-01, -1.64231032e-01, -1.51045948e-01,\n",
              "         5.13799209e-03, -2.11235192e-02,  1.44975200e-01,\n",
              "         3.74500304e-02, -6.84392289e-04,  4.62242477e-02,\n",
              "         2.54465360e-02,  4.58021350e-02, -6.64542988e-02,\n",
              "         2.13458806e-01,  5.13973296e-01,  3.63620669e-01,\n",
              "        -2.57370979e-01,  1.20063551e-01,  2.47870069e-02,\n",
              "        -6.44264892e-02,  1.24772608e-01,  2.42022946e-02,\n",
              "        -1.31894454e-01, -5.92044853e-02, -1.89694673e-01,\n",
              "         2.80460387e-01,  6.03425279e-02,  5.75038306e-02,\n",
              "         3.10955942e-01,  1.65270254e-01,  1.82187948e-02,\n",
              "        -2.17869833e-01, -1.09791376e-01,  4.10775021e-02,\n",
              "        -2.05604553e-01,  7.18148649e-02, -3.58167022e-01,\n",
              "        -5.61950877e-02, -2.78220147e-01, -5.02635352e-02,\n",
              "        -4.38480563e-02, -1.50268167e-01,  3.93730169e-03,\n",
              "         2.94381958e-02, -1.01723805e-01,  1.91017538e-02,\n",
              "         9.11452547e-02, -4.84056659e-02, -5.52208573e-02,\n",
              "         1.17131487e-01,  1.94384933e-01, -1.13355882e-01,\n",
              "        -2.64385343e-01,  2.56046541e-02]], dtype=float32)>"
            ]
          },
          "metadata": {
            "tags": []
          },
          "execution_count": 84
        }
      ]
    },
    {
      "cell_type": "markdown",
      "metadata": {
        "id": "9xPI7joNdgiA",
        "colab_type": "text"
      },
      "source": [
        "Create a Keras Sequential model for classification"
      ]
    },
    {
      "cell_type": "code",
      "metadata": {
        "id": "VF4xDO8mb1kL",
        "colab_type": "code",
        "colab": {
          "base_uri": "https://localhost:8080/",
          "height": 357
        },
        "outputId": "7842b6cd-07de-4ccb-d822-0b28f10c6b3f"
      },
      "source": [
        "model = tf.keras.Sequential()\n",
        "model.add(hub_layer) # add the pretrained model base\n",
        "model.add(tf.keras.layers.Dense(32,activation='relu'))\n",
        "model.add(tf.keras.layers.Dropout(0.2))\n",
        "model.add(tf.keras.layers.Dense(16,activation='relu'))\n",
        "model.add(tf.keras.layers.Dropout(0.2))\n",
        "model.add(tf.keras.layers.Dense(1,activation='sigmoid'))\n",
        "model.summary()"
      ],
      "execution_count": 85,
      "outputs": [
        {
          "output_type": "stream",
          "text": [
            "Model: \"sequential_5\"\n",
            "_________________________________________________________________\n",
            "Layer (type)                 Output Shape              Param #   \n",
            "=================================================================\n",
            "keras_layer_7 (KerasLayer)   (None, 128)               124642688 \n",
            "_________________________________________________________________\n",
            "dense_9 (Dense)              (None, 32)                4128      \n",
            "_________________________________________________________________\n",
            "dropout_5 (Dropout)          (None, 32)                0         \n",
            "_________________________________________________________________\n",
            "dense_10 (Dense)             (None, 16)                528       \n",
            "_________________________________________________________________\n",
            "dropout_6 (Dropout)          (None, 16)                0         \n",
            "_________________________________________________________________\n",
            "dense_11 (Dense)             (None, 1)                 17        \n",
            "=================================================================\n",
            "Total params: 124,647,361\n",
            "Trainable params: 124,647,361\n",
            "Non-trainable params: 0\n",
            "_________________________________________________________________\n"
          ],
          "name": "stdout"
        }
      ]
    },
    {
      "cell_type": "markdown",
      "metadata": {
        "id": "ZuYXyiZsdzn6",
        "colab_type": "text"
      },
      "source": [
        "#compile the model"
      ]
    },
    {
      "cell_type": "code",
      "metadata": {
        "id": "WWJCRO97d1XC",
        "colab_type": "code",
        "colab": {}
      },
      "source": [
        "model.compile(optimizer='adam',loss=tf.keras.losses.BinaryCrossentropy(from_logits=True),metrics=['accuracy'])"
      ],
      "execution_count": 0,
      "outputs": []
    },
    {
      "cell_type": "markdown",
      "metadata": {
        "id": "Wi63SRISfbOt",
        "colab_type": "text"
      },
      "source": [
        "# Shuffle the data and create a batch of 512 vectors"
      ]
    },
    {
      "cell_type": "code",
      "metadata": {
        "id": "KnzpRyBHeUGT",
        "colab_type": "code",
        "colab": {}
      },
      "source": [
        "train_data_f = train_data_f.shuffle(70000).batch(512)\n",
        "val_data_f = val_data_f.batch(512)"
      ],
      "execution_count": 0,
      "outputs": []
    },
    {
      "cell_type": "markdown",
      "metadata": {
        "id": "B52vfcV_eSPV",
        "colab_type": "text"
      },
      "source": [
        "# Train the model"
      ]
    },
    {
      "cell_type": "code",
      "metadata": {
        "id": "bFEToFfcfJap",
        "colab_type": "code",
        "colab": {
          "base_uri": "https://localhost:8080/",
          "height": 187
        },
        "outputId": "bb49428d-baeb-44ed-dd1e-d296eb83f250"
      },
      "source": [
        "history = model.fit(train_data_f,epochs=5,validation_data=val_data_f,verbose=1)"
      ],
      "execution_count": 88,
      "outputs": [
        {
          "output_type": "stream",
          "text": [
            "Epoch 1/5\n",
            "118/118 [==============================] - 14s 117ms/step - loss: 0.5541 - accuracy: 0.7604 - val_loss: 0.4925 - val_accuracy: 0.8426\n",
            "Epoch 2/5\n",
            "118/118 [==============================] - 14s 117ms/step - loss: 0.4827 - accuracy: 0.8695 - val_loss: 0.4845 - val_accuracy: 0.8622\n",
            "Epoch 3/5\n",
            "118/118 [==============================] - 14s 117ms/step - loss: 0.4677 - accuracy: 0.8995 - val_loss: 0.4846 - val_accuracy: 0.8587\n",
            "Epoch 4/5\n",
            "118/118 [==============================] - 14s 116ms/step - loss: 0.4604 - accuracy: 0.9135 - val_loss: 0.4851 - val_accuracy: 0.8541\n",
            "Epoch 5/5\n",
            "118/118 [==============================] - 14s 117ms/step - loss: 0.4558 - accuracy: 0.9227 - val_loss: 0.4855 - val_accuracy: 0.8559\n"
          ],
          "name": "stdout"
        }
      ]
    },
    {
      "cell_type": "code",
      "metadata": {
        "id": "WfOvOwMjnkz7",
        "colab_type": "code",
        "colab": {
          "base_uri": "https://localhost:8080/",
          "height": 265
        },
        "outputId": "80ecfd6d-4134-4880-fe65-dba5d34795b2"
      },
      "source": [
        "import matplotlib.pyplot as plt\n",
        "plt.plot(history.history['accuracy'],'g',label='Training Accuracy')\n",
        "plt.plot(history.history['val_accuracy'],'b--',label='Validation Accuracy')\n",
        "plt.legend()\n",
        "plt.show()"
      ],
      "execution_count": 89,
      "outputs": [
        {
          "output_type": "display_data",
          "data": {
            "image/png": "[encoded data removed]",
            "text/plain": [
              "<Figure size 432x288 with 1 Axes>"
            ]
          },
          "metadata": {
            "tags": [],
            "needs_background": "light"
          }
        }
      ]
    },
    {
      "cell_type": "code",
      "metadata": {
        "id": "Rd5UkRAcoH47",
        "colab_type": "code",
        "colab": {
          "base_uri": "https://localhost:8080/",
          "height": 265
        },
        "outputId": "56bae0b9-9771-4c08-d644-4880e9bcc485"
      },
      "source": [
        "plt.plot(history.history['loss'],'g',label='Training Loss')\n",
        "plt.plot(history.history['val_loss'],'b--',label='Validation Loss')\n",
        "plt.legend()\n",
        "plt.show()"
      ],
      "execution_count": 90,
      "outputs": [
        {
          "output_type": "display_data",
          "data": {
            "image/png": "[encoded data removed]",
            "text/plain": [
              "<Figure size 432x288 with 1 Axes>"
            ]
          },
          "metadata": {
            "tags": [],
            "needs_background": "light"
          }
        }
      ]
    },
    {
      "cell_type": "markdown",
      "metadata": {
        "id": "bplP3lXiildQ",
        "colab_type": "text"
      },
      "source": [
        "# Evaluate the trained model for the Test Data"
      ]
    },
    {
      "cell_type": "code",
      "metadata": {
        "id": "twwMbnokfr6s",
        "colab_type": "code",
        "colab": {
          "base_uri": "https://localhost:8080/",
          "height": 51
        },
        "outputId": "381d666d-bbb8-46d4-f92f-b920b569dddf"
      },
      "source": [
        "results = model.evaluate(test_data_f.batch(512),verbose=2)\n",
        "print(results)"
      ],
      "execution_count": 91,
      "outputs": [
        {
          "output_type": "stream",
          "text": [
            "26/26 - 1s - loss: 0.4842 - accuracy: 0.8581\n",
            "[0.4842487871646881, 0.8581065535545349]\n"
          ],
          "name": "stdout"
        }
      ]
    },
    {
      "cell_type": "markdown",
      "metadata": {
        "id": "zWx6VSZ9jOU4",
        "colab_type": "text"
      },
      "source": [
        "*The model does not overfit as evident from the validation accuracy which is 85%. Also we have only built a base model*"
      ]
    },
    {
      "cell_type": "markdown",
      "metadata": {
        "id": "15lZx17sjDsx",
        "colab_type": "text"
      },
      "source": [
        "## Predictions"
      ]
    },
    {
      "cell_type": "code",
      "metadata": {
        "id": "NTyya9M6jFrS",
        "colab_type": "code",
        "colab": {
          "base_uri": "https://localhost:8080/",
          "height": 68
        },
        "outputId": "5a3daa39-3373-46a4-cbc2-37dbe6f74487"
      },
      "source": [
        "for txt,l in test_data_f.batch(15000):\n",
        "  y = l\n",
        "  y_pred = tf.where(model.predict(txt) > 0.5,1,0)\n",
        "  print(tf.math.confusion_matrix(labels=y,predictions=y_pred,num_classes=2))"
      ],
      "execution_count": 92,
      "outputs": [
        {
          "output_type": "stream",
          "text": [
            "tf.Tensor(\n",
            "[[2681  805]\n",
            " [1025 8386]], shape=(2, 2), dtype=int32)\n"
          ],
          "name": "stdout"
        }
      ]
    },
    {
      "cell_type": "markdown",
      "metadata": {
        "id": "ECsrmRMIrTus",
        "colab_type": "text"
      },
      "source": [
        "## functions Used :\n",
        "\n",
        "* Batch\n",
        "\n",
        "Usually batching data is a pain in very cubersome , with the Dataset API we can use the method batch(BATCH_SIZE) that automatically batches the dataset with the provided size.\n",
        "\n",
        "* Shuffle\n",
        "\n",
        "We can shuffle the Dataset by using the method shuffle() that shuffles the dataset by default every epoch.\n",
        "Remember: shuffle the dataset is very important to avoid overfitting.\n",
        "\n",
        "* Map\n",
        "\n",
        "You can apply a custom function to each member of a dataset using the map method."
      ]
    },
    {
      "cell_type": "markdown",
      "metadata": {
        "id": "_mT3onlUr2Mg",
        "colab_type": "text"
      },
      "source": [
        "# Other resources\n",
        "\n",
        "TensorFlow dataset tutorial: https://www.tensorflow.org/programmers_guide/datasets\n",
        "\n",
        "Dataset docs:\n",
        "https://www.tensorflow.org/api_docs/python/tf/data/Dataset\n",
        "\n",
        "https://towardsdatascience.com/how-to-use-dataset-in-tensorflow-c758ef9e4428"
      ]
    },
    {
      "cell_type": "markdown",
      "metadata": {
        "id": "hWK1jJjyolNt",
        "colab_type": "text"
      },
      "source": [
        "## Conclusion\n",
        "\n",
        "We could see that Transfer learning can also be applicable to NLP tasks , not limiting to image classification.\n",
        "\n",
        "The accuracy can still be improved by adding a conv1D layer or introducing a LSTM layer , but here the main intution was to apply transfer learning to text data."
      ]
    }
  ]
}