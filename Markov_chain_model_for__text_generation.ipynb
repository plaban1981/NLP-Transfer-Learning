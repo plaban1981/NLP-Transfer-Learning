{
  "nbformat": 4,
  "nbformat_minor": 0,
  "metadata": {
    "colab": {
      "name": "Markov_chain_model_for _text_generation.ipynb",
      "provenance": [],
      "authorship_tag": "ABX9TyOSVk+0FC5eUeS5gFnoEetC",
      "include_colab_link": true
    },
    "kernelspec": {
      "name": "python3",
      "display_name": "Python 3"
    }
  },
  "cells": [
    {
      "cell_type": "markdown",
      "metadata": {
        "id": "view-in-github",
        "colab_type": "text"
      },
      "source": [
        "<a href=\"https://colab.research.google.com/github/plaban1981/NLP-Transfer-Learning/blob/master/Markov_chain_model_for__text_generation.ipynb\" target=\"_parent\"><img src=\"https://colab.research.google.com/assets/colab-badge.svg\" alt=\"Open In Colab\"/></a>"
      ]
    },
    {
      "cell_type": "code",
      "metadata": {
        "id": "XaETXGMJjYvu",
        "colab_type": "code",
        "colab": {
          "base_uri": "https://localhost:8080/",
          "height": 204
        },
        "outputId": "b7b42f73-8e5a-47d5-946a-e22517f9c55a"
      },
      "source": [
        "!wget https://github.com/bhoomikamadhukar/NLP/blob/master/corona.txt"
      ],
      "execution_count": 1,
      "outputs": [
        {
          "output_type": "stream",
          "text": [
            "--2020-09-02 16:02:09--  https://github.com/bhoomikamadhukar/NLP/blob/master/corona.txt\n",
            "Resolving github.com (github.com)... 140.82.112.3\n",
            "Connecting to github.com (github.com)|140.82.112.3|:443... connected.\n",
            "HTTP request sent, awaiting response... 200 OK\n",
            "Length: unspecified [text/html]\n",
            "Saving to: ‘corona.txt’\n",
            "\n",
            "corona.txt              [  <=>               ]  78.85K   221KB/s    in 0.4s    \n",
            "\n",
            "2020-09-02 16:02:11 (221 KB/s) - ‘corona.txt’ saved [80743]\n",
            "\n"
          ],
          "name": "stdout"
        }
      ]
    },
    {
      "cell_type": "markdown",
      "metadata": {
        "id": "IuBCx90vjkbL",
        "colab_type": "text"
      },
      "source": [
        "# To make the implementation of Markov chains easy, you can make use of the built-in package known as markovify. "
      ]
    },
    {
      "cell_type": "code",
      "metadata": {
        "id": "2Lnzx70Hja0z",
        "colab_type": "code",
        "colab": {
          "base_uri": "https://localhost:8080/",
          "height": 241
        },
        "outputId": "1b2f8723-b890-4ac9-8227-bd32d152cd53"
      },
      "source": [
        "pip install markovify"
      ],
      "execution_count": 2,
      "outputs": [
        {
          "output_type": "stream",
          "text": [
            "Collecting markovify\n",
            "  Downloading https://files.pythonhosted.org/packages/33/92/4036691c7ea53e545e98e0ffffcef357ca19aa2405df366ae5b8b7da391a/markovify-0.8.3.tar.gz\n",
            "Collecting unidecode\n",
            "\u001b[?25l  Downloading https://files.pythonhosted.org/packages/d0/42/d9edfed04228bacea2d824904cae367ee9efd05e6cce7ceaaedd0b0ad964/Unidecode-1.1.1-py2.py3-none-any.whl (238kB)\n",
            "\u001b[K     |████████████████████████████████| 245kB 4.4MB/s \n",
            "\u001b[?25hBuilding wheels for collected packages: markovify\n",
            "  Building wheel for markovify (setup.py) ... \u001b[?25l\u001b[?25hdone\n",
            "  Created wheel for markovify: filename=markovify-0.8.3-cp36-none-any.whl size=18416 sha256=5f175abaa41b85b9bffe6f5019f1b2b77227577e96c1041c5fa075b37a3c813f\n",
            "  Stored in directory: /root/.cache/pip/wheels/5e/e5/be/8e61715070048813947af5fb32f47b4cf9dddd37c965800bdb\n",
            "Successfully built markovify\n",
            "Installing collected packages: unidecode, markovify\n",
            "Successfully installed markovify-0.8.3 unidecode-1.1.1\n"
          ],
          "name": "stdout"
        }
      ]
    },
    {
      "cell_type": "code",
      "metadata": {
        "id": "xBYXUxavjwIA",
        "colab_type": "code",
        "colab": {}
      },
      "source": [
        "import markovify\n",
        "with open('/content/corona.txt','r') as f:\n",
        "  data = f.read()"
      ],
      "execution_count": 7,
      "outputs": []
    },
    {
      "cell_type": "code",
      "metadata": {
        "id": "Eg82IbDlm-6O",
        "colab_type": "code",
        "colab": {
          "base_uri": "https://localhost:8080/",
          "height": 122
        },
        "outputId": "326f9f6d-3fb9-47ad-8088-0078b6108f01"
      },
      "source": [
        "print(data)"
      ],
      "execution_count": 13,
      "outputs": [
        {
          "output_type": "stream",
          "text": [
            "The speed of transmission is an important point of difference between the two viruses. Influenza has a shorter median incubation period (the time from infection to appearance of symptoms) and a shorter serial interval (the time between successive cases) than COVID-19 virus. The serial interval for COVID-19 virus is estimated to be 5-6 days, while for influenza virus, the serial interval is 3 days. This means that influenza can spread faster than COVID-19. \n",
            "\n",
            "Further, transmission in the first 3-5 days of illness, or potentially pre-symptomatic transmission –transmission of the virus before the appearance of symptoms – is a major driver of transmission for influenza. In contrast, while we are learning that there are people who can shed COVID-19 virus 24-48 hours prior to symptom onset, at present, this does not appear to be a major driver of transmission. \n",
            "\n",
            "The reproductive number – the number of secondary infections generated from one infected individual – is understood to be between 2 and 2.5 for COVID-19 virus, higher than for influenza. However, estimates for both COVID-19 and influenza viruses are very context and time-specific, making direct comparisons more difficult.  \n"
          ],
          "name": "stdout"
        }
      ]
    },
    {
      "cell_type": "markdown",
      "metadata": {
        "id": "hOTH4VjinrpJ",
        "colab_type": "text"
      },
      "source": [
        "# Markov Chain"
      ]
    },
    {
      "cell_type": "markdown",
      "metadata": {
        "id": "fpJIVFd9ngTS",
        "colab_type": "text"
      },
      "source": [
        "#### The Text method is for the generation of random sentences from our data. \n",
        "\n",
        "Here it generates 10 different sentences from sample data"
      ]
    },
    {
      "cell_type": "code",
      "metadata": {
        "id": "F_vh8N7Umiaq",
        "colab_type": "code",
        "colab": {
          "base_uri": "https://localhost:8080/",
          "height": 207
        },
        "outputId": "473efefa-814c-4ffa-8f2e-5c159fb281ce"
      },
      "source": [
        "data_model = markovify.Text(data)\n",
        "for i in range(10):\n",
        "    print(data_model.make_sentence())"
      ],
      "execution_count": 14,
      "outputs": [
        {
          "output_type": "stream",
          "text": [
            "In contrast, while we are learning that there are people who can shed COVID-19 virus is estimated to be 5-6 days, while for influenza virus, the serial interval for COVID-19 virus, higher than for influenza.\n",
            "In contrast, while we are learning that there are people who can shed COVID-19 virus is estimated to be between 2 and 2.5 for COVID-19 virus, higher than for influenza.\n",
            "The serial interval for COVID-19 virus is estimated to be a major driver of transmission is an important point of difference between the two viruses.\n",
            "The speed of transmission for influenza.\n",
            "In contrast, while we are learning that there are people who can shed COVID-19 virus is estimated to be between 2 and 2.5 for COVID-19 virus is estimated to be between 2 and 2.5 for COVID-19 virus, higher than for influenza.\n",
            "In contrast, while we are learning that there are people who can shed COVID-19 virus is estimated to be 5-6 days, while for influenza virus, the serial interval for COVID-19 virus is estimated to be a major driver of transmission for influenza.\n",
            "The serial interval for COVID-19 virus is estimated to be between 2 and 2.5 for COVID-19 virus, higher than for influenza.\n",
            "In contrast, while we are learning that there are people who can shed COVID-19 virus is estimated to be between 2 and 2.5 for COVID-19 virus, higher than for influenza.\n",
            "In contrast, while we are learning that there are people who can shed COVID-19 virus is estimated to be a major driver of transmission.\n",
            "The serial interval for COVID-19 virus, higher than for influenza.\n"
          ],
          "name": "stdout"
        }
      ]
    },
    {
      "cell_type": "markdown",
      "metadata": {
        "id": "-dHftUUenokM",
        "colab_type": "text"
      },
      "source": [
        "\n",
        "Again, these sentences are only random. Another option with this package is to choose how many characters should be in the sentences. "
      ]
    },
    {
      "cell_type": "code",
      "metadata": {
        "id": "MVicNbLYntgJ",
        "colab_type": "code",
        "colab": {
          "base_uri": "https://localhost:8080/",
          "height": 88
        },
        "outputId": "acc2ad55-45ab-4dd7-ee0b-2b27d9c61db9"
      },
      "source": [
        "for i in range(3):\n",
        "    print(data_model.make_short_sentence(280))"
      ],
      "execution_count": 12,
      "outputs": [
        {
          "output_type": "stream",
          "text": [
            "In contrast, while we are learning that there are people who can shed COVID-19 virus is estimated to be a major driver of transmission.\n",
            "In contrast, while we are learning that there are people who can shed COVID-19 virus is estimated to be between 2 and 2.5 for COVID-19 virus, higher than for influenza.\n",
            "The serial interval for COVID-19 virus, higher than for influenza.\n"
          ],
          "name": "stdout"
        }
      ]
    },
    {
      "cell_type": "markdown",
      "metadata": {
        "id": "BKmdQF5sn-vL",
        "colab_type": "text"
      },
      "source": [
        "#### Here, it prints 3 sentences with a maximum of 280 characters."
      ]
    },
    {
      "cell_type": "markdown",
      "metadata": {
        "id": "dQ5Dl3jooNYq",
        "colab_type": "text"
      },
      "source": [
        "Every time the program is run a new output is generated because Markov models are memoryless. We have successfully built a Markov chain text generator using custom and built-in codes. \n",
        "\n",
        "# Conclusion \n",
        "Markov chains are a very simple and easy way to generate text that mimics humans to some extent. But, for effectively generate text, the text corpus needs to be filled with documents that are similar. Simple Markov chains are the building blocks of other, more sophisticated, modelling techniques. These models can be powerful tools for NLP and deep learning as well. "
      ]
    },
    {
      "cell_type": "markdown",
      "metadata": {
        "id": "A7mNjlB_9XQU",
        "colab_type": "text"
      },
      "source": [
        "https://analyticsindiamag.com/hands-on-guide-to-markov-chain-for-text-generation/"
      ]
    },
    {
      "cell_type": "code",
      "metadata": {
        "id": "t9vh5hfjoBVq",
        "colab_type": "code",
        "colab": {}
      },
      "source": [
        ""
      ],
      "execution_count": null,
      "outputs": []
    },
    {
      "cell_type": "code",
      "metadata": {
        "id": "ycHK6XD_n_q0",
        "colab_type": "code",
        "colab": {}
      },
      "source": [
        ""
      ],
      "execution_count": null,
      "outputs": []
    }
  ]
}