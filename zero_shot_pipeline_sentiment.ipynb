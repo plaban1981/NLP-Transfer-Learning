{
  "nbformat": 4,
  "nbformat_minor": 0,
  "metadata": {
    "kernelspec": {
      "display_name": "Python 3",
      "language": "python",
      "name": "python3"
    },
    "language_info": {
      "codemirror_mode": {
        "name": "ipython",
        "version": 2
      },
      "file_extension": ".py",
      "mimetype": "text/x-python",
      "name": "python",
      "nbconvert_exporter": "python",
      "pygments_lexer": "ipython2",
      "version": "2.7.6"
    },
    "colab": {
      "name": "zero-shot-pipeline-sentiment.ipynb",
      "provenance": [],
      "collapsed_sections": [],
      "include_colab_link": true
    },
    "accelerator": "GPU",
    "widgets": {
      "application/vnd.jupyter.widget-state+json": {
        "a6c0bc52298540d594830457d8dba68f": {
          "model_module": "@jupyter-widgets/controls",
          "model_name": "HBoxModel",
          "state": {
            "_view_name": "HBoxView",
            "_dom_classes": [],
            "_model_name": "HBoxModel",
            "_view_module": "@jupyter-widgets/controls",
            "_model_module_version": "1.5.0",
            "_view_count": null,
            "_view_module_version": "1.5.0",
            "box_style": "",
            "layout": "IPY_MODEL_fe619c74e8104cb7bc732cb33ce4267a",
            "_model_module": "@jupyter-widgets/controls",
            "children": [
              "IPY_MODEL_b9c0571547e74da8b00fafa37a0465c6",
              "IPY_MODEL_c0d701145a5743c28a6b05fe5cf93256"
            ]
          }
        },
        "fe619c74e8104cb7bc732cb33ce4267a": {
          "model_module": "@jupyter-widgets/base",
          "model_name": "LayoutModel",
          "state": {
            "_view_name": "LayoutView",
            "grid_template_rows": null,
            "right": null,
            "justify_content": null,
            "_view_module": "@jupyter-widgets/base",
            "overflow": null,
            "_model_module_version": "1.2.0",
            "_view_count": null,
            "flex_flow": null,
            "width": null,
            "min_width": null,
            "border": null,
            "align_items": null,
            "bottom": null,
            "_model_module": "@jupyter-widgets/base",
            "top": null,
            "grid_column": null,
            "overflow_y": null,
            "overflow_x": null,
            "grid_auto_flow": null,
            "grid_area": null,
            "grid_template_columns": null,
            "flex": null,
            "_model_name": "LayoutModel",
            "justify_items": null,
            "grid_row": null,
            "max_height": null,
            "align_content": null,
            "visibility": null,
            "align_self": null,
            "height": null,
            "min_height": null,
            "padding": null,
            "grid_auto_rows": null,
            "grid_gap": null,
            "max_width": null,
            "order": null,
            "_view_module_version": "1.2.0",
            "grid_template_areas": null,
            "object_position": null,
            "object_fit": null,
            "grid_auto_columns": null,
            "margin": null,
            "display": null,
            "left": null
          }
        },
        "b9c0571547e74da8b00fafa37a0465c6": {
          "model_module": "@jupyter-widgets/controls",
          "model_name": "FloatProgressModel",
          "state": {
            "_view_name": "ProgressView",
            "style": "IPY_MODEL_e79427fd571b4365a2d7ebd0e49e396e",
            "_dom_classes": [],
            "description": "Downloading: 100%",
            "_model_name": "FloatProgressModel",
            "bar_style": "success",
            "max": 908,
            "_view_module": "@jupyter-widgets/controls",
            "_model_module_version": "1.5.0",
            "value": 908,
            "_view_count": null,
            "_view_module_version": "1.5.0",
            "orientation": "horizontal",
            "min": 0,
            "description_tooltip": null,
            "_model_module": "@jupyter-widgets/controls",
            "layout": "IPY_MODEL_72aa62669f1d44f79ec008c53d3473bd"
          }
        },
        "c0d701145a5743c28a6b05fe5cf93256": {
          "model_module": "@jupyter-widgets/controls",
          "model_name": "HTMLModel",
          "state": {
            "_view_name": "HTMLView",
            "style": "IPY_MODEL_298c491d01be40db8a80850c78fd0d9d",
            "_dom_classes": [],
            "description": "",
            "_model_name": "HTMLModel",
            "placeholder": "​",
            "_view_module": "@jupyter-widgets/controls",
            "_model_module_version": "1.5.0",
            "value": " 908/908 [00:00&lt;00:00, 1.18kB/s]",
            "_view_count": null,
            "_view_module_version": "1.5.0",
            "description_tooltip": null,
            "_model_module": "@jupyter-widgets/controls",
            "layout": "IPY_MODEL_6882d50ed695435985be5fc3f1ee8819"
          }
        },
        "e79427fd571b4365a2d7ebd0e49e396e": {
          "model_module": "@jupyter-widgets/controls",
          "model_name": "ProgressStyleModel",
          "state": {
            "_view_name": "StyleView",
            "_model_name": "ProgressStyleModel",
            "description_width": "initial",
            "_view_module": "@jupyter-widgets/base",
            "_model_module_version": "1.5.0",
            "_view_count": null,
            "_view_module_version": "1.2.0",
            "bar_color": null,
            "_model_module": "@jupyter-widgets/controls"
          }
        },
        "72aa62669f1d44f79ec008c53d3473bd": {
          "model_module": "@jupyter-widgets/base",
          "model_name": "LayoutModel",
          "state": {
            "_view_name": "LayoutView",
            "grid_template_rows": null,
            "right": null,
            "justify_content": null,
            "_view_module": "@jupyter-widgets/base",
            "overflow": null,
            "_model_module_version": "1.2.0",
            "_view_count": null,
            "flex_flow": null,
            "width": null,
            "min_width": null,
            "border": null,
            "align_items": null,
            "bottom": null,
            "_model_module": "@jupyter-widgets/base",
            "top": null,
            "grid_column": null,
            "overflow_y": null,
            "overflow_x": null,
            "grid_auto_flow": null,
            "grid_area": null,
            "grid_template_columns": null,
            "flex": null,
            "_model_name": "LayoutModel",
            "justify_items": null,
            "grid_row": null,
            "max_height": null,
            "align_content": null,
            "visibility": null,
            "align_self": null,
            "height": null,
            "min_height": null,
            "padding": null,
            "grid_auto_rows": null,
            "grid_gap": null,
            "max_width": null,
            "order": null,
            "_view_module_version": "1.2.0",
            "grid_template_areas": null,
            "object_position": null,
            "object_fit": null,
            "grid_auto_columns": null,
            "margin": null,
            "display": null,
            "left": null
          }
        },
        "298c491d01be40db8a80850c78fd0d9d": {
          "model_module": "@jupyter-widgets/controls",
          "model_name": "DescriptionStyleModel",
          "state": {
            "_view_name": "StyleView",
            "_model_name": "DescriptionStyleModel",
            "description_width": "",
            "_view_module": "@jupyter-widgets/base",
            "_model_module_version": "1.5.0",
            "_view_count": null,
            "_view_module_version": "1.2.0",
            "_model_module": "@jupyter-widgets/controls"
          }
        },
        "6882d50ed695435985be5fc3f1ee8819": {
          "model_module": "@jupyter-widgets/base",
          "model_name": "LayoutModel",
          "state": {
            "_view_name": "LayoutView",
            "grid_template_rows": null,
            "right": null,
            "justify_content": null,
            "_view_module": "@jupyter-widgets/base",
            "overflow": null,
            "_model_module_version": "1.2.0",
            "_view_count": null,
            "flex_flow": null,
            "width": null,
            "min_width": null,
            "border": null,
            "align_items": null,
            "bottom": null,
            "_model_module": "@jupyter-widgets/base",
            "top": null,
            "grid_column": null,
            "overflow_y": null,
            "overflow_x": null,
            "grid_auto_flow": null,
            "grid_area": null,
            "grid_template_columns": null,
            "flex": null,
            "_model_name": "LayoutModel",
            "justify_items": null,
            "grid_row": null,
            "max_height": null,
            "align_content": null,
            "visibility": null,
            "align_self": null,
            "height": null,
            "min_height": null,
            "padding": null,
            "grid_auto_rows": null,
            "grid_gap": null,
            "max_width": null,
            "order": null,
            "_view_module_version": "1.2.0",
            "grid_template_areas": null,
            "object_position": null,
            "object_fit": null,
            "grid_auto_columns": null,
            "margin": null,
            "display": null,
            "left": null
          }
        },
        "b8ad82b97d324e06be9dd5c670976922": {
          "model_module": "@jupyter-widgets/controls",
          "model_name": "HBoxModel",
          "state": {
            "_view_name": "HBoxView",
            "_dom_classes": [],
            "_model_name": "HBoxModel",
            "_view_module": "@jupyter-widgets/controls",
            "_model_module_version": "1.5.0",
            "_view_count": null,
            "_view_module_version": "1.5.0",
            "box_style": "",
            "layout": "IPY_MODEL_dc2e8ce100954b90a16e3f60abf53666",
            "_model_module": "@jupyter-widgets/controls",
            "children": [
              "IPY_MODEL_4b816ce73692447c8f50b51b03735248",
              "IPY_MODEL_d1e6ac4f12884a3592f3a2cea9713a23"
            ]
          }
        },
        "dc2e8ce100954b90a16e3f60abf53666": {
          "model_module": "@jupyter-widgets/base",
          "model_name": "LayoutModel",
          "state": {
            "_view_name": "LayoutView",
            "grid_template_rows": null,
            "right": null,
            "justify_content": null,
            "_view_module": "@jupyter-widgets/base",
            "overflow": null,
            "_model_module_version": "1.2.0",
            "_view_count": null,
            "flex_flow": null,
            "width": null,
            "min_width": null,
            "border": null,
            "align_items": null,
            "bottom": null,
            "_model_module": "@jupyter-widgets/base",
            "top": null,
            "grid_column": null,
            "overflow_y": null,
            "overflow_x": null,
            "grid_auto_flow": null,
            "grid_area": null,
            "grid_template_columns": null,
            "flex": null,
            "_model_name": "LayoutModel",
            "justify_items": null,
            "grid_row": null,
            "max_height": null,
            "align_content": null,
            "visibility": null,
            "align_self": null,
            "height": null,
            "min_height": null,
            "padding": null,
            "grid_auto_rows": null,
            "grid_gap": null,
            "max_width": null,
            "order": null,
            "_view_module_version": "1.2.0",
            "grid_template_areas": null,
            "object_position": null,
            "object_fit": null,
            "grid_auto_columns": null,
            "margin": null,
            "display": null,
            "left": null
          }
        },
        "4b816ce73692447c8f50b51b03735248": {
          "model_module": "@jupyter-widgets/controls",
          "model_name": "FloatProgressModel",
          "state": {
            "_view_name": "ProgressView",
            "style": "IPY_MODEL_52fc835564eb425c84a97ea991864a09",
            "_dom_classes": [],
            "description": "Downloading: 100%",
            "_model_name": "FloatProgressModel",
            "bar_style": "success",
            "max": 898823,
            "_view_module": "@jupyter-widgets/controls",
            "_model_module_version": "1.5.0",
            "value": 898823,
            "_view_count": null,
            "_view_module_version": "1.5.0",
            "orientation": "horizontal",
            "min": 0,
            "description_tooltip": null,
            "_model_module": "@jupyter-widgets/controls",
            "layout": "IPY_MODEL_025e7aeaa66045b8994ffec18a8fd92e"
          }
        },
        "d1e6ac4f12884a3592f3a2cea9713a23": {
          "model_module": "@jupyter-widgets/controls",
          "model_name": "HTMLModel",
          "state": {
            "_view_name": "HTMLView",
            "style": "IPY_MODEL_effa6e987abd4bf1a78076564bb90cd4",
            "_dom_classes": [],
            "description": "",
            "_model_name": "HTMLModel",
            "placeholder": "​",
            "_view_module": "@jupyter-widgets/controls",
            "_model_module_version": "1.5.0",
            "value": " 899k/899k [00:01&lt;00:00, 579kB/s]",
            "_view_count": null,
            "_view_module_version": "1.5.0",
            "description_tooltip": null,
            "_model_module": "@jupyter-widgets/controls",
            "layout": "IPY_MODEL_cd959ebf94764ded8c65e003e72cd0ae"
          }
        },
        "52fc835564eb425c84a97ea991864a09": {
          "model_module": "@jupyter-widgets/controls",
          "model_name": "ProgressStyleModel",
          "state": {
            "_view_name": "StyleView",
            "_model_name": "ProgressStyleModel",
            "description_width": "initial",
            "_view_module": "@jupyter-widgets/base",
            "_model_module_version": "1.5.0",
            "_view_count": null,
            "_view_module_version": "1.2.0",
            "bar_color": null,
            "_model_module": "@jupyter-widgets/controls"
          }
        },
        "025e7aeaa66045b8994ffec18a8fd92e": {
          "model_module": "@jupyter-widgets/base",
          "model_name": "LayoutModel",
          "state": {
            "_view_name": "LayoutView",
            "grid_template_rows": null,
            "right": null,
            "justify_content": null,
            "_view_module": "@jupyter-widgets/base",
            "overflow": null,
            "_model_module_version": "1.2.0",
            "_view_count": null,
            "flex_flow": null,
            "width": null,
            "min_width": null,
            "border": null,
            "align_items": null,
            "bottom": null,
            "_model_module": "@jupyter-widgets/base",
            "top": null,
            "grid_column": null,
            "overflow_y": null,
            "overflow_x": null,
            "grid_auto_flow": null,
            "grid_area": null,
            "grid_template_columns": null,
            "flex": null,
            "_model_name": "LayoutModel",
            "justify_items": null,
            "grid_row": null,
            "max_height": null,
            "align_content": null,
            "visibility": null,
            "align_self": null,
            "height": null,
            "min_height": null,
            "padding": null,
            "grid_auto_rows": null,
            "grid_gap": null,
            "max_width": null,
            "order": null,
            "_view_module_version": "1.2.0",
            "grid_template_areas": null,
            "object_position": null,
            "object_fit": null,
            "grid_auto_columns": null,
            "margin": null,
            "display": null,
            "left": null
          }
        },
        "effa6e987abd4bf1a78076564bb90cd4": {
          "model_module": "@jupyter-widgets/controls",
          "model_name": "DescriptionStyleModel",
          "state": {
            "_view_name": "StyleView",
            "_model_name": "DescriptionStyleModel",
            "description_width": "",
            "_view_module": "@jupyter-widgets/base",
            "_model_module_version": "1.5.0",
            "_view_count": null,
            "_view_module_version": "1.2.0",
            "_model_module": "@jupyter-widgets/controls"
          }
        },
        "cd959ebf94764ded8c65e003e72cd0ae": {
          "model_module": "@jupyter-widgets/base",
          "model_name": "LayoutModel",
          "state": {
            "_view_name": "LayoutView",
            "grid_template_rows": null,
            "right": null,
            "justify_content": null,
            "_view_module": "@jupyter-widgets/base",
            "overflow": null,
            "_model_module_version": "1.2.0",
            "_view_count": null,
            "flex_flow": null,
            "width": null,
            "min_width": null,
            "border": null,
            "align_items": null,
            "bottom": null,
            "_model_module": "@jupyter-widgets/base",
            "top": null,
            "grid_column": null,
            "overflow_y": null,
            "overflow_x": null,
            "grid_auto_flow": null,
            "grid_area": null,
            "grid_template_columns": null,
            "flex": null,
            "_model_name": "LayoutModel",
            "justify_items": null,
            "grid_row": null,
            "max_height": null,
            "align_content": null,
            "visibility": null,
            "align_self": null,
            "height": null,
            "min_height": null,
            "padding": null,
            "grid_auto_rows": null,
            "grid_gap": null,
            "max_width": null,
            "order": null,
            "_view_module_version": "1.2.0",
            "grid_template_areas": null,
            "object_position": null,
            "object_fit": null,
            "grid_auto_columns": null,
            "margin": null,
            "display": null,
            "left": null
          }
        },
        "4c65d5d7b52549d7a7bc6f5f206dd53a": {
          "model_module": "@jupyter-widgets/controls",
          "model_name": "HBoxModel",
          "state": {
            "_view_name": "HBoxView",
            "_dom_classes": [],
            "_model_name": "HBoxModel",
            "_view_module": "@jupyter-widgets/controls",
            "_model_module_version": "1.5.0",
            "_view_count": null,
            "_view_module_version": "1.5.0",
            "box_style": "",
            "layout": "IPY_MODEL_1b9068b983b743259f41f4a555c629de",
            "_model_module": "@jupyter-widgets/controls",
            "children": [
              "IPY_MODEL_c498bc7f53b54b8f906d3a749bb61196",
              "IPY_MODEL_41bcab1b121940ffb1b97ce34e388f31"
            ]
          }
        },
        "1b9068b983b743259f41f4a555c629de": {
          "model_module": "@jupyter-widgets/base",
          "model_name": "LayoutModel",
          "state": {
            "_view_name": "LayoutView",
            "grid_template_rows": null,
            "right": null,
            "justify_content": null,
            "_view_module": "@jupyter-widgets/base",
            "overflow": null,
            "_model_module_version": "1.2.0",
            "_view_count": null,
            "flex_flow": null,
            "width": null,
            "min_width": null,
            "border": null,
            "align_items": null,
            "bottom": null,
            "_model_module": "@jupyter-widgets/base",
            "top": null,
            "grid_column": null,
            "overflow_y": null,
            "overflow_x": null,
            "grid_auto_flow": null,
            "grid_area": null,
            "grid_template_columns": null,
            "flex": null,
            "_model_name": "LayoutModel",
            "justify_items": null,
            "grid_row": null,
            "max_height": null,
            "align_content": null,
            "visibility": null,
            "align_self": null,
            "height": null,
            "min_height": null,
            "padding": null,
            "grid_auto_rows": null,
            "grid_gap": null,
            "max_width": null,
            "order": null,
            "_view_module_version": "1.2.0",
            "grid_template_areas": null,
            "object_position": null,
            "object_fit": null,
            "grid_auto_columns": null,
            "margin": null,
            "display": null,
            "left": null
          }
        },
        "c498bc7f53b54b8f906d3a749bb61196": {
          "model_module": "@jupyter-widgets/controls",
          "model_name": "FloatProgressModel",
          "state": {
            "_view_name": "ProgressView",
            "style": "IPY_MODEL_5f55803021b64e029e25765f9451cb41",
            "_dom_classes": [],
            "description": "Downloading: 100%",
            "_model_name": "FloatProgressModel",
            "bar_style": "success",
            "max": 456318,
            "_view_module": "@jupyter-widgets/controls",
            "_model_module_version": "1.5.0",
            "value": 456318,
            "_view_count": null,
            "_view_module_version": "1.5.0",
            "orientation": "horizontal",
            "min": 0,
            "description_tooltip": null,
            "_model_module": "@jupyter-widgets/controls",
            "layout": "IPY_MODEL_dc80c9004e4e417b9634c0cf827f232b"
          }
        },
        "41bcab1b121940ffb1b97ce34e388f31": {
          "model_module": "@jupyter-widgets/controls",
          "model_name": "HTMLModel",
          "state": {
            "_view_name": "HTMLView",
            "style": "IPY_MODEL_0e6658c3ca94467a9ae2f18d7592996c",
            "_dom_classes": [],
            "description": "",
            "_model_name": "HTMLModel",
            "placeholder": "​",
            "_view_module": "@jupyter-widgets/controls",
            "_model_module_version": "1.5.0",
            "value": " 456k/456k [00:00&lt;00:00, 1.10MB/s]",
            "_view_count": null,
            "_view_module_version": "1.5.0",
            "description_tooltip": null,
            "_model_module": "@jupyter-widgets/controls",
            "layout": "IPY_MODEL_f286c91a8dbc4b749e55cf9de39c46e4"
          }
        },
        "5f55803021b64e029e25765f9451cb41": {
          "model_module": "@jupyter-widgets/controls",
          "model_name": "ProgressStyleModel",
          "state": {
            "_view_name": "StyleView",
            "_model_name": "ProgressStyleModel",
            "description_width": "initial",
            "_view_module": "@jupyter-widgets/base",
            "_model_module_version": "1.5.0",
            "_view_count": null,
            "_view_module_version": "1.2.0",
            "bar_color": null,
            "_model_module": "@jupyter-widgets/controls"
          }
        },
        "dc80c9004e4e417b9634c0cf827f232b": {
          "model_module": "@jupyter-widgets/base",
          "model_name": "LayoutModel",
          "state": {
            "_view_name": "LayoutView",
            "grid_template_rows": null,
            "right": null,
            "justify_content": null,
            "_view_module": "@jupyter-widgets/base",
            "overflow": null,
            "_model_module_version": "1.2.0",
            "_view_count": null,
            "flex_flow": null,
            "width": null,
            "min_width": null,
            "border": null,
            "align_items": null,
            "bottom": null,
            "_model_module": "@jupyter-widgets/base",
            "top": null,
            "grid_column": null,
            "overflow_y": null,
            "overflow_x": null,
            "grid_auto_flow": null,
            "grid_area": null,
            "grid_template_columns": null,
            "flex": null,
            "_model_name": "LayoutModel",
            "justify_items": null,
            "grid_row": null,
            "max_height": null,
            "align_content": null,
            "visibility": null,
            "align_self": null,
            "height": null,
            "min_height": null,
            "padding": null,
            "grid_auto_rows": null,
            "grid_gap": null,
            "max_width": null,
            "order": null,
            "_view_module_version": "1.2.0",
            "grid_template_areas": null,
            "object_position": null,
            "object_fit": null,
            "grid_auto_columns": null,
            "margin": null,
            "display": null,
            "left": null
          }
        },
        "0e6658c3ca94467a9ae2f18d7592996c": {
          "model_module": "@jupyter-widgets/controls",
          "model_name": "DescriptionStyleModel",
          "state": {
            "_view_name": "StyleView",
            "_model_name": "DescriptionStyleModel",
            "description_width": "",
            "_view_module": "@jupyter-widgets/base",
            "_model_module_version": "1.5.0",
            "_view_count": null,
            "_view_module_version": "1.2.0",
            "_model_module": "@jupyter-widgets/controls"
          }
        },
        "f286c91a8dbc4b749e55cf9de39c46e4": {
          "model_module": "@jupyter-widgets/base",
          "model_name": "LayoutModel",
          "state": {
            "_view_name": "LayoutView",
            "grid_template_rows": null,
            "right": null,
            "justify_content": null,
            "_view_module": "@jupyter-widgets/base",
            "overflow": null,
            "_model_module_version": "1.2.0",
            "_view_count": null,
            "flex_flow": null,
            "width": null,
            "min_width": null,
            "border": null,
            "align_items": null,
            "bottom": null,
            "_model_module": "@jupyter-widgets/base",
            "top": null,
            "grid_column": null,
            "overflow_y": null,
            "overflow_x": null,
            "grid_auto_flow": null,
            "grid_area": null,
            "grid_template_columns": null,
            "flex": null,
            "_model_name": "LayoutModel",
            "justify_items": null,
            "grid_row": null,
            "max_height": null,
            "align_content": null,
            "visibility": null,
            "align_self": null,
            "height": null,
            "min_height": null,
            "padding": null,
            "grid_auto_rows": null,
            "grid_gap": null,
            "max_width": null,
            "order": null,
            "_view_module_version": "1.2.0",
            "grid_template_areas": null,
            "object_position": null,
            "object_fit": null,
            "grid_auto_columns": null,
            "margin": null,
            "display": null,
            "left": null
          }
        },
        "0227b76b066f48619616057d1dac4e73": {
          "model_module": "@jupyter-widgets/controls",
          "model_name": "HBoxModel",
          "state": {
            "_view_name": "HBoxView",
            "_dom_classes": [],
            "_model_name": "HBoxModel",
            "_view_module": "@jupyter-widgets/controls",
            "_model_module_version": "1.5.0",
            "_view_count": null,
            "_view_module_version": "1.5.0",
            "box_style": "",
            "layout": "IPY_MODEL_3c191ee913c84dfab85561d19388a978",
            "_model_module": "@jupyter-widgets/controls",
            "children": [
              "IPY_MODEL_a6fb67fd4d8743938dbde27ac0de15ac",
              "IPY_MODEL_e7dc9811f8fc4778a01c05984f4baefd"
            ]
          }
        },
        "3c191ee913c84dfab85561d19388a978": {
          "model_module": "@jupyter-widgets/base",
          "model_name": "LayoutModel",
          "state": {
            "_view_name": "LayoutView",
            "grid_template_rows": null,
            "right": null,
            "justify_content": null,
            "_view_module": "@jupyter-widgets/base",
            "overflow": null,
            "_model_module_version": "1.2.0",
            "_view_count": null,
            "flex_flow": null,
            "width": null,
            "min_width": null,
            "border": null,
            "align_items": null,
            "bottom": null,
            "_model_module": "@jupyter-widgets/base",
            "top": null,
            "grid_column": null,
            "overflow_y": null,
            "overflow_x": null,
            "grid_auto_flow": null,
            "grid_area": null,
            "grid_template_columns": null,
            "flex": null,
            "_model_name": "LayoutModel",
            "justify_items": null,
            "grid_row": null,
            "max_height": null,
            "align_content": null,
            "visibility": null,
            "align_self": null,
            "height": null,
            "min_height": null,
            "padding": null,
            "grid_auto_rows": null,
            "grid_gap": null,
            "max_width": null,
            "order": null,
            "_view_module_version": "1.2.0",
            "grid_template_areas": null,
            "object_position": null,
            "object_fit": null,
            "grid_auto_columns": null,
            "margin": null,
            "display": null,
            "left": null
          }
        },
        "a6fb67fd4d8743938dbde27ac0de15ac": {
          "model_module": "@jupyter-widgets/controls",
          "model_name": "FloatProgressModel",
          "state": {
            "_view_name": "ProgressView",
            "style": "IPY_MODEL_fad54441222742caa5564ac014c355d1",
            "_dom_classes": [],
            "description": "Downloading: 100%",
            "_model_name": "FloatProgressModel",
            "bar_style": "success",
            "max": 1629486723,
            "_view_module": "@jupyter-widgets/controls",
            "_model_module_version": "1.5.0",
            "value": 1629486723,
            "_view_count": null,
            "_view_module_version": "1.5.0",
            "orientation": "horizontal",
            "min": 0,
            "description_tooltip": null,
            "_model_module": "@jupyter-widgets/controls",
            "layout": "IPY_MODEL_0f863738bf764d0a9538eadb42650d18"
          }
        },
        "e7dc9811f8fc4778a01c05984f4baefd": {
          "model_module": "@jupyter-widgets/controls",
          "model_name": "HTMLModel",
          "state": {
            "_view_name": "HTMLView",
            "style": "IPY_MODEL_3e3f9c44de9b40c495621d2ab64e51b8",
            "_dom_classes": [],
            "description": "",
            "_model_name": "HTMLModel",
            "placeholder": "​",
            "_view_module": "@jupyter-widgets/controls",
            "_model_module_version": "1.5.0",
            "value": " 1.63G/1.63G [00:53&lt;00:00, 30.5MB/s]",
            "_view_count": null,
            "_view_module_version": "1.5.0",
            "description_tooltip": null,
            "_model_module": "@jupyter-widgets/controls",
            "layout": "IPY_MODEL_59bfbb3ddd1649e2b947155dffc4d4c6"
          }
        },
        "fad54441222742caa5564ac014c355d1": {
          "model_module": "@jupyter-widgets/controls",
          "model_name": "ProgressStyleModel",
          "state": {
            "_view_name": "StyleView",
            "_model_name": "ProgressStyleModel",
            "description_width": "initial",
            "_view_module": "@jupyter-widgets/base",
            "_model_module_version": "1.5.0",
            "_view_count": null,
            "_view_module_version": "1.2.0",
            "bar_color": null,
            "_model_module": "@jupyter-widgets/controls"
          }
        },
        "0f863738bf764d0a9538eadb42650d18": {
          "model_module": "@jupyter-widgets/base",
          "model_name": "LayoutModel",
          "state": {
            "_view_name": "LayoutView",
            "grid_template_rows": null,
            "right": null,
            "justify_content": null,
            "_view_module": "@jupyter-widgets/base",
            "overflow": null,
            "_model_module_version": "1.2.0",
            "_view_count": null,
            "flex_flow": null,
            "width": null,
            "min_width": null,
            "border": null,
            "align_items": null,
            "bottom": null,
            "_model_module": "@jupyter-widgets/base",
            "top": null,
            "grid_column": null,
            "overflow_y": null,
            "overflow_x": null,
            "grid_auto_flow": null,
            "grid_area": null,
            "grid_template_columns": null,
            "flex": null,
            "_model_name": "LayoutModel",
            "justify_items": null,
            "grid_row": null,
            "max_height": null,
            "align_content": null,
            "visibility": null,
            "align_self": null,
            "height": null,
            "min_height": null,
            "padding": null,
            "grid_auto_rows": null,
            "grid_gap": null,
            "max_width": null,
            "order": null,
            "_view_module_version": "1.2.0",
            "grid_template_areas": null,
            "object_position": null,
            "object_fit": null,
            "grid_auto_columns": null,
            "margin": null,
            "display": null,
            "left": null
          }
        },
        "3e3f9c44de9b40c495621d2ab64e51b8": {
          "model_module": "@jupyter-widgets/controls",
          "model_name": "DescriptionStyleModel",
          "state": {
            "_view_name": "StyleView",
            "_model_name": "DescriptionStyleModel",
            "description_width": "",
            "_view_module": "@jupyter-widgets/base",
            "_model_module_version": "1.5.0",
            "_view_count": null,
            "_view_module_version": "1.2.0",
            "_model_module": "@jupyter-widgets/controls"
          }
        },
        "59bfbb3ddd1649e2b947155dffc4d4c6": {
          "model_module": "@jupyter-widgets/base",
          "model_name": "LayoutModel",
          "state": {
            "_view_name": "LayoutView",
            "grid_template_rows": null,
            "right": null,
            "justify_content": null,
            "_view_module": "@jupyter-widgets/base",
            "overflow": null,
            "_model_module_version": "1.2.0",
            "_view_count": null,
            "flex_flow": null,
            "width": null,
            "min_width": null,
            "border": null,
            "align_items": null,
            "bottom": null,
            "_model_module": "@jupyter-widgets/base",
            "top": null,
            "grid_column": null,
            "overflow_y": null,
            "overflow_x": null,
            "grid_auto_flow": null,
            "grid_area": null,
            "grid_template_columns": null,
            "flex": null,
            "_model_name": "LayoutModel",
            "justify_items": null,
            "grid_row": null,
            "max_height": null,
            "align_content": null,
            "visibility": null,
            "align_self": null,
            "height": null,
            "min_height": null,
            "padding": null,
            "grid_auto_rows": null,
            "grid_gap": null,
            "max_width": null,
            "order": null,
            "_view_module_version": "1.2.0",
            "grid_template_areas": null,
            "object_position": null,
            "object_fit": null,
            "grid_auto_columns": null,
            "margin": null,
            "display": null,
            "left": null
          }
        }
      }
    }
  },
  "cells": [
    {
      "cell_type": "markdown",
      "metadata": {
        "id": "view-in-github",
        "colab_type": "text"
      },
      "source": [
        "<a href=\"https://colab.research.google.com/github/plaban1981/NLP-Transfer-Learning/blob/master/zero_shot_pipeline_sentiment.ipynb\" target=\"_parent\"><img src=\"https://colab.research.google.com/assets/colab-badge.svg\" alt=\"Open In Colab\"/></a>"
      ]
    },
    {
      "cell_type": "code",
      "metadata": {
        "id": "-_siC10Hfjvb",
        "colab_type": "code",
        "colab": {
          "base_uri": "https://localhost:8080/",
          "height": 799
        },
        "outputId": "76ae94d2-051f-4a5e-97ad-95152db00484"
      },
      "source": [
        "!pip install git+https://github.com/huggingface/transformers.git\n",
        "!pip install GetOldTweets3"
      ],
      "execution_count": null,
      "outputs": [
        {
          "output_type": "stream",
          "text": [
            "Collecting git+https://github.com/huggingface/transformers.git\n",
            "  Cloning https://github.com/huggingface/transformers.git to /tmp/pip-req-build-n6vmlh1v\n",
            "  Running command git clone -q https://github.com/huggingface/transformers.git /tmp/pip-req-build-n6vmlh1v\n",
            "Requirement already satisfied: numpy in /usr/local/lib/python3.6/dist-packages (from transformers==3.0.2) (1.18.5)\n",
            "Collecting tokenizers==0.8.1.rc2\n",
            "\u001b[?25l  Downloading https://files.pythonhosted.org/packages/80/83/8b9fccb9e48eeb575ee19179e2bdde0ee9a1904f97de5f02d19016b8804f/tokenizers-0.8.1rc2-cp36-cp36m-manylinux1_x86_64.whl (3.0MB)\n",
            "\u001b[K     |████████████████████████████████| 3.0MB 6.4MB/s \n",
            "\u001b[?25hRequirement already satisfied: packaging in /usr/local/lib/python3.6/dist-packages (from transformers==3.0.2) (20.4)\n",
            "Requirement already satisfied: filelock in /usr/local/lib/python3.6/dist-packages (from transformers==3.0.2) (3.0.12)\n",
            "Requirement already satisfied: requests in /usr/local/lib/python3.6/dist-packages (from transformers==3.0.2) (2.23.0)\n",
            "Requirement already satisfied: tqdm>=4.27 in /usr/local/lib/python3.6/dist-packages (from transformers==3.0.2) (4.41.1)\n",
            "Requirement already satisfied: regex!=2019.12.17 in /usr/local/lib/python3.6/dist-packages (from transformers==3.0.2) (2019.12.20)\n",
            "Collecting sentencepiece!=0.1.92\n",
            "\u001b[?25l  Downloading https://files.pythonhosted.org/packages/d4/a4/d0a884c4300004a78cca907a6ff9a5e9fe4f090f5d95ab341c53d28cbc58/sentencepiece-0.1.91-cp36-cp36m-manylinux1_x86_64.whl (1.1MB)\n",
            "\u001b[K     |████████████████████████████████| 1.1MB 41.4MB/s \n",
            "\u001b[?25hCollecting sacremoses\n",
            "\u001b[?25l  Downloading https://files.pythonhosted.org/packages/7d/34/09d19aff26edcc8eb2a01bed8e98f13a1537005d31e95233fd48216eed10/sacremoses-0.0.43.tar.gz (883kB)\n",
            "\u001b[K     |████████████████████████████████| 890kB 39.0MB/s \n",
            "\u001b[?25hRequirement already satisfied: dataclasses in /usr/local/lib/python3.6/dist-packages (from transformers==3.0.2) (0.7)\n",
            "Requirement already satisfied: pyparsing>=2.0.2 in /usr/local/lib/python3.6/dist-packages (from packaging->transformers==3.0.2) (2.4.7)\n",
            "Requirement already satisfied: six in /usr/local/lib/python3.6/dist-packages (from packaging->transformers==3.0.2) (1.15.0)\n",
            "Requirement already satisfied: chardet<4,>=3.0.2 in /usr/local/lib/python3.6/dist-packages (from requests->transformers==3.0.2) (3.0.4)\n",
            "Requirement already satisfied: urllib3!=1.25.0,!=1.25.1,<1.26,>=1.21.1 in /usr/local/lib/python3.6/dist-packages (from requests->transformers==3.0.2) (1.24.3)\n",
            "Requirement already satisfied: idna<3,>=2.5 in /usr/local/lib/python3.6/dist-packages (from requests->transformers==3.0.2) (2.10)\n",
            "Requirement already satisfied: certifi>=2017.4.17 in /usr/local/lib/python3.6/dist-packages (from requests->transformers==3.0.2) (2020.6.20)\n",
            "Requirement already satisfied: click in /usr/local/lib/python3.6/dist-packages (from sacremoses->transformers==3.0.2) (7.1.2)\n",
            "Requirement already satisfied: joblib in /usr/local/lib/python3.6/dist-packages (from sacremoses->transformers==3.0.2) (0.16.0)\n",
            "Building wheels for collected packages: transformers, sacremoses\n",
            "  Building wheel for transformers (setup.py) ... \u001b[?25l\u001b[?25hdone\n",
            "  Created wheel for transformers: filename=transformers-3.0.2-cp36-none-any.whl size=867670 sha256=ba4e52ef39727b497b9a782c218e98fd10aa7dbd62a372415983130a16a31948\n",
            "  Stored in directory: /tmp/pip-ephem-wheel-cache-0qa7agac/wheels/33/eb/3b/4bf5dd835e865e472d4fc0754f35ac0edb08fe852e8f21655f\n",
            "  Building wheel for sacremoses (setup.py) ... \u001b[?25l\u001b[?25hdone\n",
            "  Created wheel for sacremoses: filename=sacremoses-0.0.43-cp36-none-any.whl size=893260 sha256=a79417e5177c35602e3860f634b38d233228a353791ca3830493c7136311e6ab\n",
            "  Stored in directory: /root/.cache/pip/wheels/29/3c/fd/7ce5c3f0666dab31a50123635e6fb5e19ceb42ce38d4e58f45\n",
            "Successfully built transformers sacremoses\n",
            "Installing collected packages: tokenizers, sentencepiece, sacremoses, transformers\n",
            "Successfully installed sacremoses-0.0.43 sentencepiece-0.1.91 tokenizers-0.8.1rc2 transformers-3.0.2\n",
            "Collecting GetOldTweets3\n",
            "  Downloading https://files.pythonhosted.org/packages/ed/f4/a00c2a7c90801abc875325bb5416ce9090ac86d06a00cc887131bd73ba45/GetOldTweets3-0.0.11-py3-none-any.whl\n",
            "Requirement already satisfied: lxml>=3.5.0 in /usr/local/lib/python3.6/dist-packages (from GetOldTweets3) (4.2.6)\n",
            "Collecting pyquery>=1.2.10\n",
            "  Downloading https://files.pythonhosted.org/packages/78/43/95d42e386c61cb639d1a0b94f0c0b9f0b7d6b981ad3c043a836c8b5bc68b/pyquery-1.4.1-py2.py3-none-any.whl\n",
            "Collecting cssselect>0.7.9\n",
            "  Downloading https://files.pythonhosted.org/packages/3b/d4/3b5c17f00cce85b9a1e6f91096e1cc8e8ede2e1be8e96b87ce1ed09e92c5/cssselect-1.1.0-py2.py3-none-any.whl\n",
            "Installing collected packages: cssselect, pyquery, GetOldTweets3\n",
            "Successfully installed GetOldTweets3-0.0.11 cssselect-1.1.0 pyquery-1.4.1\n"
          ],
          "name": "stdout"
        }
      ]
    },
    {
      "cell_type": "code",
      "metadata": {
        "id": "J1Zx_W9ZfKI7",
        "colab_type": "code",
        "colab": {
          "base_uri": "https://localhost:8080/",
          "height": 51
        },
        "outputId": "f91f0ce5-96e2-4607-e460-165e6875471b"
      },
      "source": [
        "import GetOldTweets3 as got\n",
        "import pandas as pd\n",
        "from tqdm import tqdm\n",
        "import matplotlib.pyplot as plt\n",
        "import seaborn as sns\n",
        "\n",
        "from transformers import pipeline"
      ],
      "execution_count": null,
      "outputs": [
        {
          "output_type": "stream",
          "text": [
            "/usr/local/lib/python3.6/dist-packages/statsmodels/tools/_testing.py:19: FutureWarning: pandas.util.testing is deprecated. Use the functions in the public API at pandas.testing instead.\n",
            "  import pandas.util.testing as tm\n"
          ],
          "name": "stderr"
        }
      ]
    },
    {
      "cell_type": "code",
      "metadata": {
        "pycharm": {
          "name": "#%%\n"
        },
        "id": "SeGFv_dgfKI_",
        "colab_type": "code",
        "colab": {
          "base_uri": "https://localhost:8080/",
          "height": 284,
          "referenced_widgets": [
            "a6c0bc52298540d594830457d8dba68f",
            "fe619c74e8104cb7bc732cb33ce4267a",
            "b9c0571547e74da8b00fafa37a0465c6",
            "c0d701145a5743c28a6b05fe5cf93256",
            "e79427fd571b4365a2d7ebd0e49e396e",
            "72aa62669f1d44f79ec008c53d3473bd",
            "298c491d01be40db8a80850c78fd0d9d",
            "6882d50ed695435985be5fc3f1ee8819",
            "b8ad82b97d324e06be9dd5c670976922",
            "dc2e8ce100954b90a16e3f60abf53666",
            "4b816ce73692447c8f50b51b03735248",
            "d1e6ac4f12884a3592f3a2cea9713a23",
            "52fc835564eb425c84a97ea991864a09",
            "025e7aeaa66045b8994ffec18a8fd92e",
            "effa6e987abd4bf1a78076564bb90cd4",
            "cd959ebf94764ded8c65e003e72cd0ae",
            "4c65d5d7b52549d7a7bc6f5f206dd53a",
            "1b9068b983b743259f41f4a555c629de",
            "c498bc7f53b54b8f906d3a749bb61196",
            "41bcab1b121940ffb1b97ce34e388f31",
            "5f55803021b64e029e25765f9451cb41",
            "dc80c9004e4e417b9634c0cf827f232b",
            "0e6658c3ca94467a9ae2f18d7592996c",
            "f286c91a8dbc4b749e55cf9de39c46e4",
            "0227b76b066f48619616057d1dac4e73",
            "3c191ee913c84dfab85561d19388a978",
            "a6fb67fd4d8743938dbde27ac0de15ac",
            "e7dc9811f8fc4778a01c05984f4baefd",
            "fad54441222742caa5564ac014c355d1",
            "0f863738bf764d0a9538eadb42650d18",
            "3e3f9c44de9b40c495621d2ab64e51b8",
            "59bfbb3ddd1649e2b947155dffc4d4c6"
          ]
        },
        "outputId": "de0d4f4c-67fe-4382-8a6f-5b2f3cf7505e"
      },
      "source": [
        "classifier = pipeline(\"zero-shot-classification\")"
      ],
      "execution_count": null,
      "outputs": [
        {
          "output_type": "display_data",
          "data": {
            "application/vnd.jupyter.widget-view+json": {
              "model_id": "a6c0bc52298540d594830457d8dba68f",
              "version_minor": 0,
              "version_major": 2
            },
            "text/plain": [
              "HBox(children=(FloatProgress(value=0.0, description='Downloading', max=908.0, style=ProgressStyle(description_…"
            ]
          },
          "metadata": {
            "tags": []
          }
        },
        {
          "output_type": "stream",
          "text": [
            "\n"
          ],
          "name": "stdout"
        },
        {
          "output_type": "display_data",
          "data": {
            "application/vnd.jupyter.widget-view+json": {
              "model_id": "b8ad82b97d324e06be9dd5c670976922",
              "version_minor": 0,
              "version_major": 2
            },
            "text/plain": [
              "HBox(children=(FloatProgress(value=0.0, description='Downloading', max=898823.0, style=ProgressStyle(descripti…"
            ]
          },
          "metadata": {
            "tags": []
          }
        },
        {
          "output_type": "stream",
          "text": [
            "\n"
          ],
          "name": "stdout"
        },
        {
          "output_type": "display_data",
          "data": {
            "application/vnd.jupyter.widget-view+json": {
              "model_id": "4c65d5d7b52549d7a7bc6f5f206dd53a",
              "version_minor": 0,
              "version_major": 2
            },
            "text/plain": [
              "HBox(children=(FloatProgress(value=0.0, description='Downloading', max=456318.0, style=ProgressStyle(descripti…"
            ]
          },
          "metadata": {
            "tags": []
          }
        },
        {
          "output_type": "stream",
          "text": [
            "\n"
          ],
          "name": "stdout"
        },
        {
          "output_type": "display_data",
          "data": {
            "application/vnd.jupyter.widget-view+json": {
              "model_id": "0227b76b066f48619616057d1dac4e73",
              "version_minor": 0,
              "version_major": 2
            },
            "text/plain": [
              "HBox(children=(FloatProgress(value=0.0, description='Downloading', max=1629486723.0, style=ProgressStyle(descr…"
            ]
          },
          "metadata": {
            "tags": []
          }
        },
        {
          "output_type": "stream",
          "text": [
            "\n"
          ],
          "name": "stdout"
        },
        {
          "output_type": "stream",
          "text": [
            "Some weights of the model checkpoint at facebook/bart-large-mnli were not used when initializing BartForSequenceClassification: ['model.encoder.version', 'model.decoder.version']\n",
            "- This IS expected if you are initializing BartForSequenceClassification from the checkpoint of a model trained on another task or with another architecture (e.g. initializing a BertForSequenceClassification model from a BertForPretraining model).\n",
            "- This IS NOT expected if you are initializing BartForSequenceClassification from the checkpoint of a model that you expect to be exactly identical (initializing a BertForSequenceClassification model from a BertForSequenceClassification model).\n"
          ],
          "name": "stderr"
        }
      ]
    },
    {
      "cell_type": "code",
      "metadata": {
        "pycharm": {
          "name": "#%%\n"
        },
        "id": "1g84ieW0fKJE",
        "colab_type": "code",
        "colab": {}
      },
      "source": [
        "# Function that pulls tweets based on a general search query\n",
        "\n",
        "# Parameters: (text query you want to search), (max number of most recent tweets to pull from)\n",
        "def text_query_to_df(text_query, count):\n",
        "    # Creation of query object\n",
        "    tweetCriteria = got.manager.TweetCriteria().setQuerySearch(text_query)\\\n",
        "                                                .setMaxTweets(count).setLang('en')\n",
        "    # Creation of list that contains all tweets\n",
        "    tweets = got.manager.TweetManager.getTweets(tweetCriteria)\n",
        "\n",
        "    # Creating list of chosen tweet data\n",
        "    text_tweets = [[tweet.date, tweet.text] for tweet in tweets]\n",
        "\n",
        "    # Creation of dataframe from tweets\n",
        "    tweets_df = pd.DataFrame(text_tweets, columns = ['Datetime', 'Text'])\n",
        "\n",
        "    return tweets_df\n",
        "\n",
        "# Input search query to scrape tweets and name csv file\n",
        "# Max recent tweets pulls x amount of most recent tweets from that user\n",
        "txt = 'climate fight'\n",
        "max_recs = 500\n",
        "\n",
        "# Calling function to query X amount of relevant tweets and create a CSV file\n",
        "tweets_df = text_query_to_df(txt, max_recs)"
      ],
      "execution_count": null,
      "outputs": []
    },
    {
      "cell_type": "code",
      "metadata": {
        "pycharm": {
          "name": "#%%\n"
        },
        "id": "hMp6L9vDfKJG",
        "colab_type": "code",
        "colab": {
          "base_uri": "https://localhost:8080/",
          "height": 359
        },
        "outputId": "60a25a0b-6e08-4406-b316-cf8c58bad12f"
      },
      "source": [
        "tweets_df.head(10)"
      ],
      "execution_count": null,
      "outputs": [
        {
          "output_type": "execute_result",
          "data": {
            "text/html": [
              "<div>\n",
              "<style scoped>\n",
              "    .dataframe tbody tr th:only-of-type {\n",
              "        vertical-align: middle;\n",
              "    }\n",
              "\n",
              "    .dataframe tbody tr th {\n",
              "        vertical-align: top;\n",
              "    }\n",
              "\n",
              "    .dataframe thead th {\n",
              "        text-align: right;\n",
              "    }\n",
              "</style>\n",
              "<table border=\"1\" class=\"dataframe\">\n",
              "  <thead>\n",
              "    <tr style=\"text-align: right;\">\n",
              "      <th></th>\n",
              "      <th>Datetime</th>\n",
              "      <th>Text</th>\n",
              "    </tr>\n",
              "  </thead>\n",
              "  <tbody>\n",
              "    <tr>\n",
              "      <th>0</th>\n",
              "      <td>2020-08-20 07:55:23+00:00</td>\n",
              "      <td>CA state leaders are considering legislation t...</td>\n",
              "    </tr>\n",
              "    <tr>\n",
              "      <th>1</th>\n",
              "      <td>2020-08-20 07:54:20+00:00</td>\n",
              "      <td>RT GretaThunberg: Indigenous peoples are on th...</td>\n",
              "    </tr>\n",
              "    <tr>\n",
              "      <th>2</th>\n",
              "      <td>2020-08-20 07:52:08+00:00</td>\n",
              "      <td>You've got it all wrong. It's organised arson ...</td>\n",
              "    </tr>\n",
              "    <tr>\n",
              "      <th>3</th>\n",
              "      <td>2020-08-20 07:49:19+00:00</td>\n",
              "      <td>wef: This Indian activist says its time to use...</td>\n",
              "    </tr>\n",
              "    <tr>\n",
              "      <th>4</th>\n",
              "      <td>2020-08-20 07:46:57+00:00</td>\n",
              "      <td>again, not to be insensitive, but I've been se...</td>\n",
              "    </tr>\n",
              "    <tr>\n",
              "      <th>5</th>\n",
              "      <td>2020-08-20 07:44:26+00:00</td>\n",
              "      <td>Retweet @CopernicusLand: RT EU_ENV: The #Balti...</td>\n",
              "    </tr>\n",
              "    <tr>\n",
              "      <th>6</th>\n",
              "      <td>2020-08-20 07:44:06+00:00</td>\n",
              "      <td>Aren’t these the people who are trying to figh...</td>\n",
              "    </tr>\n",
              "    <tr>\n",
              "      <th>7</th>\n",
              "      <td>2020-08-20 07:39:31+00:00</td>\n",
              "      <td>This is insanity. So many layers : stolen indi...</td>\n",
              "    </tr>\n",
              "    <tr>\n",
              "      <th>8</th>\n",
              "      <td>2020-08-20 07:38:04+00:00</td>\n",
              "      <td>A Fight Over the Nile Is a Preview of Climate ...</td>\n",
              "    </tr>\n",
              "    <tr>\n",
              "      <th>9</th>\n",
              "      <td>2020-08-20 07:31:56+00:00</td>\n",
              "      <td>The fight against 'climate-wrecking' dirty air...</td>\n",
              "    </tr>\n",
              "  </tbody>\n",
              "</table>\n",
              "</div>"
            ],
            "text/plain": [
              "                   Datetime                                               Text\n",
              "0 2020-08-20 07:55:23+00:00  CA state leaders are considering legislation t...\n",
              "1 2020-08-20 07:54:20+00:00  RT GretaThunberg: Indigenous peoples are on th...\n",
              "2 2020-08-20 07:52:08+00:00  You've got it all wrong. It's organised arson ...\n",
              "3 2020-08-20 07:49:19+00:00  wef: This Indian activist says its time to use...\n",
              "4 2020-08-20 07:46:57+00:00  again, not to be insensitive, but I've been se...\n",
              "5 2020-08-20 07:44:26+00:00  Retweet @CopernicusLand: RT EU_ENV: The #Balti...\n",
              "6 2020-08-20 07:44:06+00:00  Aren’t these the people who are trying to figh...\n",
              "7 2020-08-20 07:39:31+00:00  This is insanity. So many layers : stolen indi...\n",
              "8 2020-08-20 07:38:04+00:00  A Fight Over the Nile Is a Preview of Climate ...\n",
              "9 2020-08-20 07:31:56+00:00  The fight against 'climate-wrecking' dirty air..."
            ]
          },
          "metadata": {
            "tags": []
          },
          "execution_count": 5
        }
      ]
    },
    {
      "cell_type": "code",
      "metadata": {
        "pycharm": {
          "name": "#%%\n"
        },
        "id": "OXJ-zoTEfKJJ",
        "colab_type": "code",
        "colab": {
          "base_uri": "https://localhost:8080/",
          "height": 1000
        },
        "outputId": "68b8c161-2769-468a-bdc1-c1e0837dbc28"
      },
      "source": [
        "candidate_labels = [\"renewable\", \"politics\", \"emission\", \"temperature\", \"emergency\", \"advertisment\"]\n",
        "candidate_results = [0, 0, 0, 0, 0, 0]\n",
        "\n",
        "for sent in tqdm(tweets_df['Text'].values):\n",
        "    # To do multi-class classification, simply pass multi_class=True.\n",
        "    # In this case, the scores will be independent, but each will fall between 0 and 1.\n",
        "    res = classifier(sent, candidate_labels)\n",
        "\n",
        "    if res['labels'][0] == 'renewable' and res['scores'][0] > 0.5:\n",
        "        candidate_results[0] = candidate_results[0] + 1\n",
        "    if res['labels'][0] == 'politics' and res['scores'][0] > 0.5:\n",
        "        candidate_results[1] = candidate_results[1] + 1\n",
        "    if res['labels'][0] == 'emission' and res['scores'][0] > 0.5:\n",
        "        candidate_results[2] = candidate_results[2] + 1\n",
        "    if res['labels'][0] == 'temperature' and res['scores'][0] > 0.5:\n",
        "        candidate_results[3] = candidate_results[3] + 1\n",
        "    if res['labels'][0] == 'emergency' and res['scores'][0] > 0.5:\n",
        "        candidate_results[4] = candidate_results[4] + 1\n",
        "    if res['labels'][0] == 'advertisment' and res['scores'][0] > 0.5:\n",
        "        candidate_results[5] = candidate_results[5] + 1\n",
        "\n",
        "    if res['scores'][0] > 0.5:\n",
        "        print(sent)\n",
        "        print(res['labels'])\n",
        "        print(res['scores'])\n",
        "        print('\\n')\n",
        "\n",
        "print(candidate_results)"
      ],
      "execution_count": null,
      "outputs": [
        {
          "output_type": "stream",
          "text": [
            "  1%|▏         | 7/500 [00:32<35:00,  4.26s/it]"
          ],
          "name": "stderr"
        },
        {
          "output_type": "stream",
          "text": [
            "Aren’t these the people who are trying to fight climate change? Why are they lighting fires?\n",
            "['emission', 'temperature', 'emergency', 'politics', 'advertisment', 'renewable']\n",
            "[0.8536303639411926, 0.051688067615032196, 0.04943942651152611, 0.026109909638762474, 0.014142360538244247, 0.0049898214638233185]\n",
            "\n",
            "\n"
          ],
          "name": "stdout"
        },
        {
          "output_type": "stream",
          "text": [
            "  2%|▏         | 9/500 [00:39<31:15,  3.82s/it]"
          ],
          "name": "stderr"
        },
        {
          "output_type": "stream",
          "text": [
            "A Fight Over the Nile Is a Preview of Climate Change Diplomacy \n",
            "['emission', 'temperature', 'advertisment', 'emergency', 'renewable', 'politics']\n",
            "[0.7361546754837036, 0.07401623576879501, 0.059688061475753784, 0.05410240963101387, 0.03978852927684784, 0.03625009208917618]\n",
            "\n",
            "\n"
          ],
          "name": "stdout"
        },
        {
          "output_type": "stream",
          "text": [
            "\r  2%|▏         | 10/500 [00:41<27:51,  3.41s/it]"
          ],
          "name": "stderr"
        },
        {
          "output_type": "stream",
          "text": [
            "The fight against 'climate-wrecking' dirty air that puts public health at risk \n",
            "['emission', 'emergency', 'temperature', 'advertisment', 'renewable', 'politics']\n",
            "[0.5259525179862976, 0.34289416670799255, 0.06536970287561417, 0.03543940931558609, 0.017562273889780045, 0.01278192363679409]\n",
            "\n",
            "\n"
          ],
          "name": "stdout"
        },
        {
          "output_type": "stream",
          "text": [
            "\r  2%|▏         | 11/500 [00:44<25:07,  3.08s/it]"
          ],
          "name": "stderr"
        },
        {
          "output_type": "stream",
          "text": [
            "Perennial Vegetables Are a Solution in the Fight Against Hunger and Climate Change \n",
            "['renewable', 'emission', 'emergency', 'advertisment', 'temperature', 'politics']\n",
            "[0.8596188426017761, 0.042607832700014114, 0.033667199313640594, 0.03256342187523842, 0.022922346368432045, 0.008620401844382286]\n",
            "\n",
            "\n"
          ],
          "name": "stdout"
        },
        {
          "output_type": "stream",
          "text": [
            "  3%|▎         | 17/500 [01:10<31:47,  3.95s/it]"
          ],
          "name": "stderr"
        },
        {
          "output_type": "stream",
          "text": [
            "Fight climate change! Go vegan! Save energy! Use and produce regenerative energy! Drive all-electric now! \n",
            "['emission', 'emergency', 'renewable', 'advertisment', 'temperature', 'politics']\n",
            "[0.6271826028823853, 0.13149280846118927, 0.10206611454486847, 0.08433355391025543, 0.03869295120239258, 0.01623201183974743]\n",
            "\n",
            "\n"
          ],
          "name": "stdout"
        },
        {
          "output_type": "stream",
          "text": [
            "  5%|▌         | 27/500 [01:53<32:43,  4.15s/it]"
          ],
          "name": "stderr"
        },
        {
          "output_type": "stream",
          "text": [
            "To me this classic \"look over there\" distraction. Start a fight about something that may never happen, gauge the reaction then change the policy as they go. Classic of this government. No one talking about anything else Aged Care, Ruby Princess, the climate.\n",
            "['politics', 'temperature', 'emission', 'advertisment', 'renewable', 'emergency']\n",
            "[0.8606487512588501, 0.06335213780403137, 0.02762649394571781, 0.021811282262206078, 0.017869658768177032, 0.008691671304404736]\n",
            "\n",
            "\n"
          ],
          "name": "stdout"
        },
        {
          "output_type": "stream",
          "text": [
            "\r  6%|▌         | 28/500 [01:58<33:55,  4.31s/it]"
          ],
          "name": "stderr"
        },
        {
          "output_type": "stream",
          "text": [
            "Yep. Our prison slaves are too ill from the uncontrolled deadly global pandemic to fight the climate-change induced wildfires, and Joe Biden’s abandoning the public option and his commitment to end fossil fuel subsidies. Vote blue, though, amirite?\n",
            "['emergency', 'politics', 'emission', 'advertisment', 'temperature', 'renewable']\n",
            "[0.7827187180519104, 0.09231392294168472, 0.07616034895181656, 0.022060804069042206, 0.015374955721199512, 0.011371293105185032]\n",
            "\n",
            "\n"
          ],
          "name": "stdout"
        },
        {
          "output_type": "stream",
          "text": [
            "  6%|▌         | 31/500 [02:11<33:45,  4.32s/it]"
          ],
          "name": "stderr"
        },
        {
          "output_type": "stream",
          "text": [
            "“Our slave labour firefighters are too sick from the global plague to fight the climate change wildfires.” was not on my 2020 bingo card but here we are. \n",
            "['emergency', 'emission', 'advertisment', 'politics', 'temperature', 'renewable']\n",
            "[0.5946449041366577, 0.23406358063220978, 0.0563119575381279, 0.04225359857082367, 0.0385693795979023, 0.03415656462311745]\n",
            "\n",
            "\n"
          ],
          "name": "stdout"
        },
        {
          "output_type": "stream",
          "text": [
            "\r  6%|▋         | 32/500 [02:16<35:16,  4.52s/it]"
          ],
          "name": "stderr"
        },
        {
          "output_type": "stream",
          "text": [
            "Prison labor is CA’s primary “hand crew” firefighting force, but bc of inmate COVID-19 outbreaks we don’t have the resources to fight this. Climate change, social injustice, deadly virus, it’s all connected. \n",
            "['emergency', 'emission', 'temperature', 'advertisment', 'politics', 'renewable']\n",
            "[0.5680723190307617, 0.1714521050453186, 0.07870786637067795, 0.07077698409557343, 0.07004363089799881, 0.0409470796585083]\n",
            "\n",
            "\n"
          ],
          "name": "stdout"
        },
        {
          "output_type": "stream",
          "text": [
            "  7%|▋         | 34/500 [02:23<30:51,  3.97s/it]"
          ],
          "name": "stderr"
        },
        {
          "output_type": "stream",
          "text": [
            "whoever said climate change isn’t real can come fight these fires themselves\n",
            "['emergency', 'emission', 'temperature', 'advertisment', 'renewable', 'politics']\n",
            "[0.6695813536643982, 0.18521536886692047, 0.07335791736841202, 0.030172225087881088, 0.026967355981469154, 0.014705757610499859]\n",
            "\n",
            "\n"
          ],
          "name": "stdout"
        },
        {
          "output_type": "stream",
          "text": [
            "  7%|▋         | 37/500 [02:37<35:57,  4.66s/it]"
          ],
          "name": "stderr"
        },
        {
          "output_type": "stream",
          "text": [
            "We have already started, we have no more time left. If we don’t fight climate change with extreme radical measures within the next 10 years, my kids are doomed. Biden will not do anything with actual impact, so 8 years of too little or 4 years of nothing... 4 years is better.\n",
            "['emergency', 'politics', 'emission', 'temperature', 'renewable', 'advertisment']\n",
            "[0.5271612405776978, 0.23347154259681702, 0.08286815136671066, 0.061241429299116135, 0.059563588351011276, 0.0356939472258091]\n",
            "\n",
            "\n"
          ],
          "name": "stdout"
        },
        {
          "output_type": "stream",
          "text": [
            "  8%|▊         | 42/500 [02:58<31:25,  4.12s/it]"
          ],
          "name": "stderr"
        },
        {
          "output_type": "stream",
          "text": [
            "Biden offers all kinds of policies: raising the minimum wage, re-engaging in the fight against climate change, protecting healthcare coverage and adding a public option, police reform etc. \n",
            "['politics', 'emission', 'temperature', 'advertisment', 'renewable', 'emergency']\n",
            "[0.5685984492301941, 0.17087119817733765, 0.12440532445907593, 0.06568029522895813, 0.039663299918174744, 0.030781473964452744]\n",
            "\n",
            "\n"
          ],
          "name": "stdout"
        },
        {
          "output_type": "stream",
          "text": [
            "  9%|▉         | 45/500 [03:10<31:00,  4.09s/it]"
          ],
          "name": "stderr"
        },
        {
          "output_type": "stream",
          "text": [
            "Despite our state (New Mexico) not being know by many Americans, today the governor spoke of how we’ve been a leader in the fight for renewable and clean energy. She also added how a vote for Donald Trump is a step in the wrong direction for climate change. \n",
            "['renewable', 'politics', 'temperature', 'emission', 'emergency', 'advertisment']\n",
            "[0.7014621496200562, 0.09019477665424347, 0.06549208611249924, 0.055334292352199554, 0.046039510518312454, 0.041477203369140625]\n",
            "\n",
            "\n"
          ],
          "name": "stdout"
        },
        {
          "output_type": "stream",
          "text": [
            "  9%|▉         | 47/500 [03:20<32:55,  4.36s/it]"
          ],
          "name": "stderr"
        },
        {
          "output_type": "stream",
          "text": [
            "We're not going to have anything left to fight for if we don't vote for the \"REAL\" #GND. Time is of the essence for those that believe in the climate crisis. #HowieHawkins \n",
            "['emergency', 'politics', 'renewable', 'emission', 'temperature', 'advertisment']\n",
            "[0.6219228506088257, 0.19196006655693054, 0.06839118897914886, 0.05054228752851486, 0.042399074882268906, 0.024784570559859276]\n",
            "\n",
            "\n"
          ],
          "name": "stdout"
        },
        {
          "output_type": "stream",
          "text": [
            "\r 10%|▉         | 48/500 [03:24<32:34,  4.32s/it]"
          ],
          "name": "stderr"
        },
        {
          "output_type": "stream",
          "text": [
            "Do you believe in Climate Change @brendancassell3? Climate change is one of the most pressing issues we face in the 21at century. Will you stand with me and fight against climate change?\n",
            "['emergency', 'emission', 'politics', 'advertisment', 'renewable', 'temperature']\n",
            "[0.5670046806335449, 0.12649960815906525, 0.09824527055025101, 0.09426068514585495, 0.06793699413537979, 0.0460527278482914]\n",
            "\n",
            "\n"
          ],
          "name": "stdout"
        },
        {
          "output_type": "stream",
          "text": [
            " 10%|█         | 52/500 [03:43<35:03,  4.69s/it]"
          ],
          "name": "stderr"
        },
        {
          "output_type": "stream",
          "text": [
            "Facebook lumping people who are against fascism with far right militias is really so ridiculous. Reminds me of a time long ago when a fascist said \"I think there's blame on both sides\", of a group of ppl that killed someone and a group saying that racism is bad actually.\n",
            "['emission', 'advertisment', 'politics', 'temperature', 'emergency', 'renewable']\n",
            "[0.5076809525489807, 0.12944430112838745, 0.11870419979095459, 0.11320000141859055, 0.10228251665830612, 0.028688030317425728]\n",
            "\n",
            "\n"
          ],
          "name": "stdout"
        },
        {
          "output_type": "stream",
          "text": [
            " 11%|█         | 55/500 [03:59<38:51,  5.24s/it]"
          ],
          "name": "stderr"
        },
        {
          "output_type": "stream",
          "text": [
            "It's amazing to see the commitment other countries have to fight climate change. In this game I'm playing, which uses real world satellite data, I was flying along the southern coast of Spain. All those little red dots are lights on wind turbines. We can and need to do better. \n",
            "['renewable', 'emission', 'emergency', 'advertisment', 'temperature', 'politics']\n",
            "[0.7771593928337097, 0.11476245522499084, 0.038282085210084915, 0.029340853914618492, 0.027561407536268234, 0.012893869541585445]\n",
            "\n",
            "\n"
          ],
          "name": "stdout"
        },
        {
          "output_type": "stream",
          "text": [
            " 12%|█▏        | 58/500 [04:13<35:50,  4.86s/it]"
          ],
          "name": "stderr"
        },
        {
          "output_type": "stream",
          "text": [
            "Climate catastrophe? A fire? You would never survive outside of your Liberal bubble. Man, you lucked out! Spout any idiotic thing that comes to mind. Did you ever help fight a fire? Ever? Pompous AH.\n",
            "['emergency', 'emission', 'politics', 'advertisment', 'renewable', 'temperature']\n",
            "[0.6859760284423828, 0.11831385642290115, 0.06253016740083694, 0.05205395445227623, 0.04348347708582878, 0.03764251992106438]\n",
            "\n",
            "\n"
          ],
          "name": "stdout"
        },
        {
          "output_type": "stream",
          "text": [
            "\r 12%|█▏        | 59/500 [04:18<35:21,  4.81s/it]"
          ],
          "name": "stderr"
        },
        {
          "output_type": "stream",
          "text": [
            "Presidential candidates love promising to fight climate change and then fail to back it up with action. It needs to be made a national emergency on day one and I don’t wanna hear anything about it affecting the economy. If anything, it will help the economy.\n",
            "['politics', 'emergency', 'emission', 'temperature', 'advertisment', 'renewable']\n",
            "[0.5371637940406799, 0.36618730425834656, 0.05740244314074516, 0.018024638295173645, 0.015384954400360584, 0.005836909171193838]\n",
            "\n",
            "\n"
          ],
          "name": "stdout"
        },
        {
          "output_type": "stream",
          "text": [
            " 12%|█▏        | 61/500 [04:27<34:47,  4.76s/it]"
          ],
          "name": "stderr"
        },
        {
          "output_type": "stream",
          "text": [
            "There will be no democracy, or a progressive fight, or a climate deal if young people sit out this election. Please elect your leader first and then negotiate with him. You cannot negotiate with a crazy person who will gas peaceful protesters.\n",
            "['politics', 'emission', 'emergency', 'renewable', 'temperature', 'advertisment']\n",
            "[0.7164773344993591, 0.08408226817846298, 0.08322496712207794, 0.04637674614787102, 0.03715585544705391, 0.03268280252814293]\n",
            "\n",
            "\n"
          ],
          "name": "stdout"
        },
        {
          "output_type": "stream",
          "text": [
            " 13%|█▎        | 66/500 [04:51<34:42,  4.80s/it]"
          ],
          "name": "stderr"
        },
        {
          "output_type": "stream",
          "text": [
            ".@TheDemocrats @TomPerez just reversed their commitment to end fossil fuel subsidies in the #DNC2020 platform. It's time to move on from fossil fuels to fight climate change meaningfully. \n",
            "['politics', 'emergency', 'emission', 'temperature', 'advertisment', 'renewable']\n",
            "[0.5310351252555847, 0.15363182127475739, 0.1370742917060852, 0.09307564795017242, 0.04375035688281059, 0.04143276810646057]\n",
            "\n",
            "\n"
          ],
          "name": "stdout"
        },
        {
          "output_type": "stream",
          "text": [
            "\r 13%|█▎        | 67/500 [04:57<35:26,  4.91s/it]"
          ],
          "name": "stderr"
        },
        {
          "output_type": "stream",
          "text": [
            "Dear Joe, when u say u fight climate change its vague. maybe u can tell us what u are planning to do. joining paris climate accord, funding clean energy initiatives &amp; sustainable agriculture, defunding/bailing out big oil etc. #DemocraticNationalConvention #DemConvention\n",
            "['politics', 'emission', 'advertisment', 'renewable', 'emergency', 'temperature']\n",
            "[0.6338170766830444, 0.12567207217216492, 0.09251999855041504, 0.062349725514650345, 0.045703254640102386, 0.039937861263751984]\n",
            "\n",
            "\n"
          ],
          "name": "stdout"
        },
        {
          "output_type": "stream",
          "text": [
            " 14%|█▍        | 69/500 [05:07<36:23,  5.07s/it]"
          ],
          "name": "stderr"
        },
        {
          "output_type": "stream",
          "text": [
            "It doesn't help that the movement to fight climate change in the US has now been welded to a social justice agenda that has nothing to do with climate, but guarantees the permanent polarization of what could otherwise be a cross-cutting political issue\n",
            "['politics', 'emission', 'emergency', 'temperature', 'advertisment', 'renewable']\n",
            "[0.6532201766967773, 0.17716388404369354, 0.06367434561252594, 0.04965361952781677, 0.036874666810035706, 0.019413292407989502]\n",
            "\n",
            "\n"
          ],
          "name": "stdout"
        },
        {
          "output_type": "stream",
          "text": [
            " 15%|█▍        | 74/500 [05:29<33:22,  4.70s/it]"
          ],
          "name": "stderr"
        },
        {
          "output_type": "stream",
          "text": [
            "Why didn't you fight climate change years ago with AL GORE! Think of the changes 50 years later. Why Joe why!! Your responsible for climate change. Pelosi, Schumer, Clinton, Obama's, Biden, Nadler, Waters, all you Old Folks!! \n",
            "['politics', 'emission', 'emergency', 'temperature', 'advertisment', 'renewable']\n",
            "[0.5763422846794128, 0.16168241202831268, 0.15262283384799957, 0.04703117907047272, 0.03837447240948677, 0.02394697442650795]\n",
            "\n",
            "\n"
          ],
          "name": "stdout"
        },
        {
          "output_type": "stream",
          "text": [
            " 16%|█▌        | 79/500 [05:50<30:54,  4.40s/it]"
          ],
          "name": "stderr"
        },
        {
          "output_type": "stream",
          "text": [
            "Seriously, do you think with pressure from the left Biden will stop putting kids in cages? How about with Trump? I think with a serious push from Progressives he will move on climate change, will Trump? Fuck no. I'd much rather fight Biden, but go ahead.\n",
            "['politics', 'emission', 'temperature', 'emergency', 'renewable', 'advertisment']\n",
            "[0.6767911911010742, 0.10739961266517639, 0.09297773987054825, 0.057200171053409576, 0.04377570375800133, 0.021855605766177177]\n",
            "\n",
            "\n"
          ],
          "name": "stdout"
        },
        {
          "output_type": "stream",
          "text": [
            " 16%|█▌        | 81/500 [05:58<29:51,  4.28s/it]"
          ],
          "name": "stderr"
        },
        {
          "output_type": "stream",
          "text": [
            "Corporate @DNC killing climate once again “Democrats support eliminating tax breaks and subsidies for fossil fuels, and will fight to defend and extend tax incentives for energy efficiency and clean energy.” \n",
            "['emission', 'politics', 'temperature', 'emergency', 'advertisment', 'renewable']\n",
            "[0.5891594290733337, 0.1791759729385376, 0.12072794139385223, 0.0743408352136612, 0.024936767295002937, 0.011659123003482819]\n",
            "\n",
            "\n"
          ],
          "name": "stdout"
        },
        {
          "output_type": "stream",
          "text": [
            "\r 16%|█▋        | 82/500 [06:03<31:38,  4.54s/it]"
          ],
          "name": "stderr"
        },
        {
          "output_type": "stream",
          "text": [
            "'Trump hasn't grown into the job because he can't': Obama tears into Trump and delivers a forceful endorsement of Biden in DNC speech.Americans We can help change the country,and fight for our Healthcare, Social Security, Medicare,Medicaid, food Stamp,Jobs, Climate change. Vote\n",
            "['politics', 'emergency', 'emission', 'advertisment', 'renewable', 'temperature']\n",
            "[0.7073909640312195, 0.10158615559339523, 0.0788542777299881, 0.04932127147912979, 0.03520719334483147, 0.02764005772769451]\n",
            "\n",
            "\n"
          ],
          "name": "stdout"
        },
        {
          "output_type": "stream",
          "text": [
            " 18%|█▊        | 88/500 [06:29<31:04,  4.53s/it]"
          ],
          "name": "stderr"
        },
        {
          "output_type": "stream",
          "text": [
            "I can’t get over this. Richest country in the world can’t fight climate catastrophe fires because they couldn’t be bothered to fight the pandemic. So their slave labour is too sick (or dead) to be thrown at the fiery infernos, also caused by apathy and incompetence. \n",
            "['emergency', 'emission', 'advertisment', 'temperature', 'renewable', 'politics']\n",
            "[0.6090512275695801, 0.1690196841955185, 0.07424590736627579, 0.06208263337612152, 0.04625817388296127, 0.03934232518076897]\n",
            "\n",
            "\n"
          ],
          "name": "stdout"
        },
        {
          "output_type": "stream",
          "text": [
            " 18%|█▊        | 90/500 [06:38<31:48,  4.65s/it]"
          ],
          "name": "stderr"
        },
        {
          "output_type": "stream",
          "text": [
            "The most important things we need for a President is someone who will fight the power of 1%, demand justice and equality for all, and enact a true #GreenNewDeal to enable us to survive climate change while enacting an economic bill of rights. #DNC2020\n",
            "['politics', 'emergency', 'emission', 'temperature', 'renewable', 'advertisment']\n",
            "[0.5126129984855652, 0.17311549186706543, 0.11160211265087128, 0.08761605620384216, 0.07649984210729599, 0.03855353221297264]\n",
            "\n",
            "\n"
          ],
          "name": "stdout"
        },
        {
          "output_type": "stream",
          "text": [
            " 19%|█▉        | 95/500 [07:00<30:13,  4.48s/it]"
          ],
          "name": "stderr"
        },
        {
          "output_type": "stream",
          "text": [
            "vote for the immigrants who can't, vote for those who are disenfranchised, vote for those who are discriminated against when they're seeking basic healthcare, vote for the climate that can't fight on its own.\n",
            "['politics', 'emission', 'temperature', 'emergency', 'advertisment', 'renewable']\n",
            "[0.5227858424186707, 0.2480713278055191, 0.15361331403255463, 0.042459964752197266, 0.023836800828576088, 0.009232732467353344]\n",
            "\n",
            "\n"
          ],
          "name": "stdout"
        },
        {
          "output_type": "stream",
          "text": [
            " 20%|██        | 100/500 [07:26<34:09,  5.12s/it]"
          ],
          "name": "stderr"
        },
        {
          "output_type": "stream",
          "text": [
            "The US military is the world’s largest polluter, you cant fight climate change without defunding the military and decreasing military interventism #DNCConvention\n",
            "['emission', 'emergency', 'politics', 'temperature', 'advertisment', 'renewable']\n",
            "[0.9109463691711426, 0.030396249145269394, 0.026888633146882057, 0.0180733110755682, 0.010796678252518177, 0.0028988071717321873]\n",
            "\n",
            "\n"
          ],
          "name": "stdout"
        },
        {
          "output_type": "stream",
          "text": [
            " 21%|██        | 104/500 [07:43<28:49,  4.37s/it]"
          ],
          "name": "stderr"
        },
        {
          "output_type": "stream",
          "text": [
            "I swear the fact that California can't fight our climate change fueled fires effectively amidst a pandemic because we rely on *slave* labor of people who are incarcerated it's just a new level of reminder how deep we're in this thing. \n",
            "['emergency', 'emission', 'temperature', 'advertisment', 'politics', 'renewable']\n",
            "[0.6016945838928223, 0.22485248744487762, 0.084380604326725, 0.04805740714073181, 0.02722913585603237, 0.013785788789391518]\n",
            "\n",
            "\n"
          ],
          "name": "stdout"
        },
        {
          "output_type": "stream",
          "text": [
            " 22%|██▏       | 112/500 [08:19<32:42,  5.06s/it]"
          ],
          "name": "stderr"
        },
        {
          "output_type": "stream",
          "text": [
            "LIB/CONS ALWAYS PLAY THE VOTE SPLIT SCAM TO STAY IN PERPETUAL POWER. VOTE FOR REAL CHANGE. CONS, LIBS, NDP, GREENS ALL SUPPORT SUSTAINABLE DEVELOPMENT WHICH ELIMINATE FOSSIL FUELS, FIGHTS CLIMATE CHANGE IN OTHER COUNTRIES =UN AGENDA 21 #PPC\n",
            "['politics', 'emission', 'temperature', 'renewable', 'advertisment', 'emergency']\n",
            "[0.5716330409049988, 0.2738116681575775, 0.06410826742649078, 0.034184277057647705, 0.02963242679834366, 0.02663029171526432]\n",
            "\n",
            "\n"
          ],
          "name": "stdout"
        },
        {
          "output_type": "stream",
          "text": [
            "\r 23%|██▎       | 113/500 [08:23<29:51,  4.63s/it]"
          ],
          "name": "stderr"
        },
        {
          "output_type": "stream",
          "text": [
            "If you're someone who might need a little motivation to help fight climate change, here is a fire tornado. #LoyaltonFire : @Nousernamelefts\n",
            "['emission', 'emergency', 'advertisment', 'temperature', 'renewable', 'politics']\n",
            "[0.5099121332168579, 0.17731475830078125, 0.16860373318195343, 0.0785631388425827, 0.035045381635427475, 0.030560854822397232]\n",
            "\n",
            "\n"
          ],
          "name": "stdout"
        },
        {
          "output_type": "stream",
          "text": [
            " 23%|██▎       | 115/500 [08:32<28:18,  4.41s/it]"
          ],
          "name": "stderr"
        },
        {
          "output_type": "stream",
          "text": [
            "So nothing compelling about the horrors of gun violence, immigrant separation, climate change, domestic violence and the stories of survivors and sheroes who fight every day for a better country?\n",
            "['emission', 'emergency', 'temperature', 'renewable', 'advertisment', 'politics']\n",
            "[0.51308673620224, 0.1587560921907425, 0.09504281729459763, 0.08399505913257599, 0.08077248185873032, 0.0683467760682106]\n",
            "\n",
            "\n"
          ],
          "name": "stdout"
        },
        {
          "output_type": "stream",
          "text": [
            " 24%|██▎       | 118/500 [08:45<28:06,  4.42s/it]"
          ],
          "name": "stderr"
        },
        {
          "output_type": "stream",
          "text": [
            "Protecting & expanding our urban forest is imperative. Trees fight climate change, beautify our neighborhoods &amp; provide vital shade cover to people when they are outdoors. Today council directed staff to expand and tighten our protected tree ordinance. \n",
            "['emergency', 'temperature', 'emission', 'advertisment', 'renewable', 'politics']\n",
            "[0.5233720541000366, 0.14063863456249237, 0.12364731729030609, 0.11696167290210724, 0.06494437903165817, 0.030435960739850998]\n",
            "\n",
            "\n"
          ],
          "name": "stdout"
        },
        {
          "output_type": "stream",
          "text": [
            "\r 24%|██▍       | 119/500 [08:49<28:14,  4.45s/it]"
          ],
          "name": "stderr"
        },
        {
          "output_type": "stream",
          "text": [
            "Sec. @HillaryClinton, \"Let's vote for the jobs that Joe's plan will create. Clean energy jobs to fight climate change, caregiving jobs with living wages.\" #DemocraticConvention #Clintons #Vote2020\n",
            "['politics', 'temperature', 'emission', 'renewable', 'emergency', 'advertisment']\n",
            "[0.6299782395362854, 0.1142348200082779, 0.09065622836351395, 0.06207571551203728, 0.05949321389198303, 0.04356173053383827]\n",
            "\n",
            "\n"
          ],
          "name": "stdout"
        },
        {
          "output_type": "stream",
          "text": [
            " 24%|██▍       | 121/500 [09:00<32:03,  5.07s/it]"
          ],
          "name": "stderr"
        },
        {
          "output_type": "stream",
          "text": [
            "@JoeBiden &amp; @KamalaHarris are going to give us so much to vote for. Let’s vote for the jobs that @JoeBiden plan will create, clean energy jobs to fight climate change. -Hillary Clinton DNC 8/19/2020 #WoCforBiden #DemConvention #BidenHarrisLandslide2020\n",
            "['politics', 'temperature', 'emission', 'advertisment', 'emergency', 'renewable']\n",
            "[0.6945030093193054, 0.09824760258197784, 0.06844732165336609, 0.05683666467666626, 0.046025197952985764, 0.03594020754098892]\n",
            "\n",
            "\n"
          ],
          "name": "stdout"
        },
        {
          "output_type": "stream",
          "text": [
            " 25%|██▍       | 123/500 [09:09<29:48,  4.74s/it]"
          ],
          "name": "stderr"
        },
        {
          "output_type": "stream",
          "text": [
            "Read: Change is bad. Fuck the guy who tried to get healthcare to everyone and fight climate chang. Let’s instead stan the segregationist, racist, rapist. Dem Party 4 ever \n",
            "['emission', 'politics', 'temperature', 'emergency', 'advertisment', 'renewable']\n",
            "[0.5492724180221558, 0.25720471143722534, 0.07206808775663376, 0.06820108741521835, 0.03677528351545334, 0.01647847518324852]\n",
            "\n",
            "\n"
          ],
          "name": "stdout"
        },
        {
          "output_type": "stream",
          "text": [
            " 26%|██▌       | 129/500 [09:32<25:19,  4.10s/it]"
          ],
          "name": "stderr"
        },
        {
          "output_type": "stream",
          "text": [
            "White leftoids: We need to contain the wildfires. Someone please come fight climate change. Kamala: Ok how about we use these disenfranchised incarcerated as a workforce to fight climate change and protect infrastructure? White leftoids: Not like that!\n",
            "['emergency', 'politics', 'emission', 'advertisment', 'renewable', 'temperature']\n",
            "[0.7334915995597839, 0.16889072954654694, 0.055971819907426834, 0.020554492250084877, 0.010664219036698341, 0.010427108965814114]\n",
            "\n",
            "\n"
          ],
          "name": "stdout"
        },
        {
          "output_type": "stream",
          "text": [
            " 27%|██▋       | 134/500 [09:55<26:34,  4.36s/it]"
          ],
          "name": "stderr"
        },
        {
          "output_type": "stream",
          "text": [
            "Driving those points home. Vote. Vote. Vote. And another mention of climate change = jobs. Vote to fight racial injustice, for healthcare. Hillary is hitting all the high points.\n",
            "['politics', 'emission', 'temperature', 'advertisment', 'emergency', 'renewable']\n",
            "[0.5694597959518433, 0.226010262966156, 0.0726822093129158, 0.06381595134735107, 0.03767761215567589, 0.030354119837284088]\n",
            "\n",
            "\n"
          ],
          "name": "stdout"
        },
        {
          "output_type": "stream",
          "text": [
            " 29%|██▉       | 144/500 [10:41<25:48,  4.35s/it]"
          ],
          "name": "stderr"
        },
        {
          "output_type": "stream",
          "text": [
            "@JoeBiden knows in order for a climate plan to be sufficient, it MUST center environmental justice. In a #BidenHarris administration, no community will be left behind in the fight against the climate crisis. \n",
            "['politics', 'emergency', 'renewable', 'emission', 'advertisment', 'temperature']\n",
            "[0.5083395838737488, 0.19244910776615143, 0.09078321605920792, 0.08275669068098068, 0.07105161994695663, 0.05461980029940605]\n",
            "\n",
            "\n"
          ],
          "name": "stdout"
        },
        {
          "output_type": "stream",
          "text": [
            " 29%|██▉       | 147/500 [10:55<27:30,  4.68s/it]"
          ],
          "name": "stderr"
        },
        {
          "output_type": "stream",
          "text": [
            "\"sire, we cannot fight the forest fires from the climate catastrophe you caused, our slaves are too sick from the plague\" you would roll your eyes if game of thrones had this as a plotline and it's really real life\n",
            "['emergency', 'emission', 'politics', 'temperature', 'advertisment', 'renewable']\n",
            "[0.6824559569358826, 0.13831304013729095, 0.06366056203842163, 0.05734911933541298, 0.035386260598897934, 0.02283494360744953]\n",
            "\n",
            "\n"
          ],
          "name": "stdout"
        },
        {
          "output_type": "stream",
          "text": [
            " 30%|███       | 150/500 [11:07<23:19,  4.00s/it]"
          ],
          "name": "stderr"
        },
        {
          "output_type": "stream",
          "text": [
            "We the people want a leader in the existential fight against climate change. #DNCConvention \n",
            "['emergency', 'emission', 'temperature', 'politics', 'renewable', 'advertisment']\n",
            "[0.5692102909088135, 0.16302689909934998, 0.12528012692928314, 0.08657222241163254, 0.02987050637602806, 0.026039937511086464]\n",
            "\n",
            "\n"
          ],
          "name": "stdout"
        },
        {
          "output_type": "stream",
          "text": [
            " 31%|███       | 155/500 [11:30<26:16,  4.57s/it]"
          ],
          "name": "stderr"
        },
        {
          "output_type": "stream",
          "text": [
            "The DNC dropped language calling for an end to fossil fuel subsidies and tax breaks from the party platform this week, but I’m supposed to believe Climate Change is on the table in any way? Either we fight for the #GND, or we lose everything. Our planet depends on it.\n",
            "['emergency', 'politics', 'emission', 'temperature', 'renewable', 'advertisment']\n",
            "[0.5455105304718018, 0.32211267948150635, 0.07502088695764542, 0.023341629654169083, 0.017081202939152718, 0.016933061182498932]\n",
            "\n",
            "\n"
          ],
          "name": "stdout"
        },
        {
          "output_type": "stream",
          "text": [
            " 31%|███▏      | 157/500 [11:38<25:38,  4.49s/it]"
          ],
          "name": "stderr"
        },
        {
          "output_type": "stream",
          "text": [
            "Climate change is a scientific fact. It’s not something to believe or not believe in. It needs to be addressed through positive action from the USA. We need to step back into the global community and do our part to move the fight forward. #ClimateChange #RenewableEnergy\n",
            "['renewable', 'emergency', 'emission', 'temperature', 'advertisment', 'politics']\n",
            "[0.6517176032066345, 0.14263011515140533, 0.11590399593114853, 0.044221822172403336, 0.027966242283582687, 0.017560189589858055]\n",
            "\n",
            "\n"
          ],
          "name": "stdout"
        },
        {
          "output_type": "stream",
          "text": [
            " 33%|███▎      | 163/500 [12:02<22:56,  4.08s/it]"
          ],
          "name": "stderr"
        },
        {
          "output_type": "stream",
          "text": [
            "When @JoeBiden is president, he will commit to creating good, green jobs all across America and bring us to the forefront of the fight against climate change. #DemConvention #BidenCoalition\n",
            "['politics', 'emission', 'emergency', 'renewable', 'advertisment', 'temperature']\n",
            "[0.64410400390625, 0.10750342905521393, 0.08277278393507004, 0.0711284801363945, 0.05119168758392334, 0.043299563229084015]\n",
            "\n",
            "\n"
          ],
          "name": "stdout"
        },
        {
          "output_type": "stream",
          "text": [
            " 33%|███▎      | 165/500 [12:12<25:47,  4.62s/it]"
          ],
          "name": "stderr"
        },
        {
          "output_type": "stream",
          "text": [
            "Yes I am voting against trumps fascist regime, but I am voting for Biden and his new path foward. He is putting a fantastic team togeather to fight climate change, and get the pandemic under control. #BidenHarrisLandslide2020 #BidenHarrisToSaveAmerica\n",
            "['politics', 'temperature', 'emission', 'emergency', 'renewable', 'advertisment']\n",
            "[0.6353159546852112, 0.13323664665222168, 0.07997532933950424, 0.06978107988834381, 0.05811697244644165, 0.02357393689453602]\n",
            "\n",
            "\n"
          ],
          "name": "stdout"
        },
        {
          "output_type": "stream",
          "text": [
            " 34%|███▎      | 168/500 [12:26<24:26,  4.42s/it]"
          ],
          "name": "stderr"
        },
        {
          "output_type": "stream",
          "text": [
            "So the Green New Deal. I’m happy Democrat’s are finally realizing that we can fight climate change, save our communities and create jobs at the same time \n",
            "['politics', 'emission', 'emergency', 'temperature', 'advertisment', 'renewable']\n",
            "[0.6289367079734802, 0.11625547707080841, 0.08254674077033997, 0.07188282161951065, 0.05034235864877701, 0.05003594607114792]\n",
            "\n",
            "\n"
          ],
          "name": "stdout"
        },
        {
          "output_type": "stream",
          "text": [
            "\r 34%|███▍      | 169/500 [12:28<21:27,  3.89s/it]"
          ],
          "name": "stderr"
        },
        {
          "output_type": "stream",
          "text": [
            "Perennial Vegetables Are a Solution in the Fight Against Hunger and Climate Change | Civil Eats \n",
            "['renewable', 'emission', 'emergency', 'advertisment', 'temperature', 'politics']\n",
            "[0.8283784985542297, 0.06537030637264252, 0.03593848645687103, 0.033877771347761154, 0.026704858988523483, 0.009730115532875061]\n",
            "\n",
            "\n"
          ],
          "name": "stdout"
        },
        {
          "output_type": "stream",
          "text": [
            " 36%|███▌      | 181/500 [13:10<16:22,  3.08s/it]"
          ],
          "name": "stderr"
        },
        {
          "output_type": "stream",
          "text": [
            "Slave population incapacitated by deadly virus and unable to fight raging, climate change induced wild fires. Tales from the terrifying dystopia that is America 2020. \n",
            "['emergency', 'emission', 'temperature', 'advertisment', 'politics', 'renewable']\n",
            "[0.5557690858840942, 0.209432452917099, 0.14828871190547943, 0.05161135271191597, 0.020400766283273697, 0.014497646130621433]\n",
            "\n",
            "\n"
          ],
          "name": "stdout"
        },
        {
          "output_type": "stream",
          "text": [
            " 37%|███▋      | 184/500 [13:19<16:00,  3.04s/it]"
          ],
          "name": "stderr"
        },
        {
          "output_type": "stream",
          "text": [
            "There is No Planet B! Climate Change is not a lie, do not let our planet die! Join the @sunrisemvmt right now to fight the global climate crisis.\n",
            "['emergency', 'emission', 'advertisment', 'renewable', 'temperature', 'politics']\n",
            "[0.6694677472114563, 0.10777710378170013, 0.06877945363521576, 0.06138448789715767, 0.051288191229104996, 0.04130295291543007]\n",
            "\n",
            "\n"
          ],
          "name": "stdout"
        },
        {
          "output_type": "stream",
          "text": [
            " 38%|███▊      | 189/500 [13:38<18:11,  3.51s/it]"
          ],
          "name": "stderr"
        },
        {
          "output_type": "stream",
          "text": [
            "Michigan's @JustinOnwenu is on the front lines and on national television at the #DemConvention helping to fight climate change and make Detroit a greener place to live.\n",
            "['politics', 'emission', 'renewable', 'temperature', 'emergency', 'advertisment']\n",
            "[0.6070563197135925, 0.18708635866641998, 0.0804039016366005, 0.05140477046370506, 0.04292251169681549, 0.031126124784350395]\n",
            "\n",
            "\n"
          ],
          "name": "stdout"
        },
        {
          "output_type": "stream",
          "text": [
            " 38%|███▊      | 192/500 [13:49<18:22,  3.58s/it]"
          ],
          "name": "stderr"
        },
        {
          "output_type": "stream",
          "text": [
            "@JoeBiden plans to create union jobs to fight against climate change, with a goal to reach net zero emissions by 2050. music to my ears.\n",
            "['emission', 'politics', 'renewable', 'temperature', 'advertisment', 'emergency']\n",
            "[0.5102232098579407, 0.2152487188577652, 0.10117220133543015, 0.07848197221755981, 0.04950803145766258, 0.04536586254835129]\n",
            "\n",
            "\n"
          ],
          "name": "stdout"
        },
        {
          "output_type": "stream",
          "text": [
            "\r 39%|███▊      | 193/500 [13:54<20:37,  4.03s/it]"
          ],
          "name": "stderr"
        },
        {
          "output_type": "stream",
          "text": [
            "Environment and climate change I became an activist the day Scott Pruitt was named head of the EPA. Haven't stopped since. 1000+ reasons added to my list of what to speak up, fight for, too. There isn't a Planet B. #VoteBlue2020 #BidenHarris2020 \n",
            "['emission', 'emergency', 'politics', 'renewable', 'advertisment', 'temperature']\n",
            "[0.6699476838111877, 0.1600639373064041, 0.07290752977132797, 0.032456330955028534, 0.032383717596530914, 0.03224081173539162]\n",
            "\n",
            "\n"
          ],
          "name": "stdout"
        },
        {
          "output_type": "stream",
          "text": [
            " 40%|███▉      | 199/500 [14:22<22:46,  4.54s/it]"
          ],
          "name": "stderr"
        },
        {
          "output_type": "stream",
          "text": [
            "Both will suppress it equally? So Biden will intimidate protestors by snatching them at random? Biden will remove LGBT rights? Biden will not fight climate change at all? And biased elections are still useful, much better than no elections at all like it may happen with Trump.\n",
            "['politics', 'emission', 'temperature', 'emergency', 'renewable', 'advertisment']\n",
            "[0.5155654549598694, 0.2679128050804138, 0.10472553968429565, 0.05044751986861229, 0.04478622227907181, 0.016562482342123985]\n",
            "\n",
            "\n"
          ],
          "name": "stdout"
        },
        {
          "output_type": "stream",
          "text": [
            " 40%|████      | 202/500 [14:35<22:02,  4.44s/it]"
          ],
          "name": "stderr"
        },
        {
          "output_type": "stream",
          "text": [
            "Please join us Thursday 27 August 7.30pm for an online Q&A as we talk about ways we can all reduce our energy emissions and fight #climatechange. Details: https://www.facebook.com/events/612983476075248/\n",
            "['emission', 'advertisment', 'temperature', 'emergency', 'renewable', 'politics']\n",
            "[0.8036440014839172, 0.0771830826997757, 0.04347870871424675, 0.03256651759147644, 0.026443421840667725, 0.016684234142303467]\n",
            "\n",
            "\n"
          ],
          "name": "stdout"
        },
        {
          "output_type": "stream",
          "text": [
            "\r 41%|████      | 203/500 [14:39<21:03,  4.26s/it]"
          ],
          "name": "stderr"
        },
        {
          "output_type": "stream",
          "text": [
            "Gun Violence. Climate Change. And we're not even 15 minutes in. We are on the right side of this fight. JOIN US!! #DemConvention #BidenHarris\n",
            "['emergency', 'politics', 'emission', 'advertisment', 'temperature', 'renewable']\n",
            "[0.5216535329818726, 0.2042856365442276, 0.115884929895401, 0.05293343961238861, 0.05262186750769615, 0.052620552480220795]\n",
            "\n",
            "\n"
          ],
          "name": "stdout"
        },
        {
          "output_type": "stream",
          "text": [
            " 42%|████▏     | 210/500 [15:10<19:36,  4.06s/it]"
          ],
          "name": "stderr"
        },
        {
          "output_type": "stream",
          "text": [
            "In summary: climate change, a dysfunctional public utility system that rewards greed over public safety, a pandemic that destroyed the poor, disenfranchised, prisoner \"workforce\" that CA uses to fight fires, and no gov't plan to do anything different—this is CA in 2020\n",
            "['emission', 'temperature', 'emergency', 'advertisment', 'politics', 'renewable']\n",
            "[0.5528411865234375, 0.20594514906406403, 0.17006917297840118, 0.03871476650238037, 0.01967736892402172, 0.012752330861985683]\n",
            "\n",
            "\n"
          ],
          "name": "stdout"
        },
        {
          "output_type": "stream",
          "text": [
            " 43%|████▎     | 215/500 [15:33<21:16,  4.48s/it]"
          ],
          "name": "stderr"
        },
        {
          "output_type": "stream",
          "text": [
            "While Labor works out which side it’s on, there’s a party here that fights for both workers *and* climate action. We’re called the Greens. Join us. http://greens.org.au/join\n",
            "['politics', 'temperature', 'emission', 'advertisment', 'emergency', 'renewable']\n",
            "[0.7638104557991028, 0.06722740083932877, 0.06473319232463837, 0.04084736853837967, 0.0331268385052681, 0.030254751443862915]\n",
            "\n",
            "\n"
          ],
          "name": "stdout"
        },
        {
          "output_type": "stream",
          "text": [
            "\r 43%|████▎     | 216/500 [15:35<18:56,  4.00s/it]"
          ],
          "name": "stderr"
        },
        {
          "output_type": "stream",
          "text": [
            "Imagining a person with the hubris to think they could possibly fight the moonlight, and chuckling to myself\n",
            "['emission', 'advertisment', 'emergency', 'temperature', 'renewable', 'politics']\n",
            "[0.5015165209770203, 0.13922327756881714, 0.1319645196199417, 0.09367439895868301, 0.08090004324913025, 0.052721332758665085]\n",
            "\n",
            "\n"
          ],
          "name": "stdout"
        },
        {
          "output_type": "stream",
          "text": [
            " 44%|████▍     | 220/500 [15:55<22:01,  4.72s/it]"
          ],
          "name": "stderr"
        },
        {
          "output_type": "stream",
          "text": [
            "@RepSpanberger The conservative caucus @cclconservative of @citizensclimate loves the bill you introduced! Farms should help fight climate change, and get PAID to do it! @RepRiggleman @RobWittman @RepElaineLuria @RepMcEachin @RepWexton please sign on.\n",
            "['politics', 'emission', 'emergency', 'advertisment', 'renewable', 'temperature']\n",
            "[0.550846517086029, 0.13379016518592834, 0.09860638529062271, 0.08461394160985947, 0.06883516907691956, 0.06330779194831848]\n",
            "\n",
            "\n"
          ],
          "name": "stdout"
        },
        {
          "output_type": "stream",
          "text": [
            "\r 44%|████▍     | 221/500 [15:58<19:42,  4.24s/it]"
          ],
          "name": "stderr"
        },
        {
          "output_type": "stream",
          "text": [
            "November 3rd is Election Day for most counties. Make sure anyone your voting for has a plan to fight climate change and help the working class\n",
            "['politics', 'emission', 'temperature', 'advertisment', 'emergency', 'renewable']\n",
            "[0.6447767019271851, 0.14468853175640106, 0.10728675872087479, 0.039120327681303024, 0.03461601957678795, 0.029511645436286926]\n",
            "\n",
            "\n"
          ],
          "name": "stdout"
        },
        {
          "output_type": "stream",
          "text": [
            " 45%|████▍     | 223/500 [16:07<19:37,  4.25s/it]"
          ],
          "name": "stderr"
        },
        {
          "output_type": "stream",
          "text": [
            "A Fight Over the Nile Is a Preview of Climate Change Diplomacy || Via Slate \n",
            "['emission', 'emergency', 'temperature', 'politics', 'advertisment', 'renewable']\n",
            "[0.6978051066398621, 0.07255158573389053, 0.06690877676010132, 0.0629962682723999, 0.05599884316325188, 0.043739378452301025]\n",
            "\n",
            "\n"
          ],
          "name": "stdout"
        },
        {
          "output_type": "stream",
          "text": [
            " 45%|████▌     | 227/500 [16:31<26:09,  5.75s/it]"
          ],
          "name": "stderr"
        },
        {
          "output_type": "stream",
          "text": [
            "@SenateDems @HouseDemocrats @SenSchumer @SpeakerPelosi @DNC @DFAaction @IndivisibleTeam @MoveOn @OFA @justicedems @joebiden @KamalaHarris Are you kidding me?! If you can’t embrace the fight against climate change &amp; support GND initiatives, STEP ASIDE! \n",
            "['politics', 'emergency', 'emission', 'temperature', 'renewable', 'advertisment']\n",
            "[0.5518751740455627, 0.20499001443386078, 0.14826180040836334, 0.05554965138435364, 0.023752707988023758, 0.015570659190416336]\n",
            "\n",
            "\n"
          ],
          "name": "stdout"
        },
        {
          "output_type": "stream",
          "text": [
            " 46%|████▌     | 231/500 [16:49<21:08,  4.72s/it]"
          ],
          "name": "stderr"
        },
        {
          "output_type": "stream",
          "text": [
            "And all the prisons are on lockdown. Both factors at play. That the 7th biggest economy in the world relies on slave labour in the time of climate crisis to fight wildfire is insane.\n",
            "['emergency', 'temperature', 'emission', 'advertisment', 'politics', 'renewable']\n",
            "[0.6602619886398315, 0.14341862499713898, 0.12329290807247162, 0.045066311955451965, 0.018097979947924614, 0.009862205013632774]\n",
            "\n",
            "\n"
          ],
          "name": "stdout"
        },
        {
          "output_type": "stream",
          "text": [
            " 47%|████▋     | 233/500 [16:58<20:11,  4.54s/it]"
          ],
          "name": "stderr"
        },
        {
          "output_type": "stream",
          "text": [
            "WTF @TheDemocrats @TomPerez How are we going to fight climate change if we keep giving fossil fuel subsidies? This makes no sense!! @JoeBiden supports this so why remove it? #DNC2020\n",
            "['politics', 'emergency', 'emission', 'temperature', 'advertisment', 'renewable']\n",
            "[0.5849155187606812, 0.15575756132602692, 0.14741885662078857, 0.07629324495792389, 0.02831726334989071, 0.007297499570995569]\n",
            "\n",
            "\n"
          ],
          "name": "stdout"
        },
        {
          "output_type": "stream",
          "text": [
            " 50%|█████     | 252/500 [18:24<16:19,  3.95s/it]"
          ],
          "name": "stderr"
        },
        {
          "output_type": "stream",
          "text": [
            "Use your power to fight climate change\n",
            "['emission', 'temperature', 'renewable', 'emergency', 'advertisment', 'politics']\n",
            "[0.5985898375511169, 0.10642339289188385, 0.09862477332353592, 0.095266193151474, 0.06963887065649033, 0.03145699203014374]\n",
            "\n",
            "\n"
          ],
          "name": "stdout"
        },
        {
          "output_type": "stream",
          "text": [
            " 51%|█████     | 256/500 [18:37<14:51,  3.66s/it]"
          ],
          "name": "stderr"
        },
        {
          "output_type": "stream",
          "text": [
            "Protecting & expanding our urban forest is imperative. Trees fight climate change, beautify our neighborhoods &amp; provide vital shade cover to people when they are outdoors. Today council directed staff to expand and tighten our protected tree ordinance. \n",
            "['emergency', 'temperature', 'emission', 'advertisment', 'renewable', 'politics']\n",
            "[0.5233720541000366, 0.14063863456249237, 0.12364731729030609, 0.11696167290210724, 0.06494437903165817, 0.030435960739850998]\n",
            "\n",
            "\n"
          ],
          "name": "stdout"
        },
        {
          "output_type": "stream",
          "text": [
            " 53%|█████▎    | 263/500 [19:12<21:29,  5.44s/it]"
          ],
          "name": "stderr"
        },
        {
          "output_type": "stream",
          "text": [
            "Planting tiny urban forests can boost biodiversity and fight climate change #sustainability #tech #design #engineering #climatechange #renewables #science #solar #windenergy #economy #jobs #business\n",
            "['renewable', 'emission', 'emergency', 'temperature', 'advertisment', 'politics']\n",
            "[0.9061470031738281, 0.040027718991041183, 0.02059977315366268, 0.015606044791638851, 0.013705558143556118, 0.0039139399304986]\n",
            "\n",
            "\n"
          ],
          "name": "stdout"
        },
        {
          "output_type": "stream",
          "text": [
            " 53%|█████▎    | 265/500 [19:22<20:24,  5.21s/it]"
          ],
          "name": "stderr"
        },
        {
          "output_type": "stream",
          "text": [
            "This immigration law heralded Kamala Harris’s VP nomination https://qz.com/1893200/ via @qz What's the point of such articles? Talking ancestory for what? Big deal. Why not fight climate change instead?\n",
            "['politics', 'advertisment', 'emission', 'temperature', 'emergency', 'renewable']\n",
            "[0.6402362585067749, 0.13060125708580017, 0.10686228424310684, 0.06920713931322098, 0.04719407111406326, 0.00589899905025959]\n",
            "\n",
            "\n"
          ],
          "name": "stdout"
        },
        {
          "output_type": "stream",
          "text": [
            " 53%|█████▎    | 267/500 [19:29<16:27,  4.24s/it]"
          ],
          "name": "stderr"
        },
        {
          "output_type": "stream",
          "text": [
            "'Perennial Vegetables Are a Solution in the Fight Against Hunger and Climate Change' via Civil Eats - \n",
            "['renewable', 'advertisment', 'emission', 'emergency', 'temperature', 'politics']\n",
            "[0.6311495304107666, 0.12609735131263733, 0.12537801265716553, 0.0552808940410614, 0.04114135727286339, 0.020952852442860603]\n",
            "\n",
            "\n"
          ],
          "name": "stdout"
        },
        {
          "output_type": "stream",
          "text": [
            "\r 54%|█████▎    | 268/500 [19:32<15:06,  3.91s/it]"
          ],
          "name": "stderr"
        },
        {
          "output_type": "stream",
          "text": [
            "In the U.S. the fight against climate crisis is over before it really began... #EndFossilFuelSubsidies\n",
            "['emergency', 'emission', 'temperature', 'advertisment', 'renewable', 'politics']\n",
            "[0.512939989566803, 0.2828366458415985, 0.07934699952602386, 0.06584358215332031, 0.03347891569137573, 0.025553816929459572]\n",
            "\n",
            "\n"
          ],
          "name": "stdout"
        },
        {
          "output_type": "stream",
          "text": [
            " 56%|█████▌    | 280/500 [20:22<16:16,  4.44s/it]"
          ],
          "name": "stderr"
        },
        {
          "output_type": "stream",
          "text": [
            "It is a huge problem. Companies suppressing information has resulted in the enormous climate and environmental problems we have now, and they are STILL RESISTING efforts to fight the problems they caused. Public criticism of companies is just as important, if not more so, as...\n",
            "['emergency', 'emission', 'temperature', 'renewable', 'politics', 'advertisment']\n",
            "[0.687325656414032, 0.14217166602611542, 0.07264634966850281, 0.04201508313417435, 0.029565023258328438, 0.026276124641299248]\n",
            "\n",
            "\n"
          ],
          "name": "stdout"
        },
        {
          "output_type": "stream",
          "text": [
            "\r 56%|█████▌    | 281/500 [20:25<13:47,  3.78s/it]"
          ],
          "name": "stderr"
        },
        {
          "output_type": "stream",
          "text": [
            "Please contribute more to fight climate change. It's so hot this summer.\n",
            "['temperature', 'emission', 'emergency', 'advertisment', 'renewable', 'politics']\n",
            "[0.5010188817977905, 0.279601126909256, 0.12029106914997101, 0.06338945031166077, 0.022923871874809265, 0.012775594368577003]\n",
            "\n",
            "\n"
          ],
          "name": "stdout"
        },
        {
          "output_type": "stream",
          "text": [
            " 58%|█████▊    | 288/500 [20:54<14:58,  4.24s/it]"
          ],
          "name": "stderr"
        },
        {
          "output_type": "stream",
          "text": [
            "Greenland is melting. California is on fire. Radical Left Democrats? YES! Biden = FDR: - $15 minimum wage - End private prisons - Help joining Unions -12 weeks PAID family leave - Affordable childcare - Rebuild infrastructure - Fight Climate Change -100% Green in 15yrs\n",
            "['politics', 'emission', 'emergency', 'temperature', 'renewable', 'advertisment']\n",
            "[0.7070870399475098, 0.11926653236150742, 0.06803079694509506, 0.04436153173446655, 0.03206651657819748, 0.029187552630901337]\n",
            "\n",
            "\n"
          ],
          "name": "stdout"
        },
        {
          "output_type": "stream",
          "text": [
            " 58%|█████▊    | 292/500 [21:08<12:17,  3.54s/it]"
          ],
          "name": "stderr"
        },
        {
          "output_type": "stream",
          "text": [
            "'Perennial Vegetables Are a Solution in the Fight Against Hunger and Climate Change' via Civil Eats - \n",
            "['renewable', 'advertisment', 'emission', 'emergency', 'temperature', 'politics']\n",
            "[0.6311495304107666, 0.12609735131263733, 0.12537801265716553, 0.0552808940410614, 0.04114135727286339, 0.020952852442860603]\n",
            "\n",
            "\n"
          ],
          "name": "stdout"
        },
        {
          "output_type": "stream",
          "text": [
            " 59%|█████▉    | 296/500 [21:26<14:32,  4.28s/it]"
          ],
          "name": "stderr"
        },
        {
          "output_type": "stream",
          "text": [
            "I wake up to smoggy gray skies & a blanket of ash over the state capital Dozens of out-of-season fires are raging due to climate collapse-induced record heat waves, &amp; we're unable to fight them effectively b/c our prison slave firefighter population is ravaged by a global plague\n",
            "['temperature', 'emergency', 'emission', 'advertisment', 'politics', 'renewable']\n",
            "[0.5887606739997864, 0.22001557052135468, 0.09473840147256851, 0.060631997883319855, 0.02555306814610958, 0.010300214402377605]\n",
            "\n",
            "\n"
          ],
          "name": "stdout"
        },
        {
          "output_type": "stream",
          "text": [
            " 60%|██████    | 300/500 [21:44<15:19,  4.60s/it]"
          ],
          "name": "stderr"
        },
        {
          "output_type": "stream",
          "text": [
            "But it's not irresponsible to publicly put political pressure on people building a party platform that will impact whether our country survives, say, the climate crisis. In fact it's the opposite, especially when combining that work with the fight against voter suppression.\n",
            "['politics', 'emergency', 'emission', 'temperature', 'renewable', 'advertisment']\n",
            "[0.6693635582923889, 0.12089188396930695, 0.09146328270435333, 0.07163490355014801, 0.02557077258825302, 0.02107560634613037]\n",
            "\n",
            "\n"
          ],
          "name": "stdout"
        },
        {
          "output_type": "stream",
          "text": [
            " 60%|██████    | 302/500 [21:51<13:55,  4.22s/it]"
          ],
          "name": "stderr"
        },
        {
          "output_type": "stream",
          "text": [
            "I am so so sorry to hear that animals are a gift from God and he looks like he was amazing. Remember the good times and honor him Please understand.. I’ve never seen or could I predict this political climate. I fight because now I feel like I MUST to protect my sons future.\n",
            "['politics', 'emergency', 'emission', 'renewable', 'advertisment', 'temperature']\n",
            "[0.7097282409667969, 0.12250354886054993, 0.06076746806502342, 0.04667477309703827, 0.030990077182650566, 0.029335903003811836]\n",
            "\n",
            "\n"
          ],
          "name": "stdout"
        },
        {
          "output_type": "stream",
          "text": [
            " 61%|██████    | 304/500 [21:59<12:27,  3.81s/it]"
          ],
          "name": "stderr"
        },
        {
          "output_type": "stream",
          "text": [
            "Perennial Vegetables Are a Solution in the Fight Against Hunger and Climate Change - Civil Eats \n",
            "['renewable', 'emission', 'emergency', 'advertisment', 'temperature', 'politics']\n",
            "[0.8228725790977478, 0.06753276288509369, 0.03950534388422966, 0.03270312398672104, 0.026505693793296814, 0.010880570858716965]\n",
            "\n",
            "\n"
          ],
          "name": "stdout"
        },
        {
          "output_type": "stream",
          "text": [
            " 62%|██████▏   | 308/500 [22:12<10:17,  3.22s/it]"
          ],
          "name": "stderr"
        },
        {
          "output_type": "stream",
          "text": [
            "This is climate change. You need to fight for climate policy.\n",
            "['emission', 'emergency', 'temperature', 'renewable', 'advertisment', 'politics']\n",
            "[0.5835739374160767, 0.25354650616645813, 0.09519093483686447, 0.02642074041068554, 0.022136060521006584, 0.019131775945425034]\n",
            "\n",
            "\n"
          ],
          "name": "stdout"
        },
        {
          "output_type": "stream",
          "text": [
            " 62%|██████▏   | 310/500 [22:20<11:45,  3.71s/it]"
          ],
          "name": "stderr"
        },
        {
          "output_type": "stream",
          "text": [
            "Oh no! Crowded & unsafe housing conditions for our slave labor force has resulted in a raging pandemic depleting the slave labor needed to fight catastrophic climate change brought on by oil oligarchs obsession with destroying our planet with fossil fuels for their own $gain!\n",
            "['emergency', 'emission', 'temperature', 'advertisment', 'politics', 'renewable']\n",
            "[0.7739081978797913, 0.09420449286699295, 0.06915740668773651, 0.042698945850133896, 0.014424078166484833, 0.005606828723102808]\n",
            "\n",
            "\n"
          ],
          "name": "stdout"
        },
        {
          "output_type": "stream",
          "text": [
            " 63%|██████▎   | 314/500 [22:34<12:08,  3.92s/it]"
          ],
          "name": "stderr"
        },
        {
          "output_type": "stream",
          "text": [
            "Fair enough. What I have heard is that it is always hard to draw lines when you make rules and while it is easy to distinguish something from a political campaign, like an “I’m with Joe” shirt, it’s more difficult to forbid all political issues - fight for climate, #MeToo, BLM.\n",
            "['politics', 'temperature', 'emission', 'advertisment', 'renewable', 'emergency']\n",
            "[0.5297155976295471, 0.201865091919899, 0.12384507805109024, 0.058489616960287094, 0.04758160561323166, 0.038502901792526245]\n",
            "\n",
            "\n"
          ],
          "name": "stdout"
        },
        {
          "output_type": "stream",
          "text": [
            "\r 63%|██████▎   | 315/500 [22:38<11:49,  3.83s/it]"
          ],
          "name": "stderr"
        },
        {
          "output_type": "stream",
          "text": [
            "\"We can't fight the fires fanned by fossil fuel consumption and global climate change because our slave labor is too sick from the pandemic we failed to contain.\" \n",
            "['emission', 'emergency', 'temperature', 'advertisment', 'politics', 'renewable']\n",
            "[0.5277084708213806, 0.29522860050201416, 0.12422265857458115, 0.030500387772917747, 0.014829665422439575, 0.007510235998779535]\n",
            "\n",
            "\n"
          ],
          "name": "stdout"
        },
        {
          "output_type": "stream",
          "text": [
            " 63%|██████▎   | 317/500 [22:50<15:20,  5.03s/it]"
          ],
          "name": "stderr"
        },
        {
          "output_type": "stream",
          "text": [
            "The Choice for people no matter what political persuasion or gender is1)Clean politics & leaders that can UNITE the country,earn respect& lead ALLIES in fight against POVERTY,AUTHORITARIANISM,CLIMATE CHANGE &amp; XENOPHOBIA or 2)leaders that LIE,BLAME &amp; DEFLECT&amp; PLAY GOLF CONSTANTLY\n",
            "['politics', 'temperature', 'emission', 'advertisment', 'renewable', 'emergency']\n",
            "[0.6659138798713684, 0.13001710176467896, 0.11041183769702911, 0.04162419214844704, 0.02717285417020321, 0.024860210716724396]\n",
            "\n",
            "\n"
          ],
          "name": "stdout"
        },
        {
          "output_type": "stream",
          "text": [
            "\r 64%|██████▎   | 318/500 [22:55<15:20,  5.06s/it]"
          ],
          "name": "stderr"
        },
        {
          "output_type": "stream",
          "text": [
            "Our Thirteenth Amendment slave labor is too sick from COVID to fight wildfires worsened/caused by climate change while our president calls for an American company to be canceled because they hurt his feelings by banning his made in china hate hats. Did I just win 2020 mad libs? \n",
            "['politics', 'emission', 'emergency', 'temperature', 'advertisment', 'renewable']\n",
            "[0.5879817008972168, 0.19419613480567932, 0.1380254328250885, 0.043059006333351135, 0.02207200974225998, 0.014665712602436543]\n",
            "\n",
            "\n"
          ],
          "name": "stdout"
        },
        {
          "output_type": "stream",
          "text": [
            " 64%|██████▍   | 322/500 [23:14<14:33,  4.91s/it]"
          ],
          "name": "stderr"
        },
        {
          "output_type": "stream",
          "text": [
            "USA 2020: Climate, meets mass incarceration meets COVID in California where state is running short of prison labour to fight fires unleashed by extreme heat because the prisons are rife with COVID! https://www.sacbee.com/news/california/fires/article243977827.html\n",
            "['temperature', 'emergency', 'emission', 'politics', 'advertisment', 'renewable']\n",
            "[0.527121365070343, 0.24728119373321533, 0.11095654964447021, 0.051591288298368454, 0.046994611620903015, 0.016054928302764893]\n",
            "\n",
            "\n"
          ],
          "name": "stdout"
        },
        {
          "output_type": "stream",
          "text": [
            " 65%|██████▍   | 324/500 [23:23<13:31,  4.61s/it]"
          ],
          "name": "stderr"
        },
        {
          "output_type": "stream",
          "text": [
            "Reminder: Conservatives fought against Women's vote, abolition, Civil Rights, Gay Marriage, and continue to fight against Climate Change, BLM, Transgender rights, and other Human Rights. 100 years later, its nice to see you acknowledge liberals were right.\n",
            "['politics', 'emission', 'temperature', 'renewable', 'emergency', 'advertisment']\n",
            "[0.5260764360427856, 0.17942771315574646, 0.10163139551877975, 0.08456334471702576, 0.0812988132238388, 0.027002286165952682]\n",
            "\n",
            "\n"
          ],
          "name": "stdout"
        },
        {
          "output_type": "stream",
          "text": [
            "\r 65%|██████▌   | 325/500 [23:27<13:29,  4.62s/it]"
          ],
          "name": "stderr"
        },
        {
          "output_type": "stream",
          "text": [
            "Want to do more to fight the climate crisis? Learn more about the Public Utilities Commission, a body that oversees electricity choices in each state. It is especially important to learn more about those who answer some of our most important questions! \n",
            "['emission', 'advertisment', 'emergency', 'temperature', 'renewable', 'politics']\n",
            "[0.628591001033783, 0.12235727161169052, 0.09632150083780289, 0.07528269290924072, 0.05531129240989685, 0.022136304527521133]\n",
            "\n",
            "\n"
          ],
          "name": "stdout"
        },
        {
          "output_type": "stream",
          "text": [
            " 65%|██████▌   | 327/500 [23:35<12:09,  4.21s/it]"
          ],
          "name": "stderr"
        },
        {
          "output_type": "stream",
          "text": [
            "We’re building an exclusive community of grassroots activists and content creators to help us change the politics of climate. Are you passionate about defeating climate change? Then sign up to join our fight today! \n",
            "['politics', 'emergency', 'renewable', 'emission', 'temperature', 'advertisment']\n",
            "[0.6894629001617432, 0.0784667432308197, 0.07211571931838989, 0.06495362520217896, 0.05546906962990761, 0.03953179717063904]\n",
            "\n",
            "\n"
          ],
          "name": "stdout"
        },
        {
          "output_type": "stream",
          "text": [
            "\r 66%|██████▌   | 328/500 [23:40<12:33,  4.38s/it]"
          ],
          "name": "stderr"
        },
        {
          "output_type": "stream",
          "text": [
            "That feeling when your country has no resources to staff the fight against post-climate-change fires, because the plan to use the surfeit of prison-industrial complex inmates is thwarted by the fact that we callously let them all get Covid. \n",
            "['emergency', 'emission', 'temperature', 'politics', 'advertisment', 'renewable']\n",
            "[0.5692952275276184, 0.2383519560098648, 0.10893930494785309, 0.04450336471199989, 0.02339395508170128, 0.015516207553446293]\n",
            "\n",
            "\n"
          ],
          "name": "stdout"
        },
        {
          "output_type": "stream",
          "text": [
            "\r 66%|██████▌   | 329/500 [23:42<10:41,  3.75s/it]"
          ],
          "name": "stderr"
        },
        {
          "output_type": "stream",
          "text": [
            "Climate justice=health justice=racial justice. All our fights are connected! \n",
            "['temperature', 'emission', 'emergency', 'renewable', 'advertisment', 'politics']\n",
            "[0.5207520723342896, 0.1959540843963623, 0.10756649821996689, 0.09744391590356827, 0.05152144283056259, 0.026762040331959724]\n",
            "\n",
            "\n"
          ],
          "name": "stdout"
        },
        {
          "output_type": "stream",
          "text": [
            " 66%|██████▌   | 331/500 [23:52<12:18,  4.37s/it]"
          ],
          "name": "stderr"
        },
        {
          "output_type": "stream",
          "text": [
            "The recent, horrific wildfires are another reason why climate change legislation cannot wait. I am proud that my bill, #AB2954 is moving forward. This bill will identify a climate goal for our natural &amp; working lands to aid our State efforts to fight climate change. \n",
            "['emergency', 'advertisment', 'renewable', 'emission', 'temperature', 'politics']\n",
            "[0.7013937830924988, 0.08656046539545059, 0.07661759108304977, 0.07508206367492676, 0.047451116144657135, 0.012895023450255394]\n",
            "\n",
            "\n"
          ],
          "name": "stdout"
        },
        {
          "output_type": "stream",
          "text": [
            "\r 66%|██████▋   | 332/500 [23:57<12:45,  4.55s/it]"
          ],
          "name": "stderr"
        },
        {
          "output_type": "stream",
          "text": [
            "I just read this after looking it up on my own. Disappointing. I hope Bernie and other progs fight to reinstate the dropped language. Having said that nothing will keep me from voting for Biden bc Trump has rolled back 68 EPA regs and thinks climate change is a hoax :)\n",
            "['politics', 'renewable', 'temperature', 'advertisment', 'emission', 'emergency']\n",
            "[0.7497410774230957, 0.07441198080778122, 0.05777859687805176, 0.045470427721738815, 0.042922332882881165, 0.029675621539354324]\n",
            "\n",
            "\n"
          ],
          "name": "stdout"
        },
        {
          "output_type": "stream",
          "text": [
            " 67%|██████▋   | 334/500 [24:08<14:18,  5.17s/it]"
          ],
          "name": "stderr"
        },
        {
          "output_type": "stream",
          "text": [
            "Min wage should prob be gauged to cost of living of a region. So like in SF if some measure of average rent for a room is ~$2000, by the 1/3 rule, your pretax monthly income should be 6000. So in SF min wage should be $37.50/h. In PDX $25/hr (from NerdWallet cost of living calc).\n",
            "['emission', 'advertisment', 'temperature', 'emergency', 'renewable', 'politics']\n",
            "[0.5317152142524719, 0.1543407440185547, 0.12048725038766861, 0.09528744965791702, 0.055430781096220016, 0.04273851588368416]\n",
            "\n",
            "\n"
          ],
          "name": "stdout"
        },
        {
          "output_type": "stream",
          "text": [
            " 67%|██████▋   | 336/500 [24:15<11:53,  4.35s/it]"
          ],
          "name": "stderr"
        },
        {
          "output_type": "stream",
          "text": [
            "the use of prison labor to fight climate disaster is one of the most important stories of our time. \n",
            "['emergency', 'temperature', 'emission', 'advertisment', 'renewable', 'politics']\n",
            "[0.6294349431991577, 0.16914726793766022, 0.10100141912698746, 0.039683274924755096, 0.03611302748322487, 0.024620041251182556]\n",
            "\n",
            "\n"
          ],
          "name": "stdout"
        },
        {
          "output_type": "stream",
          "text": [
            " 68%|██████▊   | 342/500 [24:43<12:36,  4.79s/it]"
          ],
          "name": "stderr"
        },
        {
          "output_type": "stream",
          "text": [
            "We’ve got to fight to create a better climate future. As President, #JoeBiden will lead! Joe plans to address the #ClimateEmergency &amp; #Lead through the power of example, by ensuring the U.S. achieves a 100% #cleanenergy #economy and net-zero emissions no later than 2050. \n",
            "['emergency', 'renewable', 'politics', 'advertisment', 'emission', 'temperature']\n",
            "[0.5163784623146057, 0.1423792988061905, 0.13367539644241333, 0.09375006705522537, 0.0919354110956192, 0.02188131958246231]\n",
            "\n",
            "\n"
          ],
          "name": "stdout"
        },
        {
          "output_type": "stream",
          "text": [
            "\r 69%|██████▊   | 343/500 [24:48<12:29,  4.77s/it]"
          ],
          "name": "stderr"
        },
        {
          "output_type": "stream",
          "text": [
            "In this same note, fight liberal rhetoric with your own. They say \"kids in cages\" accuse them of wanting sex trafficking to continue. They screech about climate change, go further and demand Air conditioning to be outlawed or you just want people to die.\n",
            "['temperature', 'politics', 'emission', 'emergency', 'renewable', 'advertisment']\n",
            "[0.5141109824180603, 0.1821403205394745, 0.17456784844398499, 0.04952024668455124, 0.0453387051820755, 0.0343218669295311]\n",
            "\n",
            "\n"
          ],
          "name": "stdout"
        },
        {
          "output_type": "stream",
          "text": [
            "\r 69%|██████▉   | 344/500 [24:53<12:12,  4.70s/it]"
          ],
          "name": "stderr"
        },
        {
          "output_type": "stream",
          "text": [
            "It’s beyond me how anyone can look at both parties being completely unwilling to give people healthcare, truly fight against climate change, or shrink the widening inequality gap in this country and be excited to vote for either of them.\n",
            "['politics', 'emission', 'emergency', 'temperature', 'advertisment', 'renewable']\n",
            "[0.7574058771133423, 0.12453137338161469, 0.036993008106946945, 0.034824494272470474, 0.023506684228777885, 0.022738516330718994]\n",
            "\n",
            "\n"
          ],
          "name": "stdout"
        },
        {
          "output_type": "stream",
          "text": [
            "\r 69%|██████▉   | 345/500 [24:57<12:13,  4.73s/it]"
          ],
          "name": "stderr"
        },
        {
          "output_type": "stream",
          "text": [
            "The that she had to explain it further is just... can we just vote now and get this over with? There's much more important things to do and no one has the bandwidth to fix the climate, fight injustice, AND deal with corporate Dems constantly trying to smear progressives.\n",
            "['politics', 'temperature', 'emergency', 'emission', 'renewable', 'advertisment']\n",
            "[0.7868945598602295, 0.056069571524858475, 0.043244075030088425, 0.04145484417676926, 0.03753700479865074, 0.03479991853237152]\n",
            "\n",
            "\n"
          ],
          "name": "stdout"
        },
        {
          "output_type": "stream",
          "text": [
            " 69%|██████▉   | 347/500 [25:06<11:39,  4.57s/it]"
          ],
          "name": "stderr"
        },
        {
          "output_type": "stream",
          "text": [
            "v cool to not be able to go anywhere because of a pandemic, and now not even be able to leave the house, because there’s wildfire smoke from the climate change-exasperated forest fires, which we can’t fight because we use slave labor from prisons that are all sick with covid\n",
            "['emergency', 'emission', 'advertisment', 'temperature', 'politics', 'renewable']\n",
            "[0.7864930033683777, 0.10470297932624817, 0.05023065209388733, 0.03793848678469658, 0.011357090435922146, 0.009277837350964546]\n",
            "\n",
            "\n"
          ],
          "name": "stdout"
        },
        {
          "output_type": "stream",
          "text": [
            " 70%|███████   | 351/500 [25:23<11:21,  4.57s/it]"
          ],
          "name": "stderr"
        },
        {
          "output_type": "stream",
          "text": [
            "No - you're saying you intend to fight against any progress at all. For instance - I organized a climate alliance in my town to change city ordinances. It wasn't moving fast enough for the left &amp; they started a weekly protest. Now the council won't talk to us at all. Good Job!!\n",
            "['politics', 'emission', 'advertisment', 'temperature', 'emergency', 'renewable']\n",
            "[0.7527740001678467, 0.08898480236530304, 0.04719780385494232, 0.042032964527606964, 0.04022545740008354, 0.028784984722733498]\n",
            "\n",
            "\n"
          ],
          "name": "stdout"
        },
        {
          "output_type": "stream",
          "text": [
            " 71%|███████   | 353/500 [25:32<11:32,  4.71s/it]"
          ],
          "name": "stderr"
        },
        {
          "output_type": "stream",
          "text": [
            "extra spicy hellworld, can't fight the massive regional fires (worsened by climate change) because the workforce (who are de facto slaves because prisons+capitalism) are sick from a runaway pandemic (because *gestures at everything*)\n",
            "['emergency', 'temperature', 'emission', 'advertisment', 'politics', 'renewable']\n",
            "[0.7186407446861267, 0.13081572949886322, 0.10733209550380707, 0.026225868612527847, 0.009655763395130634, 0.007329858373850584]\n",
            "\n",
            "\n"
          ],
          "name": "stdout"
        },
        {
          "output_type": "stream",
          "text": [
            " 71%|███████▏  | 357/500 [25:51<11:09,  4.68s/it]"
          ],
          "name": "stderr"
        },
        {
          "output_type": "stream",
          "text": [
            "@SenFeinstein @SenKamalaHarris @dorismatsui Hydropower is not part of the climate solution; it's part of the problem. Please oppose any legislation that would falsely claim that new hydropower projects are renewable energy that will fight climate change.\n",
            "['emission', 'politics', 'emergency', 'advertisment', 'temperature', 'renewable']\n",
            "[0.5200087428092957, 0.17085224390029907, 0.15738442540168762, 0.06335223466157913, 0.045080989599227905, 0.04332135617733002]\n",
            "\n",
            "\n"
          ],
          "name": "stdout"
        },
        {
          "output_type": "stream",
          "text": [
            "\r 72%|███████▏  | 358/500 [25:56<11:03,  4.67s/it]"
          ],
          "name": "stderr"
        },
        {
          "output_type": "stream",
          "text": [
            "When you are trying to espouse truth about climate change you definitely block those that, you know, believe in the science and support the work and who will be willing to fight for the cause. Thanks Michael. Maybe actually leave the messaging to other scientists.\n",
            "['politics', 'emission', 'emergency', 'renewable', 'advertisment', 'temperature']\n",
            "[0.509358823299408, 0.15895286202430725, 0.11933028697967529, 0.09664934128522873, 0.0678485706448555, 0.047860145568847656]\n",
            "\n",
            "\n"
          ],
          "name": "stdout"
        },
        {
          "output_type": "stream",
          "text": [
            " 74%|███████▍  | 369/500 [26:47<09:19,  4.27s/it]"
          ],
          "name": "stderr"
        },
        {
          "output_type": "stream",
          "text": [
            "If you want to solve the real climate crisis. First, you need to GO to China and reduce the amount of pollution produce every second. America is more environmentally friendly than any other nations. Go fight out side first than come inside than we are all inn with you Senator. \n",
            "['emission', 'emergency', 'politics', 'renewable', 'advertisment', 'temperature']\n",
            "[0.6079287528991699, 0.1385020613670349, 0.08610852807760239, 0.0725317969918251, 0.05280759185552597, 0.04212130606174469]\n",
            "\n",
            "\n"
          ],
          "name": "stdout"
        },
        {
          "output_type": "stream",
          "text": [
            " 74%|███████▍  | 371/500 [26:56<09:49,  4.57s/it]"
          ],
          "name": "stderr"
        },
        {
          "output_type": "stream",
          "text": [
            "\"The climate factors contributing to Australia's bushfires are strikingly similar to those at play in California.\" Here in the USA we need to expand policies to fight climate change. This is an emergency. #climateemergency #climatechange @JoeBiden @AOC\n",
            "['emergency', 'emission', 'advertisment', 'temperature', 'politics', 'renewable']\n",
            "[0.9608708620071411, 0.013270090334117413, 0.009294779039919376, 0.007374318782240152, 0.005714528728276491, 0.003475383622571826]\n",
            "\n",
            "\n"
          ],
          "name": "stdout"
        },
        {
          "output_type": "stream",
          "text": [
            "\r 74%|███████▍  | 372/500 [27:02<10:28,  4.91s/it]"
          ],
          "name": "stderr"
        },
        {
          "output_type": "stream",
          "text": [
            "“Climate change is a Chinese hoax” vs. “Propose a comprehensive, trillion dollar climate change plan” Even if you have reservations about Biden (and I do), I would much rather fight him and Pelosi on it than Trump and the GOP 100%. Every day of the week. It’s not even close\n",
            "['politics', 'emission', 'emergency', 'renewable', 'advertisment', 'temperature']\n",
            "[0.7470696568489075, 0.1355070173740387, 0.05339542031288147, 0.03212358057498932, 0.020915377885103226, 0.01098896749317646]\n",
            "\n",
            "\n"
          ],
          "name": "stdout"
        },
        {
          "output_type": "stream",
          "text": [
            " 75%|███████▍  | 374/500 [27:09<08:26,  4.02s/it]"
          ],
          "name": "stderr"
        },
        {
          "output_type": "stream",
          "text": [
            "Perennial Vegetables Are a Solution in the Fight Against Hunger and Climate Change \n",
            "['renewable', 'emission', 'emergency', 'advertisment', 'temperature', 'politics']\n",
            "[0.8596188426017761, 0.042607832700014114, 0.033667199313640594, 0.03256342187523842, 0.022922346368432045, 0.008620401844382286]\n",
            "\n",
            "\n"
          ],
          "name": "stdout"
        },
        {
          "output_type": "stream",
          "text": [
            " 75%|███████▌  | 377/500 [27:19<07:37,  3.72s/it]"
          ],
          "name": "stderr"
        },
        {
          "output_type": "stream",
          "text": [
            "Sponsored content: Unilever sets out new actions to fight climate change and protect nature, to preserve resources for future generations. @Unilever\n",
            "['advertisment', 'temperature', 'emission', 'renewable', 'emergency', 'politics']\n",
            "[0.9377947449684143, 0.020095819607377052, 0.016506440937519073, 0.013439846225082874, 0.009354749694466591, 0.0028084118384867907]\n",
            "\n",
            "\n"
          ],
          "name": "stdout"
        },
        {
          "output_type": "stream",
          "text": [
            " 76%|███████▌  | 379/500 [27:23<05:30,  2.73s/it]"
          ],
          "name": "stderr"
        },
        {
          "output_type": "stream",
          "text": [
            "Please continue this fight for climate\n",
            "['temperature', 'emergency', 'emission', 'renewable', 'advertisment', 'politics']\n",
            "[0.5470242500305176, 0.17773643136024475, 0.1741054505109787, 0.05351889505982399, 0.03271287679672241, 0.014902065508067608]\n",
            "\n",
            "\n"
          ],
          "name": "stdout"
        },
        {
          "output_type": "stream",
          "text": [
            " 76%|███████▌  | 381/500 [27:32<06:53,  3.48s/it]"
          ],
          "name": "stderr"
        },
        {
          "output_type": "stream",
          "text": [
            "It’s not too late to fight climate change with a tax on carbon that could help to change the behavior of millions of people, an economist says \n",
            "['emission', 'emergency', 'temperature', 'advertisment', 'renewable', 'politics']\n",
            "[0.7258456945419312, 0.09589171409606934, 0.06492175161838531, 0.055889517068862915, 0.039120759814977646, 0.018330635502934456]\n",
            "\n",
            "\n"
          ],
          "name": "stdout"
        },
        {
          "output_type": "stream",
          "text": [
            " 77%|███████▋  | 383/500 [27:41<08:08,  4.18s/it]"
          ],
          "name": "stderr"
        },
        {
          "output_type": "stream",
          "text": [
            "\"California’s heat wave and wildfires have ties to climate change.\" Keeping you in our thoughts this week, California. And we're working as fast as we can to help make a dent in this maddening climate fight. \n",
            "['temperature', 'emergency', 'emission', 'advertisment', 'renewable', 'politics']\n",
            "[0.5662894248962402, 0.3060149550437927, 0.07333455979824066, 0.039959616959095, 0.008464939892292023, 0.0059364852495491505]\n",
            "\n",
            "\n"
          ],
          "name": "stdout"
        },
        {
          "output_type": "stream",
          "text": [
            "\r 77%|███████▋  | 384/500 [27:45<07:57,  4.11s/it]"
          ],
          "name": "stderr"
        },
        {
          "output_type": "stream",
          "text": [
            "Fight For Planet A: Our Climate Challenge Episode 2 http://lethalheating.blogspot.com/2020/08/fight-for-planet-our-climate-challenge.html\n",
            "['temperature', 'emission', 'emergency', 'advertisment', 'renewable', 'politics']\n",
            "[0.8303936719894409, 0.06975672394037247, 0.042445600032806396, 0.02511586621403694, 0.019517092034220695, 0.012771003879606724]\n",
            "\n",
            "\n"
          ],
          "name": "stdout"
        },
        {
          "output_type": "stream",
          "text": [
            " 77%|███████▋  | 387/500 [27:58<07:58,  4.24s/it]"
          ],
          "name": "stderr"
        },
        {
          "output_type": "stream",
          "text": [
            "When we know API and the industry are lining up to push another “all of the above” approach with Biden, these sorts of early proxy fights are important. It’s a test of how serious Dems are to actually walk-the-walk on climate.\n",
            "['politics', 'emission', 'advertisment', 'temperature', 'emergency', 'renewable']\n",
            "[0.819061279296875, 0.05149436742067337, 0.05102279409766197, 0.03619799017906189, 0.030858639627695084, 0.011364948004484177]\n",
            "\n",
            "\n"
          ],
          "name": "stdout"
        },
        {
          "output_type": "stream",
          "text": [
            "\r 78%|███████▊  | 388/500 [28:03<08:26,  4.53s/it]"
          ],
          "name": "stderr"
        },
        {
          "output_type": "stream",
          "text": [
            "In our recent economic system it is essential to use #fairpricing: to reduce global greenhouse gas (GHG) emissions and punish polluters to finance more effective renewables, energy systems, buildings, vehicles etc &amp; to fight against climate change &amp; (environment) pollution. #SDGs\n",
            "['emission', 'renewable', 'emergency', 'temperature', 'advertisment', 'politics']\n",
            "[0.6648504734039307, 0.19425790011882782, 0.07523303478956223, 0.034759458154439926, 0.021363655105233192, 0.009535419754683971]\n",
            "\n",
            "\n"
          ],
          "name": "stdout"
        },
        {
          "output_type": "stream",
          "text": [
            "\r 78%|███████▊  | 389/500 [28:08<08:39,  4.68s/it]"
          ],
          "name": "stderr"
        },
        {
          "output_type": "stream",
          "text": [
            "So much fire we’re out of the resources to fight any more fires. Iowa is leveled and it barely made the news. Three tropical waves coming across the Atlantic like a freight train. Oh and is the Arctic still on fire? We are in a climate catastrophe. #GND\n",
            "['emergency', 'emission', 'temperature', 'advertisment', 'politics', 'renewable']\n",
            "[0.6573296189308167, 0.17687444388866425, 0.09025716781616211, 0.0404205322265625, 0.018874455243349075, 0.016243720427155495]\n",
            "\n",
            "\n"
          ],
          "name": "stdout"
        },
        {
          "output_type": "stream",
          "text": [
            " 78%|███████▊  | 392/500 [28:25<09:27,  5.25s/it]"
          ],
          "name": "stderr"
        },
        {
          "output_type": "stream",
          "text": [
            "He certainly fights the democratic system very hard. He's fighting to close the American postal service. He's fighting scientific consensus on climate change and on Covid. He's fighting judges who request his tax returns. I wish he fought his buddy Putin that much...\n",
            "['politics', 'emission', 'temperature', 'renewable', 'advertisment', 'emergency']\n",
            "[0.5414204001426697, 0.2197616994380951, 0.17768335342407227, 0.034045472741127014, 0.014503358863294125, 0.012585718184709549]\n",
            "\n",
            "\n"
          ],
          "name": "stdout"
        },
        {
          "output_type": "stream",
          "text": [
            "\r 79%|███████▊  | 393/500 [28:30<09:18,  5.22s/it]"
          ],
          "name": "stderr"
        },
        {
          "output_type": "stream",
          "text": [
            "\"I'm honored to be elected to represent Arizona's 9th district at the DNC this year. More than ever we need a progressive party platform and a #GreenNewDeal to fight the climate emergency! Arizona is a crucial battleground state this November and I'm ready to get to work! \" \n",
            "['emergency', 'politics', 'emission', 'renewable', 'temperature', 'advertisment']\n",
            "[0.5256855487823486, 0.3389562964439392, 0.06050120294094086, 0.03410594165325165, 0.027433304116129875, 0.013317695818841457]\n",
            "\n",
            "\n"
          ],
          "name": "stdout"
        },
        {
          "output_type": "stream",
          "text": [
            "\r 79%|███████▉  | 394/500 [28:33<07:44,  4.39s/it]"
          ],
          "name": "stderr"
        },
        {
          "output_type": "stream",
          "text": [
            "Our power is abundant and reliable. Our power fights climate change. #OurPowerIsWater\n",
            "['renewable', 'advertisment', 'emission', 'temperature', 'emergency', 'politics']\n",
            "[0.7384341359138489, 0.13692758977413177, 0.06070813164114952, 0.029594555497169495, 0.02123062126338482, 0.013104955665767193]\n",
            "\n",
            "\n"
          ],
          "name": "stdout"
        },
        {
          "output_type": "stream",
          "text": [
            " 79%|███████▉  | 396/500 [28:40<06:42,  3.87s/it]"
          ],
          "name": "stderr"
        },
        {
          "output_type": "stream",
          "text": [
            "A Fight Over the Nile Is a Preview of Climate Change Diplomacy | Via Slate \n",
            "['emission', 'temperature', 'politics', 'emergency', 'advertisment', 'renewable']\n",
            "[0.6842393279075623, 0.07180501520633698, 0.07029546797275543, 0.06938068568706512, 0.06575511395931244, 0.038524381816387177]\n",
            "\n",
            "\n"
          ],
          "name": "stdout"
        },
        {
          "output_type": "stream",
          "text": [
            "\r 79%|███████▉  | 397/500 [28:47<08:22,  4.88s/it]"
          ],
          "name": "stderr"
        },
        {
          "output_type": "stream",
          "text": [
            "Guess why they do. Never mind, I'll spill. It's because of that dude in the WH & his asinine actions that work against the people. NJ Lawmakers Want In On Fight Over Power Supplies https://www.njspotlight.com/2020/08/nj-lawmakers-clean-energy-trump-battle-power-supplies-utilities/ via @NJSpotlight #climate\n",
            "['politics', 'renewable', 'emission', 'advertisment', 'emergency', 'temperature']\n",
            "[0.6255233883857727, 0.11983473598957062, 0.08140618354082108, 0.07958591729402542, 0.05397193506360054, 0.03967779874801636]\n",
            "\n",
            "\n"
          ],
          "name": "stdout"
        },
        {
          "output_type": "stream",
          "text": [
            " 81%|████████  | 403/500 [29:10<06:00,  3.72s/it]"
          ],
          "name": "stderr"
        },
        {
          "output_type": "stream",
          "text": [
            "July 2020 was one of hottest months ever recorded. Here's 5 steps your business can take to help fight climate change: \n",
            "['temperature', 'emission', 'emergency', 'advertisment', 'renewable', 'politics']\n",
            "[0.6301599144935608, 0.16370247304439545, 0.08434678614139557, 0.0788881778717041, 0.029604436829686165, 0.01329815573990345]\n",
            "\n",
            "\n"
          ],
          "name": "stdout"
        },
        {
          "output_type": "stream",
          "text": [
            " 82%|████████▏ | 408/500 [29:30<06:46,  4.42s/it]"
          ],
          "name": "stderr"
        },
        {
          "output_type": "stream",
          "text": [
            "RT adrien4ej: There are over 500 people on the NYRenews digital rally happening now! After passing NY's climate law, we are kicking off the fight for a #ClimateJobsAndJustice Recovery that NY needs now. We will hear from amazing leaders &amp; allies like Jan…\n",
            "['advertisment', 'renewable', 'politics', 'emergency', 'emission', 'temperature']\n",
            "[0.5603063702583313, 0.2530580461025238, 0.0816880390048027, 0.05437484011054039, 0.02774539217352867, 0.022827405482530594]\n",
            "\n",
            "\n"
          ],
          "name": "stdout"
        },
        {
          "output_type": "stream",
          "text": [
            " 82%|████████▏ | 410/500 [29:41<07:08,  4.76s/it]"
          ],
          "name": "stderr"
        },
        {
          "output_type": "stream",
          "text": [
            "He has like the weakest climate change plan of any of the primary candidates. And it's still been removed from the platform. I'll believe it when he fights to get it back on and makes Tom perez apologize for removing it.\n",
            "['politics', 'emission', 'temperature', 'emergency', 'advertisment', 'renewable']\n",
            "[0.7296929955482483, 0.08733002841472626, 0.05873623490333557, 0.04830024763941765, 0.041444774717092514, 0.034495752304792404]\n",
            "\n",
            "\n"
          ],
          "name": "stdout"
        },
        {
          "output_type": "stream",
          "text": [
            " 83%|████████▎ | 414/500 [30:01<07:25,  5.18s/it]"
          ],
          "name": "stderr"
        },
        {
          "output_type": "stream",
          "text": [
            "\"We need the money now to protect the people, to not just survive, but to thrive in our communities. We need to realize that we need to continue the fight.\" Luz Velez of @PUSHBuffalo says now that @NYRenews has won NY's climate law we need to invest $$in solutions people need! \n",
            "['renewable', 'emergency', 'politics', 'temperature', 'emission', 'advertisment']\n",
            "[0.6458021998405457, 0.14762748777866364, 0.06767033040523529, 0.053527068346738815, 0.05174225941300392, 0.033630598336458206]\n",
            "\n",
            "\n"
          ],
          "name": "stdout"
        },
        {
          "output_type": "stream",
          "text": [
            " 83%|████████▎ | 417/500 [30:15<06:47,  4.92s/it]"
          ],
          "name": "stderr"
        },
        {
          "output_type": "stream",
          "text": [
            "Prior to Reagan, the US choice was to tolerate/allow communist insurgents to fight elected govts (remember, both sides were bad, but the leftists were, as history has shown ala, Venezuela, the worst of two evils. Climate change? Economies? No. Terrible govts elected &amp; not.\n",
            "['politics', 'emission', 'temperature', 'emergency', 'advertisment', 'renewable']\n",
            "[0.5359784960746765, 0.18697649240493774, 0.11406343430280685, 0.07708260416984558, 0.04982944205403328, 0.03606957942247391]\n",
            "\n",
            "\n"
          ],
          "name": "stdout"
        },
        {
          "output_type": "stream",
          "text": [
            "\r 84%|████████▎ | 418/500 [30:20<06:36,  4.83s/it]"
          ],
          "name": "stderr"
        },
        {
          "output_type": "stream",
          "text": [
            "ENEMY by Thomas Hollyday. As the climate crisis infects our air with CO2, nature attacks humanity. A Chesapeake inventor and his idealistic girlfriend fight for their lives against the deadly ravenous onslaught. Kindle 5.0 Goodreads 5.0 \n",
            "['emergency', 'emission', 'renewable', 'temperature', 'advertisment', 'politics']\n",
            "[0.628087043762207, 0.3397367298603058, 0.015121573582291603, 0.008423999883234501, 0.006586259696632624, 0.002044356195256114]\n",
            "\n",
            "\n"
          ],
          "name": "stdout"
        },
        {
          "output_type": "stream",
          "text": [
            " 84%|████████▍ | 420/500 [30:31<07:06,  5.34s/it]"
          ],
          "name": "stderr"
        },
        {
          "output_type": "stream",
          "text": [
            "ENEMY by Thomas Hollyday. #freeEbook 30,31 Aug. As the climate crisis infects our air with CO2, nature attacks humanity. A Chesapeake inventor and his idealistic girlfriend fight for their lives against the deadly ravenous onslaught. Kindle 5.0 https://www.amazon.com/Enemy-River-Sunday-Romance-Mysteries-ebook/dp/B08958J577/\n",
            "['emergency', 'emission', 'renewable', 'temperature', 'advertisment', 'politics']\n",
            "[0.5204035043716431, 0.3528425395488739, 0.0664760023355484, 0.029148701578378677, 0.025444259867072105, 0.005685119889676571]\n",
            "\n",
            "\n"
          ],
          "name": "stdout"
        },
        {
          "output_type": "stream",
          "text": [
            " 84%|████████▍ | 422/500 [30:40<06:29,  5.00s/it]"
          ],
          "name": "stderr"
        },
        {
          "output_type": "stream",
          "text": [
            "...consider voting for #BidenHarris? They’ve told us they’re going to raise our taxes, reinstate all of the trade deals that lead to companies moving to foreign countries, rejoin the Paris Climate Accord, etc.... And they’ve also told us they’re going to...(2/)\n",
            "['politics', 'emission', 'temperature', 'advertisment', 'emergency', 'renewable']\n",
            "[0.7806640267372131, 0.061605554074048996, 0.050855737179517746, 0.04855950176715851, 0.03345216065645218, 0.02486298233270645]\n",
            "\n",
            "\n"
          ],
          "name": "stdout"
        },
        {
          "output_type": "stream",
          "text": [
            " 85%|████████▍ | 424/500 [30:52<06:56,  5.48s/it]"
          ],
          "name": "stderr"
        },
        {
          "output_type": "stream",
          "text": [
            "You can hear Lidy speaking about APMDD @AsianPeoplesMvt and the fight for reparations for harm done as a result of catastrophic climate change disasters and emergencies in Ep2 of Series 3 out now.\n",
            "['emergency', 'temperature', 'advertisment', 'emission', 'politics', 'renewable']\n",
            "[0.6376242637634277, 0.09931908547878265, 0.09235149621963501, 0.08803563565015793, 0.0506104901432991, 0.032059039920568466]\n",
            "\n",
            "\n"
          ],
          "name": "stdout"
        },
        {
          "output_type": "stream",
          "text": [
            " 86%|████████▌ | 430/500 [31:21<05:50,  5.00s/it]"
          ],
          "name": "stderr"
        },
        {
          "output_type": "stream",
          "text": [
            "For those who don't know I live in Solano county aka south of the Lighting fires that are happening and I live relatively close enough to the fires where our house is mostly safe, but close enough for evacuation mandate. We're at an family friends' house. Fight Climate Change \n",
            "['emergency', 'emission', 'advertisment', 'renewable', 'temperature', 'politics']\n",
            "[0.624284565448761, 0.17027312517166138, 0.06845638155937195, 0.050799090415239334, 0.05043342337012291, 0.03575345501303673]\n",
            "\n",
            "\n"
          ],
          "name": "stdout"
        },
        {
          "output_type": "stream",
          "text": [
            " 86%|████████▋ | 432/500 [31:31<05:24,  4.77s/it]"
          ],
          "name": "stderr"
        },
        {
          "output_type": "stream",
          "text": [
            "Jovanka Beckles understands that the fight for public transit is part of a broader struggle for working-class power, racial equality, and action against climate change. \n",
            "['politics', 'emission', 'temperature', 'emergency', 'advertisment', 'renewable']\n",
            "[0.8078019618988037, 0.0890180766582489, 0.06032862886786461, 0.023244019597768784, 0.01011490635573864, 0.009492305107414722]\n",
            "\n",
            "\n"
          ],
          "name": "stdout"
        },
        {
          "output_type": "stream",
          "text": [
            " 87%|████████▋ | 435/500 [31:47<05:15,  4.85s/it]"
          ],
          "name": "stderr"
        },
        {
          "output_type": "stream",
          "text": [
            "In the Senate, John @Hickenlooper will expand health care and lower costs, fight climate change, and help pass universal vote by mail nationwide. That’s why I’m on #TeamHick.\n",
            "['politics', 'emission', 'renewable', 'advertisment', 'temperature', 'emergency']\n",
            "[0.737690806388855, 0.09818465262651443, 0.05836215615272522, 0.04202025383710861, 0.03723246976733208, 0.026509691029787064]\n",
            "\n",
            "\n"
          ],
          "name": "stdout"
        },
        {
          "output_type": "stream",
          "text": [
            "\r 87%|████████▋ | 436/500 [31:50<04:37,  4.33s/it]"
          ],
          "name": "stderr"
        },
        {
          "output_type": "stream",
          "text": [
            "WHAT TO DO: Individuals can take various steps to fight climate change, such as reducing their carbon footprints and promoting education. #carbonfootprint\n",
            "['emission', 'emergency', 'temperature', 'advertisment', 'renewable', 'politics']\n",
            "[0.7378515601158142, 0.08333998918533325, 0.07016918808221817, 0.06481322646141052, 0.03055223450064659, 0.013273803517222404]\n",
            "\n",
            "\n"
          ],
          "name": "stdout"
        },
        {
          "output_type": "stream",
          "text": [
            "\r 87%|████████▋ | 437/500 [31:54<04:26,  4.24s/it]"
          ],
          "name": "stderr"
        },
        {
          "output_type": "stream",
          "text": [
            "Nurses like Nella Pineda-Marcon @nynurses fight for all of us whether against asthma caused by pollution, Covi-19, environmental racism, or climate change \n",
            "['emission', 'emergency', 'temperature', 'renewable', 'advertisment', 'politics']\n",
            "[0.6368319988250732, 0.15319280326366425, 0.08401631563901901, 0.07871489226818085, 0.02807094156742096, 0.01917295716702938]\n",
            "\n",
            "\n"
          ],
          "name": "stdout"
        },
        {
          "output_type": "stream",
          "text": [
            "\r 88%|████████▊ | 438/500 [31:58<04:12,  4.07s/it]"
          ],
          "name": "stderr"
        },
        {
          "output_type": "stream",
          "text": [
            "Aside from airport expansion in the middle of a climate crisis and pandemic, what's with the ominous red glow? Feels like an impending boss fight @MCRCycleSam\n",
            "['emergency', 'emission', 'temperature', 'politics', 'advertisment', 'renewable']\n",
            "[0.6200771927833557, 0.17895352840423584, 0.11990289390087128, 0.06293582171201706, 0.014192141592502594, 0.003938415553420782]\n",
            "\n",
            "\n"
          ],
          "name": "stdout"
        },
        {
          "output_type": "stream",
          "text": [
            " 88%|████████▊ | 441/500 [32:05<03:00,  3.06s/it]"
          ],
          "name": "stderr"
        },
        {
          "output_type": "stream",
          "text": [
            "Perennial Vegetables Are a Solution in the Fight Against Hunger and Climate Change \n",
            "['renewable', 'emission', 'emergency', 'advertisment', 'temperature', 'politics']\n",
            "[0.8596188426017761, 0.042607832700014114, 0.033667199313640594, 0.03256342187523842, 0.022922346368432045, 0.008620401844382286]\n",
            "\n",
            "\n"
          ],
          "name": "stdout"
        },
        {
          "output_type": "stream",
          "text": [
            "\r 88%|████████▊ | 442/500 [32:07<02:42,  2.81s/it]"
          ],
          "name": "stderr"
        },
        {
          "output_type": "stream",
          "text": [
            "I just backed This Place Will Burn to fight climate change on @Kickstarter\n",
            "['emission', 'temperature', 'emergency', 'advertisment', 'politics', 'renewable']\n",
            "[0.6657156944274902, 0.18738985061645508, 0.07352140545845032, 0.05056460574269295, 0.013133113272488117, 0.009675400331616402]\n",
            "\n",
            "\n"
          ],
          "name": "stdout"
        },
        {
          "output_type": "stream",
          "text": [
            " 90%|█████████ | 450/500 [32:50<03:46,  4.53s/it]"
          ],
          "name": "stderr"
        },
        {
          "output_type": "stream",
          "text": [
            "Does she even support those though? Last I checked, her and Biden are not at all supporting m4A and are giving up on some of their climate change fight as well.\n",
            "['politics', 'advertisment', 'emergency', 'emission', 'temperature', 'renewable']\n",
            "[0.7692804336547852, 0.05963495746254921, 0.058742593973875046, 0.043911658227443695, 0.040447067469358444, 0.027983246371150017]\n",
            "\n",
            "\n"
          ],
          "name": "stdout"
        },
        {
          "output_type": "stream",
          "text": [
            " 90%|█████████ | 452/500 [32:58<03:41,  4.60s/it]"
          ],
          "name": "stderr"
        },
        {
          "output_type": "stream",
          "text": [
            "Who \"owns\" the Nile? A fight over the world’s longest river is a preview of climate change diplomacy. https://slate.com/news-and-politics/2020/08/ethiopian-renaissance-dam-egypt-sudan-nile.html via @slate\n",
            "['politics', 'emission', 'renewable', 'temperature', 'emergency', 'advertisment']\n",
            "[0.6431799530982971, 0.16451598703861237, 0.08281276375055313, 0.05735623463988304, 0.03086051158607006, 0.021274613216519356]\n",
            "\n",
            "\n"
          ],
          "name": "stdout"
        },
        {
          "output_type": "stream",
          "text": [
            " 91%|█████████ | 455/500 [33:10<03:05,  4.12s/it]"
          ],
          "name": "stderr"
        },
        {
          "output_type": "stream",
          "text": [
            "The financial sector, with its deep resources and experience in managing risk, must be at the center of the fight against #climate change. Read more from our CEO Mike Corbat in @CNNBusiness:\n",
            "['emission', 'temperature', 'advertisment', 'emergency', 'renewable', 'politics']\n",
            "[0.5064694285392761, 0.21705441176891327, 0.10073911398649216, 0.09917441010475159, 0.05992870405316353, 0.01663394458591938]\n",
            "\n",
            "\n"
          ],
          "name": "stdout"
        },
        {
          "output_type": "stream",
          "text": [
            " 92%|█████████▏| 460/500 [33:31<02:45,  4.14s/it]"
          ],
          "name": "stderr"
        },
        {
          "output_type": "stream",
          "text": [
            "As a native Californian, I’m deeply saddened by the political climate here. Many of us are staying and will fight to make California red again! Californians for California! It’s worth fighting for!\n",
            "['politics', 'renewable', 'emergency', 'emission', 'temperature', 'advertisment']\n",
            "[0.85190349817276, 0.03670182079076767, 0.03614969924092293, 0.029964324086904526, 0.023836541920900345, 0.021444140002131462]\n",
            "\n",
            "\n"
          ],
          "name": "stdout"
        },
        {
          "output_type": "stream",
          "text": [
            " 93%|█████████▎| 466/500 [33:56<02:20,  4.12s/it]"
          ],
          "name": "stderr"
        },
        {
          "output_type": "stream",
          "text": [
            "It’s not too late to fight climate change with a tax on carbon that could help to change the behavior of millions of people, @econnaturalist says\n",
            "['emission', 'emergency', 'advertisment', 'temperature', 'renewable', 'politics']\n",
            "[0.6748930811882019, 0.1039927676320076, 0.06322983652353287, 0.06114158034324646, 0.049539338797330856, 0.04720340669155121]\n",
            "\n",
            "\n"
          ],
          "name": "stdout"
        },
        {
          "output_type": "stream",
          "text": [
            " 94%|█████████▍| 469/500 [34:12<02:26,  4.74s/it]"
          ],
          "name": "stderr"
        },
        {
          "output_type": "stream",
          "text": [
            "Again @Hickenlooper now is a really great time to endorse the #GreenNewDeal our state is being decimated by wildfires, we are in a pandemic, an economic crisis. It’s time to fight the climate crisis and creat millions of good jobs\n",
            "['emergency', 'politics', 'advertisment', 'emission', 'temperature', 'renewable']\n",
            "[0.7845265865325928, 0.10739287734031677, 0.03976330906152725, 0.028861014172434807, 0.02322373539209366, 0.016232483088970184]\n",
            "\n",
            "\n"
          ],
          "name": "stdout"
        },
        {
          "output_type": "stream",
          "text": [
            " 95%|█████████▍| 473/500 [34:26<01:43,  3.85s/it]"
          ],
          "name": "stderr"
        },
        {
          "output_type": "stream",
          "text": [
            "Switching the carbon tax rebate to a direct payment will help us reduce our emissions, and save money. Time to upgrade the best economic tool we have to fight climate change. \n",
            "['emission', 'emergency', 'advertisment', 'renewable', 'temperature', 'politics']\n",
            "[0.7714185118675232, 0.05934052914381027, 0.0513545386493206, 0.050862785428762436, 0.04684043675661087, 0.02018321119248867]\n",
            "\n",
            "\n"
          ],
          "name": "stdout"
        },
        {
          "output_type": "stream",
          "text": [
            " 95%|█████████▌| 475/500 [34:32<01:26,  3.47s/it]"
          ],
          "name": "stderr"
        },
        {
          "output_type": "stream",
          "text": [
            "\"Increased bicycle commuting remains a key part of the city’s efforts to fight greenhouse gas emissions.\" Yes, another key strategy to keep us from going over the climate cliff \n",
            "['emission', 'emergency', 'advertisment', 'renewable', 'temperature', 'politics']\n",
            "[0.8604372143745422, 0.06079988554120064, 0.044029708951711655, 0.015036878176033497, 0.010874565690755844, 0.008821731433272362]\n",
            "\n",
            "\n"
          ],
          "name": "stdout"
        },
        {
          "output_type": "stream",
          "text": [
            " 95%|█████████▌| 477/500 [34:42<01:36,  4.20s/it]"
          ],
          "name": "stderr"
        },
        {
          "output_type": "stream",
          "text": [
            "As James Hansen said, the climate crisis won't be solved at the ballot box. I would add you gotta take the fight to them, whoever wins cos Dems in power are phoney and two-faced on critical policy decisions, It's their corporate donors. So obvious,dunno why Americans don't get it\n",
            "['politics', 'emergency', 'temperature', 'emission', 'renewable', 'advertisment']\n",
            "[0.6770272850990295, 0.10990357398986816, 0.09821616858243942, 0.050182048231363297, 0.036200836300849915, 0.028470205143094063]\n",
            "\n",
            "\n"
          ],
          "name": "stdout"
        },
        {
          "output_type": "stream",
          "text": [
            "\r 96%|█████████▌| 478/500 [34:48<01:42,  4.65s/it]"
          ],
          "name": "stderr"
        },
        {
          "output_type": "stream",
          "text": [
            "@jaredpolis it's time to get more aggressive in the fight against climate change. We need to: -crack down on suncor and big corporate polluters -reduce the oil&amp; gas extraction -more funding for mass transit projects like front range rail &amp; bustang routes -raise the gas tax!\n",
            "['emission', 'emergency', 'politics', 'advertisment', 'temperature', 'renewable']\n",
            "[0.5492960810661316, 0.1811409741640091, 0.08475582301616669, 0.07843217998743057, 0.07551219314336777, 0.030862757936120033]\n",
            "\n",
            "\n"
          ],
          "name": "stdout"
        },
        {
          "output_type": "stream",
          "text": [
            "\r 96%|█████████▌| 479/500 [34:53<01:43,  4.95s/it]"
          ],
          "name": "stderr"
        },
        {
          "output_type": "stream",
          "text": [
            "Lamenting the loss of acres of redwoods & thinking of theppl who are evacuating their homes including my in-laws during a pandemic. @KamalaHarris @SenKamalaHarris as the half of the ticket who still represents CA please fight for #TheGreenNewDeal because climate change is here \n",
            "['emergency', 'politics', 'emission', 'renewable', 'advertisment', 'temperature']\n",
            "[0.5289670825004578, 0.273266077041626, 0.10042992234230042, 0.0488395020365715, 0.030525093898177147, 0.017972277477383614]\n",
            "\n",
            "\n"
          ],
          "name": "stdout"
        },
        {
          "output_type": "stream",
          "text": [
            "\r 96%|█████████▌| 480/500 [34:56<01:24,  4.23s/it]"
          ],
          "name": "stderr"
        },
        {
          "output_type": "stream",
          "text": [
            "Greta Thunberg Says Political Inaction Has Wasted Two Years In Climate Change Fight \n",
            "['politics', 'emission', 'emergency', 'temperature', 'renewable', 'advertisment']\n",
            "[0.814746081829071, 0.06648397445678711, 0.0461871474981308, 0.0309622623026371, 0.02930973656475544, 0.012310747057199478]\n",
            "\n",
            "\n"
          ],
          "name": "stdout"
        },
        {
          "output_type": "stream",
          "text": [
            " 97%|█████████▋| 483/500 [35:08<01:10,  4.18s/it]"
          ],
          "name": "stderr"
        },
        {
          "output_type": "stream",
          "text": [
            "As a representative, Joe will fight for climate action, for progressive policy that puts working families first, and for governance that is accessible and transparent to all Massachusetts residents. We're proud to endorse him for Rep in the 16th Suffolk.\n",
            "['politics', 'temperature', 'emission', 'renewable', 'advertisment', 'emergency']\n",
            "[0.5471245646476746, 0.24467730522155762, 0.10378678888082504, 0.04400689899921417, 0.03237958997488022, 0.028024956583976746]\n",
            "\n",
            "\n"
          ],
          "name": "stdout"
        },
        {
          "output_type": "stream",
          "text": [
            " 97%|█████████▋| 486/500 [35:22<00:59,  4.22s/it]"
          ],
          "name": "stderr"
        },
        {
          "output_type": "stream",
          "text": [
            "How much environmental sacrifice is acceptable — or even necessary — in the fight against climate change? #GlobalCarbonFeeAndDividendPetition\n",
            "['emission', 'advertisment', 'emergency', 'temperature', 'politics', 'renewable']\n",
            "[0.6698881387710571, 0.09081771969795227, 0.08194037526845932, 0.06518259644508362, 0.05726493522524834, 0.03490626811981201]\n",
            "\n",
            "\n"
          ],
          "name": "stdout"
        },
        {
          "output_type": "stream",
          "text": [
            " 98%|█████████▊| 490/500 [35:42<00:48,  4.89s/it]"
          ],
          "name": "stderr"
        },
        {
          "output_type": "stream",
          "text": [
            "Harnessing Task Force on Climate-Related Financial Disclosures is now oftern required to access capital for listed RE to fight climate change as it's increasingly demanded by investors. Find out how EPRA members can use sBPR to aid in their reporting of TCFD in the @RICS Journal.\n",
            "['renewable', 'emergency', 'advertisment', 'emission', 'temperature', 'politics']\n",
            "[0.5340985059738159, 0.15055514872074127, 0.11598269641399384, 0.10193517059087753, 0.061933908611536026, 0.03549453243613243]\n",
            "\n",
            "\n"
          ],
          "name": "stdout"
        },
        {
          "output_type": "stream",
          "text": [
            " 99%|█████████▉| 494/500 [36:01<00:28,  4.68s/it]"
          ],
          "name": "stderr"
        },
        {
          "output_type": "stream",
          "text": [
            "CALIFORNIA: Former Republican gov Schwarzenegger challenging Gym Jordan to a WWA-style fight (proceeds to fund climate change advocacy), the loser promising to keep his mouth shut until after the election.\n",
            "['politics', 'emission', 'temperature', 'emergency', 'advertisment', 'renewable']\n",
            "[0.6685748100280762, 0.1768607199192047, 0.05678330361843109, 0.04115566983819008, 0.03981684520840645, 0.016808578744530678]\n",
            "\n",
            "\n"
          ],
          "name": "stdout"
        },
        {
          "output_type": "stream",
          "text": [
            "\r 99%|█████████▉| 495/500 [36:03<00:19,  3.96s/it]"
          ],
          "name": "stderr"
        },
        {
          "output_type": "stream",
          "text": [
            "A simpler, more useful way to tax carbon to fight climate change - Vox \n",
            "['emission', 'advertisment', 'emergency', 'renewable', 'politics', 'temperature']\n",
            "[0.8124929666519165, 0.07013890892267227, 0.03742324933409691, 0.033405352383852005, 0.02620396949350834, 0.02033560536801815]\n",
            "\n",
            "\n"
          ],
          "name": "stdout"
        },
        {
          "output_type": "stream",
          "text": [
            "\r 99%|█████████▉| 496/500 [36:06<00:14,  3.71s/it]"
          ],
          "name": "stderr"
        },
        {
          "output_type": "stream",
          "text": [
            "#California is literally on fire. Climate change is to blame. Are you ready to join us in our fight against it? #ClimateEmergency\n",
            "['emergency', 'emission', 'temperature', 'advertisment', 'renewable', 'politics']\n",
            "[0.8337032794952393, 0.08786626905202866, 0.02925861068069935, 0.027915282174944878, 0.012897530570626259, 0.008358950726687908]\n",
            "\n",
            "\n"
          ],
          "name": "stdout"
        },
        {
          "output_type": "stream",
          "text": [
            "\r 99%|█████████▉| 497/500 [36:11<00:11,  3.94s/it]"
          ],
          "name": "stderr"
        },
        {
          "output_type": "stream",
          "text": [
            "The Great Green Wall of Africa: Will it help fight climate change? BBC Newsnight https://youtu.be/HVOYN70scS8 , avoid buying garbage, #HeatWave, say hi to @energyaction\n",
            "['temperature', 'emission', 'renewable', 'emergency', 'advertisment', 'politics']\n",
            "[0.6885669827461243, 0.17687924206256866, 0.06372252106666565, 0.030645549297332764, 0.02768663875758648, 0.012499132193624973]\n",
            "\n",
            "\n"
          ],
          "name": "stdout"
        },
        {
          "output_type": "stream",
          "text": [
            "100%|█████████▉| 499/500 [36:21<00:04,  4.50s/it]"
          ],
          "name": "stderr"
        },
        {
          "output_type": "stream",
          "text": [
            ".@mjhegar is a former Air Force Fighter Pilot who tirelessly fought for women's rights in the military. As a senator she'd do the same to expand medicare, fight climate change, reform immigration, and put families first. \n",
            "['politics', 'emission', 'emergency', 'renewable', 'temperature', 'advertisment']\n",
            "[0.676448404788971, 0.08532419055700302, 0.06831615418195724, 0.06422755122184753, 0.05540814250707626, 0.05027550831437111]\n",
            "\n",
            "\n"
          ],
          "name": "stdout"
        },
        {
          "output_type": "stream",
          "text": [
            "100%|██████████| 500/500 [36:25<00:00,  4.37s/it]"
          ],
          "name": "stderr"
        },
        {
          "output_type": "stream",
          "text": [
            "[14, 58, 36, 10, 40, 2]\n"
          ],
          "name": "stdout"
        },
        {
          "output_type": "stream",
          "text": [
            "\n"
          ],
          "name": "stderr"
        }
      ]
    },
    {
      "cell_type": "code",
      "metadata": {
        "pycharm": {
          "name": "#%%\n"
        },
        "id": "CofyAe26fKJL",
        "colab_type": "code",
        "colab": {
          "base_uri": "https://localhost:8080/",
          "height": 235
        },
        "outputId": "21c095da-cb95-438c-b713-5383aa0fb210"
      },
      "source": [
        "data = {'labels': candidate_labels,\n",
        "        'values': candidate_results}\n",
        "\n",
        "df_chart = pd.DataFrame(data, columns=['labels','values'])\n",
        "\n",
        "df_chart.head(10)"
      ],
      "execution_count": null,
      "outputs": [
        {
          "output_type": "execute_result",
          "data": {
            "text/html": [
              "<div>\n",
              "<style scoped>\n",
              "    .dataframe tbody tr th:only-of-type {\n",
              "        vertical-align: middle;\n",
              "    }\n",
              "\n",
              "    .dataframe tbody tr th {\n",
              "        vertical-align: top;\n",
              "    }\n",
              "\n",
              "    .dataframe thead th {\n",
              "        text-align: right;\n",
              "    }\n",
              "</style>\n",
              "<table border=\"1\" class=\"dataframe\">\n",
              "  <thead>\n",
              "    <tr style=\"text-align: right;\">\n",
              "      <th></th>\n",
              "      <th>labels</th>\n",
              "      <th>values</th>\n",
              "    </tr>\n",
              "  </thead>\n",
              "  <tbody>\n",
              "    <tr>\n",
              "      <th>0</th>\n",
              "      <td>renewable</td>\n",
              "      <td>14</td>\n",
              "    </tr>\n",
              "    <tr>\n",
              "      <th>1</th>\n",
              "      <td>politics</td>\n",
              "      <td>58</td>\n",
              "    </tr>\n",
              "    <tr>\n",
              "      <th>2</th>\n",
              "      <td>emission</td>\n",
              "      <td>36</td>\n",
              "    </tr>\n",
              "    <tr>\n",
              "      <th>3</th>\n",
              "      <td>temperature</td>\n",
              "      <td>10</td>\n",
              "    </tr>\n",
              "    <tr>\n",
              "      <th>4</th>\n",
              "      <td>emergency</td>\n",
              "      <td>40</td>\n",
              "    </tr>\n",
              "    <tr>\n",
              "      <th>5</th>\n",
              "      <td>advertisment</td>\n",
              "      <td>2</td>\n",
              "    </tr>\n",
              "  </tbody>\n",
              "</table>\n",
              "</div>"
            ],
            "text/plain": [
              "         labels  values\n",
              "0     renewable      14\n",
              "1      politics      58\n",
              "2      emission      36\n",
              "3   temperature      10\n",
              "4     emergency      40\n",
              "5  advertisment       2"
            ]
          },
          "metadata": {
            "tags": []
          },
          "execution_count": 8
        }
      ]
    },
    {
      "cell_type": "code",
      "metadata": {
        "pycharm": {
          "name": "#%%\n"
        },
        "id": "CWo0QXpLfKJN",
        "colab_type": "code",
        "colab": {
          "base_uri": "https://localhost:8080/",
          "height": 297
        },
        "outputId": "3e8dd127-73cd-4fd4-c226-5971468ef9da"
      },
      "source": [
        "sns.barplot(data = df_chart\n",
        "            ,x = 'labels'\n",
        "            ,y = 'values'\n",
        "            )"
      ],
      "execution_count": null,
      "outputs": [
        {
          "output_type": "execute_result",
          "data": {
            "text/plain": [
              "<matplotlib.axes._subplots.AxesSubplot at 0x7f040f685400>"
            ]
          },
          "metadata": {
            "tags": []
          },
          "execution_count": 9
        },
        {
          "output_type": "display_data",
          "data": {
            "image/png": "[encoded data removed]",
            "text/plain": [
              "<Figure size 432x288 with 1 Axes>"
            ]
          },
          "metadata": {
            "tags": [],
            "needs_background": "light"
          }
        }
      ]
    },
    {
      "cell_type": "code",
      "metadata": {
        "pycharm": {
          "name": "#%%\n"
        },
        "id": "lqxUtcbPfKJQ",
        "colab_type": "code",
        "colab": {}
      },
      "source": [
        ""
      ],
      "execution_count": null,
      "outputs": []
    }
  ]
}